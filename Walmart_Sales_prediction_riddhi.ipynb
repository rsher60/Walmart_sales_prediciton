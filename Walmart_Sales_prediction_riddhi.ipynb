{
  "nbformat": 4,
  "nbformat_minor": 0,
  "metadata": {
    "colab": {
      "name": "Walmart_Sales_prediction_riddhi.ipynb",
      "provenance": [],
      "collapsed_sections": [],
      "machine_shape": "hm",
      "authorship_tag": "ABX9TyMv4Kac8dIIrRiQX1x4L2Zb",
      "include_colab_link": true
    },
    "kernelspec": {
      "name": "python3",
      "display_name": "Python 3"
    },
    "accelerator": "TPU"
  },
  "cells": [
    {
      "cell_type": "markdown",
      "metadata": {
        "id": "view-in-github",
        "colab_type": "text"
      },
      "source": [
        "<a href=\"https://colab.research.google.com/github/rsher60/Walmart_sales_prediciton/blob/master/Walmart_Sales_prediction_riddhi.ipynb\" target=\"_parent\"><img src=\"https://colab.research.google.com/assets/colab-badge.svg\" alt=\"Open In Colab\"/></a>"
      ]
    },
    {
      "cell_type": "code",
      "metadata": {
        "id": "cRmxlwPJQ8pa",
        "colab_type": "code",
        "colab": {}
      },
      "source": [
        "\n",
        "import numpy as np\n",
        "import pandas as pd\n",
        "import matplotlib.pyplot as plt\n",
        "import seaborn as sns\n",
        "from sklearn.preprocessing import LabelEncoder , StandardScaler \n",
        "from sklearn.model_selection import train_test_split \n",
        "from sklearn.ensemble import RandomForestRegressor\n",
        "from sklearn.metrics import mean_absolute_error,mean_squared_error\n"
      ],
      "execution_count": 0,
      "outputs": []
    },
    {
      "cell_type": "code",
      "metadata": {
        "id": "YrzHEPtjRN-s",
        "colab_type": "code",
        "outputId": "34155c7b-d3c7-4e7b-e6a5-d6c602359495",
        "colab": {
          "base_uri": "https://localhost:8080/",
          "height": 34
        }
      },
      "source": [
        "from google.colab import drive\n",
        "\n",
        "drive.mount('/content/gdrive')"
      ],
      "execution_count": 130,
      "outputs": [
        {
          "output_type": "stream",
          "text": [
            "Drive already mounted at /content/gdrive; to attempt to forcibly remount, call drive.mount(\"/content/gdrive\", force_remount=True).\n"
          ],
          "name": "stdout"
        }
      ]
    },
    {
      "cell_type": "code",
      "metadata": {
        "id": "XuIoXaMiFfoz",
        "colab_type": "code",
        "colab": {}
      },
      "source": [
        ""
      ],
      "execution_count": 0,
      "outputs": []
    },
    {
      "cell_type": "code",
      "metadata": {
        "id": "-nrieelnRObY",
        "colab_type": "code",
        "colab": {}
      },
      "source": [
        "train_data=pd.read_csv('gdrive/My Drive/train.csv')"
      ],
      "execution_count": 0,
      "outputs": []
    },
    {
      "cell_type": "code",
      "metadata": {
        "id": "XLOBFWn5RdII",
        "colab_type": "code",
        "colab": {}
      },
      "source": [
        "features = pd.read_csv('gdrive/My Drive/features.csv')"
      ],
      "execution_count": 0,
      "outputs": []
    },
    {
      "cell_type": "code",
      "metadata": {
        "id": "b8bnKOgWRhmn",
        "colab_type": "code",
        "colab": {}
      },
      "source": [
        "stores = pd.read_csv('gdrive/My Drive/stores.csv')"
      ],
      "execution_count": 0,
      "outputs": []
    },
    {
      "cell_type": "code",
      "metadata": {
        "id": "t6XZwq-HRjkP",
        "colab_type": "code",
        "colab": {}
      },
      "source": [
        "df_main = pd.merge(train_data, features, how='left')"
      ],
      "execution_count": 0,
      "outputs": []
    },
    {
      "cell_type": "code",
      "metadata": {
        "id": "fWUA76j_Rlof",
        "colab_type": "code",
        "colab": {}
      },
      "source": [
        "df_main2 = pd.merge(df_main,stores, how='left')"
      ],
      "execution_count": 0,
      "outputs": []
    },
    {
      "cell_type": "code",
      "metadata": {
        "id": "MzSker-cRnuu",
        "colab_type": "code",
        "outputId": "12bba342-6f73-4f49-ee6f-69861dc5489a",
        "colab": {
          "base_uri": "https://localhost:8080/",
          "height": 204
        }
      },
      "source": [
        "df_main2.head()"
      ],
      "execution_count": 148,
      "outputs": [
        {
          "output_type": "execute_result",
          "data": {
            "text/html": [
              "<div>\n",
              "<style scoped>\n",
              "    .dataframe tbody tr th:only-of-type {\n",
              "        vertical-align: middle;\n",
              "    }\n",
              "\n",
              "    .dataframe tbody tr th {\n",
              "        vertical-align: top;\n",
              "    }\n",
              "\n",
              "    .dataframe thead th {\n",
              "        text-align: right;\n",
              "    }\n",
              "</style>\n",
              "<table border=\"1\" class=\"dataframe\">\n",
              "  <thead>\n",
              "    <tr style=\"text-align: right;\">\n",
              "      <th></th>\n",
              "      <th>Store</th>\n",
              "      <th>Dept</th>\n",
              "      <th>Date</th>\n",
              "      <th>Weekly_Sales</th>\n",
              "      <th>IsHoliday</th>\n",
              "      <th>Temperature</th>\n",
              "      <th>Fuel_Price</th>\n",
              "      <th>MarkDown1</th>\n",
              "      <th>MarkDown2</th>\n",
              "      <th>MarkDown3</th>\n",
              "      <th>MarkDown4</th>\n",
              "      <th>MarkDown5</th>\n",
              "      <th>CPI</th>\n",
              "      <th>Unemployment</th>\n",
              "      <th>Type</th>\n",
              "      <th>Size</th>\n",
              "    </tr>\n",
              "  </thead>\n",
              "  <tbody>\n",
              "    <tr>\n",
              "      <th>0</th>\n",
              "      <td>1</td>\n",
              "      <td>1</td>\n",
              "      <td>2010-02-05</td>\n",
              "      <td>24924.50</td>\n",
              "      <td>False</td>\n",
              "      <td>42.31</td>\n",
              "      <td>2.572</td>\n",
              "      <td>NaN</td>\n",
              "      <td>NaN</td>\n",
              "      <td>NaN</td>\n",
              "      <td>NaN</td>\n",
              "      <td>NaN</td>\n",
              "      <td>211.096358</td>\n",
              "      <td>8.106</td>\n",
              "      <td>A</td>\n",
              "      <td>151315</td>\n",
              "    </tr>\n",
              "    <tr>\n",
              "      <th>1</th>\n",
              "      <td>1</td>\n",
              "      <td>1</td>\n",
              "      <td>2010-02-12</td>\n",
              "      <td>46039.49</td>\n",
              "      <td>True</td>\n",
              "      <td>38.51</td>\n",
              "      <td>2.548</td>\n",
              "      <td>NaN</td>\n",
              "      <td>NaN</td>\n",
              "      <td>NaN</td>\n",
              "      <td>NaN</td>\n",
              "      <td>NaN</td>\n",
              "      <td>211.242170</td>\n",
              "      <td>8.106</td>\n",
              "      <td>A</td>\n",
              "      <td>151315</td>\n",
              "    </tr>\n",
              "    <tr>\n",
              "      <th>2</th>\n",
              "      <td>1</td>\n",
              "      <td>1</td>\n",
              "      <td>2010-02-19</td>\n",
              "      <td>41595.55</td>\n",
              "      <td>False</td>\n",
              "      <td>39.93</td>\n",
              "      <td>2.514</td>\n",
              "      <td>NaN</td>\n",
              "      <td>NaN</td>\n",
              "      <td>NaN</td>\n",
              "      <td>NaN</td>\n",
              "      <td>NaN</td>\n",
              "      <td>211.289143</td>\n",
              "      <td>8.106</td>\n",
              "      <td>A</td>\n",
              "      <td>151315</td>\n",
              "    </tr>\n",
              "    <tr>\n",
              "      <th>3</th>\n",
              "      <td>1</td>\n",
              "      <td>1</td>\n",
              "      <td>2010-02-26</td>\n",
              "      <td>19403.54</td>\n",
              "      <td>False</td>\n",
              "      <td>46.63</td>\n",
              "      <td>2.561</td>\n",
              "      <td>NaN</td>\n",
              "      <td>NaN</td>\n",
              "      <td>NaN</td>\n",
              "      <td>NaN</td>\n",
              "      <td>NaN</td>\n",
              "      <td>211.319643</td>\n",
              "      <td>8.106</td>\n",
              "      <td>A</td>\n",
              "      <td>151315</td>\n",
              "    </tr>\n",
              "    <tr>\n",
              "      <th>4</th>\n",
              "      <td>1</td>\n",
              "      <td>1</td>\n",
              "      <td>2010-03-05</td>\n",
              "      <td>21827.90</td>\n",
              "      <td>False</td>\n",
              "      <td>46.50</td>\n",
              "      <td>2.625</td>\n",
              "      <td>NaN</td>\n",
              "      <td>NaN</td>\n",
              "      <td>NaN</td>\n",
              "      <td>NaN</td>\n",
              "      <td>NaN</td>\n",
              "      <td>211.350143</td>\n",
              "      <td>8.106</td>\n",
              "      <td>A</td>\n",
              "      <td>151315</td>\n",
              "    </tr>\n",
              "  </tbody>\n",
              "</table>\n",
              "</div>"
            ],
            "text/plain": [
              "   Store  Dept        Date  Weekly_Sales  ...         CPI  Unemployment  Type    Size\n",
              "0      1     1  2010-02-05      24924.50  ...  211.096358         8.106     A  151315\n",
              "1      1     1  2010-02-12      46039.49  ...  211.242170         8.106     A  151315\n",
              "2      1     1  2010-02-19      41595.55  ...  211.289143         8.106     A  151315\n",
              "3      1     1  2010-02-26      19403.54  ...  211.319643         8.106     A  151315\n",
              "4      1     1  2010-03-05      21827.90  ...  211.350143         8.106     A  151315\n",
              "\n",
              "[5 rows x 16 columns]"
            ]
          },
          "metadata": {
            "tags": []
          },
          "execution_count": 148
        }
      ]
    },
    {
      "cell_type": "code",
      "metadata": {
        "id": "A2RNzLJ-UpJA",
        "colab_type": "code",
        "outputId": "c9c90fdc-2a29-48eb-e6e8-d470442a8fa6",
        "colab": {
          "base_uri": "https://localhost:8080/",
          "height": 297
        }
      },
      "source": [
        "df_main2.describe()"
      ],
      "execution_count": 149,
      "outputs": [
        {
          "output_type": "execute_result",
          "data": {
            "text/html": [
              "<div>\n",
              "<style scoped>\n",
              "    .dataframe tbody tr th:only-of-type {\n",
              "        vertical-align: middle;\n",
              "    }\n",
              "\n",
              "    .dataframe tbody tr th {\n",
              "        vertical-align: top;\n",
              "    }\n",
              "\n",
              "    .dataframe thead th {\n",
              "        text-align: right;\n",
              "    }\n",
              "</style>\n",
              "<table border=\"1\" class=\"dataframe\">\n",
              "  <thead>\n",
              "    <tr style=\"text-align: right;\">\n",
              "      <th></th>\n",
              "      <th>Store</th>\n",
              "      <th>Dept</th>\n",
              "      <th>Weekly_Sales</th>\n",
              "      <th>Temperature</th>\n",
              "      <th>Fuel_Price</th>\n",
              "      <th>MarkDown1</th>\n",
              "      <th>MarkDown2</th>\n",
              "      <th>MarkDown3</th>\n",
              "      <th>MarkDown4</th>\n",
              "      <th>MarkDown5</th>\n",
              "      <th>CPI</th>\n",
              "      <th>Unemployment</th>\n",
              "      <th>Size</th>\n",
              "    </tr>\n",
              "  </thead>\n",
              "  <tbody>\n",
              "    <tr>\n",
              "      <th>count</th>\n",
              "      <td>421570.000000</td>\n",
              "      <td>421570.000000</td>\n",
              "      <td>421570.000000</td>\n",
              "      <td>421570.000000</td>\n",
              "      <td>421570.000000</td>\n",
              "      <td>150681.000000</td>\n",
              "      <td>111248.000000</td>\n",
              "      <td>137091.000000</td>\n",
              "      <td>134967.000000</td>\n",
              "      <td>151432.000000</td>\n",
              "      <td>421570.000000</td>\n",
              "      <td>421570.000000</td>\n",
              "      <td>421570.000000</td>\n",
              "    </tr>\n",
              "    <tr>\n",
              "      <th>mean</th>\n",
              "      <td>22.200546</td>\n",
              "      <td>44.260317</td>\n",
              "      <td>15981.258123</td>\n",
              "      <td>60.090059</td>\n",
              "      <td>3.361027</td>\n",
              "      <td>7246.420196</td>\n",
              "      <td>3334.628621</td>\n",
              "      <td>1439.421384</td>\n",
              "      <td>3383.168256</td>\n",
              "      <td>4628.975079</td>\n",
              "      <td>171.201947</td>\n",
              "      <td>7.960289</td>\n",
              "      <td>136727.915739</td>\n",
              "    </tr>\n",
              "    <tr>\n",
              "      <th>std</th>\n",
              "      <td>12.785297</td>\n",
              "      <td>30.492054</td>\n",
              "      <td>22711.183519</td>\n",
              "      <td>18.447931</td>\n",
              "      <td>0.458515</td>\n",
              "      <td>8291.221345</td>\n",
              "      <td>9475.357325</td>\n",
              "      <td>9623.078290</td>\n",
              "      <td>6292.384031</td>\n",
              "      <td>5962.887455</td>\n",
              "      <td>39.159276</td>\n",
              "      <td>1.863296</td>\n",
              "      <td>60980.583328</td>\n",
              "    </tr>\n",
              "    <tr>\n",
              "      <th>min</th>\n",
              "      <td>1.000000</td>\n",
              "      <td>1.000000</td>\n",
              "      <td>-4988.940000</td>\n",
              "      <td>-2.060000</td>\n",
              "      <td>2.472000</td>\n",
              "      <td>0.270000</td>\n",
              "      <td>-265.760000</td>\n",
              "      <td>-29.100000</td>\n",
              "      <td>0.220000</td>\n",
              "      <td>135.160000</td>\n",
              "      <td>126.064000</td>\n",
              "      <td>3.879000</td>\n",
              "      <td>34875.000000</td>\n",
              "    </tr>\n",
              "    <tr>\n",
              "      <th>25%</th>\n",
              "      <td>11.000000</td>\n",
              "      <td>18.000000</td>\n",
              "      <td>2079.650000</td>\n",
              "      <td>46.680000</td>\n",
              "      <td>2.933000</td>\n",
              "      <td>2240.270000</td>\n",
              "      <td>41.600000</td>\n",
              "      <td>5.080000</td>\n",
              "      <td>504.220000</td>\n",
              "      <td>1878.440000</td>\n",
              "      <td>132.022667</td>\n",
              "      <td>6.891000</td>\n",
              "      <td>93638.000000</td>\n",
              "    </tr>\n",
              "    <tr>\n",
              "      <th>50%</th>\n",
              "      <td>22.000000</td>\n",
              "      <td>37.000000</td>\n",
              "      <td>7612.030000</td>\n",
              "      <td>62.090000</td>\n",
              "      <td>3.452000</td>\n",
              "      <td>5347.450000</td>\n",
              "      <td>192.000000</td>\n",
              "      <td>24.600000</td>\n",
              "      <td>1481.310000</td>\n",
              "      <td>3359.450000</td>\n",
              "      <td>182.318780</td>\n",
              "      <td>7.866000</td>\n",
              "      <td>140167.000000</td>\n",
              "    </tr>\n",
              "    <tr>\n",
              "      <th>75%</th>\n",
              "      <td>33.000000</td>\n",
              "      <td>74.000000</td>\n",
              "      <td>20205.852500</td>\n",
              "      <td>74.280000</td>\n",
              "      <td>3.738000</td>\n",
              "      <td>9210.900000</td>\n",
              "      <td>1926.940000</td>\n",
              "      <td>103.990000</td>\n",
              "      <td>3595.040000</td>\n",
              "      <td>5563.800000</td>\n",
              "      <td>212.416993</td>\n",
              "      <td>8.572000</td>\n",
              "      <td>202505.000000</td>\n",
              "    </tr>\n",
              "    <tr>\n",
              "      <th>max</th>\n",
              "      <td>45.000000</td>\n",
              "      <td>99.000000</td>\n",
              "      <td>693099.360000</td>\n",
              "      <td>100.140000</td>\n",
              "      <td>4.468000</td>\n",
              "      <td>88646.760000</td>\n",
              "      <td>104519.540000</td>\n",
              "      <td>141630.610000</td>\n",
              "      <td>67474.850000</td>\n",
              "      <td>108519.280000</td>\n",
              "      <td>227.232807</td>\n",
              "      <td>14.313000</td>\n",
              "      <td>219622.000000</td>\n",
              "    </tr>\n",
              "  </tbody>\n",
              "</table>\n",
              "</div>"
            ],
            "text/plain": [
              "               Store           Dept  ...   Unemployment           Size\n",
              "count  421570.000000  421570.000000  ...  421570.000000  421570.000000\n",
              "mean       22.200546      44.260317  ...       7.960289  136727.915739\n",
              "std        12.785297      30.492054  ...       1.863296   60980.583328\n",
              "min         1.000000       1.000000  ...       3.879000   34875.000000\n",
              "25%        11.000000      18.000000  ...       6.891000   93638.000000\n",
              "50%        22.000000      37.000000  ...       7.866000  140167.000000\n",
              "75%        33.000000      74.000000  ...       8.572000  202505.000000\n",
              "max        45.000000      99.000000  ...      14.313000  219622.000000\n",
              "\n",
              "[8 rows x 13 columns]"
            ]
          },
          "metadata": {
            "tags": []
          },
          "execution_count": 149
        }
      ]
    },
    {
      "cell_type": "code",
      "metadata": {
        "id": "EeRN_WxtGIU7",
        "colab_type": "code",
        "colab": {
          "base_uri": "https://localhost:8080/",
          "height": 282
        },
        "outputId": "d3c5bb99-188e-4e41-c13d-a4d11c416ec4"
      },
      "source": [
        "df_main2['Unemployment'].plot.hist()"
      ],
      "execution_count": 150,
      "outputs": [
        {
          "output_type": "execute_result",
          "data": {
            "text/plain": [
              "<matplotlib.axes._subplots.AxesSubplot at 0x7f09d6442828>"
            ]
          },
          "metadata": {
            "tags": []
          },
          "execution_count": 150
        },
        {
          "output_type": "display_data",
          "data": {
            "image/png": "[encoded data removed]",
            "text/plain": [
              "<Figure size 432x288 with 1 Axes>"
            ]
          },
          "metadata": {
            "tags": []
          }
        }
      ]
    },
    {
      "cell_type": "code",
      "metadata": {
        "id": "OJJqIJXGGLIv",
        "colab_type": "code",
        "colab": {
          "base_uri": "https://localhost:8080/",
          "height": 297
        },
        "outputId": "328eef88-9e33-4eb0-8165-514b65b73088"
      },
      "source": [
        "sns.distplot(df_main2['Fuel_Price'], bins=10)"
      ],
      "execution_count": 151,
      "outputs": [
        {
          "output_type": "execute_result",
          "data": {
            "text/plain": [
              "<matplotlib.axes._subplots.AxesSubplot at 0x7f09d7bce550>"
            ]
          },
          "metadata": {
            "tags": []
          },
          "execution_count": 151
        },
        {
          "output_type": "display_data",
          "data": {
            "image/png": "[encoded data removed]",
            "text/plain": [
              "<Figure size 432x288 with 1 Axes>"
            ]
          },
          "metadata": {
            "tags": []
          }
        }
      ]
    },
    {
      "cell_type": "code",
      "metadata": {
        "id": "tgy5TtY2GOJQ",
        "colab_type": "code",
        "colab": {
          "base_uri": "https://localhost:8080/",
          "height": 282
        },
        "outputId": "8176cee3-6fa2-45ee-f1b8-94db8dc7120d"
      },
      "source": [
        "type_cnt = df_main2.groupby('Type').size()\n",
        "type_cnt.plot.barh(label=True, grid=True)"
      ],
      "execution_count": 152,
      "outputs": [
        {
          "output_type": "execute_result",
          "data": {
            "text/plain": [
              "<matplotlib.axes._subplots.AxesSubplot at 0x7f09d62ada58>"
            ]
          },
          "metadata": {
            "tags": []
          },
          "execution_count": 152
        },
        {
          "output_type": "display_data",
          "data": {
            "image/png": "[encoded data removed]",
            "text/plain": [
              "<Figure size 432x288 with 1 Axes>"
            ]
          },
          "metadata": {
            "tags": []
          }
        }
      ]
    },
    {
      "cell_type": "code",
      "metadata": {
        "id": "5PsQVyELHOSm",
        "colab_type": "code",
        "colab": {
          "base_uri": "https://localhost:8080/",
          "height": 633
        },
        "outputId": "da79f718-ecdb-4ab1-bae8-b405490fcd67"
      },
      "source": [
        "fig, ax = plt.subplots(figsize=(20,10))\n",
        "\n",
        "df_main2.groupby(['Date']).sum()['Weekly_Sales'].plot(ax=ax)"
      ],
      "execution_count": 153,
      "outputs": [
        {
          "output_type": "execute_result",
          "data": {
            "text/plain": [
              "<matplotlib.axes._subplots.AxesSubplot at 0x7f09d63bc128>"
            ]
          },
          "metadata": {
            "tags": []
          },
          "execution_count": 153
        },
        {
          "output_type": "display_data",
          "data": {
            "image/png": "[encoded data removed]",
            "text/plain": [
              "<Figure size 1440x720 with 1 Axes>"
            ]
          },
          "metadata": {
            "tags": []
          }
        }
      ]
    },
    {
      "cell_type": "code",
      "metadata": {
        "id": "2WnHjTOVGjLn",
        "colab_type": "code",
        "colab": {
          "base_uri": "https://localhost:8080/",
          "height": 483
        },
        "outputId": "f04bdab3-3ac3-4d74-c172-3883f9f96821"
      },
      "source": [
        "#Correlation Matrix\n",
        "corr = df_main2.corr()\n",
        "corr"
      ],
      "execution_count": 154,
      "outputs": [
        {
          "output_type": "execute_result",
          "data": {
            "text/html": [
              "<div>\n",
              "<style scoped>\n",
              "    .dataframe tbody tr th:only-of-type {\n",
              "        vertical-align: middle;\n",
              "    }\n",
              "\n",
              "    .dataframe tbody tr th {\n",
              "        vertical-align: top;\n",
              "    }\n",
              "\n",
              "    .dataframe thead th {\n",
              "        text-align: right;\n",
              "    }\n",
              "</style>\n",
              "<table border=\"1\" class=\"dataframe\">\n",
              "  <thead>\n",
              "    <tr style=\"text-align: right;\">\n",
              "      <th></th>\n",
              "      <th>Store</th>\n",
              "      <th>Dept</th>\n",
              "      <th>Weekly_Sales</th>\n",
              "      <th>IsHoliday</th>\n",
              "      <th>Temperature</th>\n",
              "      <th>Fuel_Price</th>\n",
              "      <th>MarkDown1</th>\n",
              "      <th>MarkDown2</th>\n",
              "      <th>MarkDown3</th>\n",
              "      <th>MarkDown4</th>\n",
              "      <th>MarkDown5</th>\n",
              "      <th>CPI</th>\n",
              "      <th>Unemployment</th>\n",
              "      <th>Size</th>\n",
              "    </tr>\n",
              "  </thead>\n",
              "  <tbody>\n",
              "    <tr>\n",
              "      <th>Store</th>\n",
              "      <td>1.000000</td>\n",
              "      <td>0.024004</td>\n",
              "      <td>-0.085195</td>\n",
              "      <td>-0.000548</td>\n",
              "      <td>-0.050097</td>\n",
              "      <td>0.065290</td>\n",
              "      <td>-0.119588</td>\n",
              "      <td>-0.035173</td>\n",
              "      <td>-0.031556</td>\n",
              "      <td>-0.009941</td>\n",
              "      <td>-0.026634</td>\n",
              "      <td>-0.211088</td>\n",
              "      <td>0.208552</td>\n",
              "      <td>-0.182881</td>\n",
              "    </tr>\n",
              "    <tr>\n",
              "      <th>Dept</th>\n",
              "      <td>0.024004</td>\n",
              "      <td>1.000000</td>\n",
              "      <td>0.148032</td>\n",
              "      <td>0.000916</td>\n",
              "      <td>0.004437</td>\n",
              "      <td>0.003572</td>\n",
              "      <td>-0.002426</td>\n",
              "      <td>0.000290</td>\n",
              "      <td>0.001784</td>\n",
              "      <td>0.004257</td>\n",
              "      <td>0.000109</td>\n",
              "      <td>-0.007477</td>\n",
              "      <td>0.007837</td>\n",
              "      <td>-0.002966</td>\n",
              "    </tr>\n",
              "    <tr>\n",
              "      <th>Weekly_Sales</th>\n",
              "      <td>-0.085195</td>\n",
              "      <td>0.148032</td>\n",
              "      <td>1.000000</td>\n",
              "      <td>0.012774</td>\n",
              "      <td>-0.002312</td>\n",
              "      <td>-0.000120</td>\n",
              "      <td>0.085251</td>\n",
              "      <td>0.024130</td>\n",
              "      <td>0.060385</td>\n",
              "      <td>0.045414</td>\n",
              "      <td>0.090362</td>\n",
              "      <td>-0.020921</td>\n",
              "      <td>-0.025864</td>\n",
              "      <td>0.243828</td>\n",
              "    </tr>\n",
              "    <tr>\n",
              "      <th>IsHoliday</th>\n",
              "      <td>-0.000548</td>\n",
              "      <td>0.000916</td>\n",
              "      <td>0.012774</td>\n",
              "      <td>1.000000</td>\n",
              "      <td>-0.155949</td>\n",
              "      <td>-0.078281</td>\n",
              "      <td>-0.035586</td>\n",
              "      <td>0.334818</td>\n",
              "      <td>0.427960</td>\n",
              "      <td>-0.000562</td>\n",
              "      <td>-0.053719</td>\n",
              "      <td>-0.001944</td>\n",
              "      <td>0.010460</td>\n",
              "      <td>0.000593</td>\n",
              "    </tr>\n",
              "    <tr>\n",
              "      <th>Temperature</th>\n",
              "      <td>-0.050097</td>\n",
              "      <td>0.004437</td>\n",
              "      <td>-0.002312</td>\n",
              "      <td>-0.155949</td>\n",
              "      <td>1.000000</td>\n",
              "      <td>0.143859</td>\n",
              "      <td>-0.040594</td>\n",
              "      <td>-0.323927</td>\n",
              "      <td>-0.096880</td>\n",
              "      <td>-0.063947</td>\n",
              "      <td>-0.017544</td>\n",
              "      <td>0.182112</td>\n",
              "      <td>0.096730</td>\n",
              "      <td>-0.058313</td>\n",
              "    </tr>\n",
              "    <tr>\n",
              "      <th>Fuel_Price</th>\n",
              "      <td>0.065290</td>\n",
              "      <td>0.003572</td>\n",
              "      <td>-0.000120</td>\n",
              "      <td>-0.078281</td>\n",
              "      <td>0.143859</td>\n",
              "      <td>1.000000</td>\n",
              "      <td>0.061371</td>\n",
              "      <td>-0.220895</td>\n",
              "      <td>-0.102092</td>\n",
              "      <td>-0.044986</td>\n",
              "      <td>-0.128065</td>\n",
              "      <td>-0.164210</td>\n",
              "      <td>-0.033853</td>\n",
              "      <td>0.003361</td>\n",
              "    </tr>\n",
              "    <tr>\n",
              "      <th>MarkDown1</th>\n",
              "      <td>-0.119588</td>\n",
              "      <td>-0.002426</td>\n",
              "      <td>0.085251</td>\n",
              "      <td>-0.035586</td>\n",
              "      <td>-0.040594</td>\n",
              "      <td>0.061371</td>\n",
              "      <td>1.000000</td>\n",
              "      <td>0.024486</td>\n",
              "      <td>-0.108115</td>\n",
              "      <td>0.819238</td>\n",
              "      <td>0.160257</td>\n",
              "      <td>-0.055558</td>\n",
              "      <td>0.050285</td>\n",
              "      <td>0.345673</td>\n",
              "    </tr>\n",
              "    <tr>\n",
              "      <th>MarkDown2</th>\n",
              "      <td>-0.035173</td>\n",
              "      <td>0.000290</td>\n",
              "      <td>0.024130</td>\n",
              "      <td>0.334818</td>\n",
              "      <td>-0.323927</td>\n",
              "      <td>-0.220895</td>\n",
              "      <td>0.024486</td>\n",
              "      <td>1.000000</td>\n",
              "      <td>-0.050108</td>\n",
              "      <td>-0.007768</td>\n",
              "      <td>-0.007440</td>\n",
              "      <td>-0.039534</td>\n",
              "      <td>0.020940</td>\n",
              "      <td>0.108827</td>\n",
              "    </tr>\n",
              "    <tr>\n",
              "      <th>MarkDown3</th>\n",
              "      <td>-0.031556</td>\n",
              "      <td>0.001784</td>\n",
              "      <td>0.060385</td>\n",
              "      <td>0.427960</td>\n",
              "      <td>-0.096880</td>\n",
              "      <td>-0.102092</td>\n",
              "      <td>-0.108115</td>\n",
              "      <td>-0.050108</td>\n",
              "      <td>1.000000</td>\n",
              "      <td>-0.071095</td>\n",
              "      <td>-0.026467</td>\n",
              "      <td>-0.023590</td>\n",
              "      <td>0.012818</td>\n",
              "      <td>0.048913</td>\n",
              "    </tr>\n",
              "    <tr>\n",
              "      <th>MarkDown4</th>\n",
              "      <td>-0.009941</td>\n",
              "      <td>0.004257</td>\n",
              "      <td>0.045414</td>\n",
              "      <td>-0.000562</td>\n",
              "      <td>-0.063947</td>\n",
              "      <td>-0.044986</td>\n",
              "      <td>0.819238</td>\n",
              "      <td>-0.007768</td>\n",
              "      <td>-0.071095</td>\n",
              "      <td>1.000000</td>\n",
              "      <td>0.107792</td>\n",
              "      <td>-0.049628</td>\n",
              "      <td>0.024963</td>\n",
              "      <td>0.168196</td>\n",
              "    </tr>\n",
              "    <tr>\n",
              "      <th>MarkDown5</th>\n",
              "      <td>-0.026634</td>\n",
              "      <td>0.000109</td>\n",
              "      <td>0.090362</td>\n",
              "      <td>-0.053719</td>\n",
              "      <td>-0.017544</td>\n",
              "      <td>-0.128065</td>\n",
              "      <td>0.160257</td>\n",
              "      <td>-0.007440</td>\n",
              "      <td>-0.026467</td>\n",
              "      <td>0.107792</td>\n",
              "      <td>1.000000</td>\n",
              "      <td>0.060630</td>\n",
              "      <td>-0.003843</td>\n",
              "      <td>0.304575</td>\n",
              "    </tr>\n",
              "    <tr>\n",
              "      <th>CPI</th>\n",
              "      <td>-0.211088</td>\n",
              "      <td>-0.007477</td>\n",
              "      <td>-0.020921</td>\n",
              "      <td>-0.001944</td>\n",
              "      <td>0.182112</td>\n",
              "      <td>-0.164210</td>\n",
              "      <td>-0.055558</td>\n",
              "      <td>-0.039534</td>\n",
              "      <td>-0.023590</td>\n",
              "      <td>-0.049628</td>\n",
              "      <td>0.060630</td>\n",
              "      <td>1.000000</td>\n",
              "      <td>-0.299953</td>\n",
              "      <td>-0.003314</td>\n",
              "    </tr>\n",
              "    <tr>\n",
              "      <th>Unemployment</th>\n",
              "      <td>0.208552</td>\n",
              "      <td>0.007837</td>\n",
              "      <td>-0.025864</td>\n",
              "      <td>0.010460</td>\n",
              "      <td>0.096730</td>\n",
              "      <td>-0.033853</td>\n",
              "      <td>0.050285</td>\n",
              "      <td>0.020940</td>\n",
              "      <td>0.012818</td>\n",
              "      <td>0.024963</td>\n",
              "      <td>-0.003843</td>\n",
              "      <td>-0.299953</td>\n",
              "      <td>1.000000</td>\n",
              "      <td>-0.068238</td>\n",
              "    </tr>\n",
              "    <tr>\n",
              "      <th>Size</th>\n",
              "      <td>-0.182881</td>\n",
              "      <td>-0.002966</td>\n",
              "      <td>0.243828</td>\n",
              "      <td>0.000593</td>\n",
              "      <td>-0.058313</td>\n",
              "      <td>0.003361</td>\n",
              "      <td>0.345673</td>\n",
              "      <td>0.108827</td>\n",
              "      <td>0.048913</td>\n",
              "      <td>0.168196</td>\n",
              "      <td>0.304575</td>\n",
              "      <td>-0.003314</td>\n",
              "      <td>-0.068238</td>\n",
              "      <td>1.000000</td>\n",
              "    </tr>\n",
              "  </tbody>\n",
              "</table>\n",
              "</div>"
            ],
            "text/plain": [
              "                 Store      Dept  ...  Unemployment      Size\n",
              "Store         1.000000  0.024004  ...      0.208552 -0.182881\n",
              "Dept          0.024004  1.000000  ...      0.007837 -0.002966\n",
              "Weekly_Sales -0.085195  0.148032  ...     -0.025864  0.243828\n",
              "IsHoliday    -0.000548  0.000916  ...      0.010460  0.000593\n",
              "Temperature  -0.050097  0.004437  ...      0.096730 -0.058313\n",
              "Fuel_Price    0.065290  0.003572  ...     -0.033853  0.003361\n",
              "MarkDown1    -0.119588 -0.002426  ...      0.050285  0.345673\n",
              "MarkDown2    -0.035173  0.000290  ...      0.020940  0.108827\n",
              "MarkDown3    -0.031556  0.001784  ...      0.012818  0.048913\n",
              "MarkDown4    -0.009941  0.004257  ...      0.024963  0.168196\n",
              "MarkDown5    -0.026634  0.000109  ...     -0.003843  0.304575\n",
              "CPI          -0.211088 -0.007477  ...     -0.299953 -0.003314\n",
              "Unemployment  0.208552  0.007837  ...      1.000000 -0.068238\n",
              "Size         -0.182881 -0.002966  ...     -0.068238  1.000000\n",
              "\n",
              "[14 rows x 14 columns]"
            ]
          },
          "metadata": {
            "tags": []
          },
          "execution_count": 154
        }
      ]
    },
    {
      "cell_type": "code",
      "metadata": {
        "id": "y9dfWkdIGVEN",
        "colab_type": "code",
        "colab": {
          "base_uri": "https://localhost:8080/",
          "height": 317
        },
        "outputId": "5d16a101-fabd-4aef-8dd9-505e6758ff62"
      },
      "source": [
        "#Correlation Heatmap\n",
        "ax = sns.heatmap(\n",
        "    corr, \n",
        "    vmin=-1, vmax=1, center=0,\n",
        "    cmap=sns.diverging_palette(20, 220, n=200)\n",
        ")\n",
        "ax.set_xticklabels(\n",
        "    ax.get_xticklabels(),\n",
        "    rotation=45,\n",
        "    horizontalalignment='right'\n",
        ");"
      ],
      "execution_count": 155,
      "outputs": [
        {
          "output_type": "display_data",
          "data": {
            "image/png": "[encoded data removed]",
            "text/plain": [
              "<Figure size 432x288 with 2 Axes>"
            ]
          },
          "metadata": {
            "tags": []
          }
        }
      ]
    },
    {
      "cell_type": "code",
      "metadata": {
        "id": "8xXpcJC7Gqnq",
        "colab_type": "code",
        "colab": {
          "base_uri": "https://localhost:8080/",
          "height": 225
        },
        "outputId": "850e682a-adee-4866-cbe4-bc6e0dace45e"
      },
      "source": [
        "g = sns.FacetGrid(df_main2, col=\"Type\", hue=\"Type\")\n",
        "g = (g.map(plt.scatter, \"Temperature\", \"Weekly_Sales\", edgecolor=\"w\"))"
      ],
      "execution_count": 156,
      "outputs": [
        {
          "output_type": "display_data",
          "data": {
            "image/png": "[encoded data removed]",
            "text/plain": [
              "<Figure size 648x216 with 3 Axes>"
            ]
          },
          "metadata": {
            "tags": []
          }
        }
      ]
    },
    {
      "cell_type": "code",
      "metadata": {
        "id": "afmdX3iZGuvg",
        "colab_type": "code",
        "colab": {
          "base_uri": "https://localhost:8080/",
          "height": 621
        },
        "outputId": "5f32a051-d421-4e9f-9940-44673be4af52"
      },
      "source": [
        "#Total sales of each store\n",
        "store_total_sales = pd.DataFrame(df_main2.groupby('Store')['Weekly_Sales'].sum())\n",
        "store_total_sales.index.name = 'Store'\n",
        "store_total_sales.reset_index(inplace=True)\n",
        "plt.figure(figsize=(5, 10))\n",
        "plt.barh(store_total_sales['Store'], store_total_sales['Weekly_Sales'])\n",
        "plt.yticks(store_total_sales['Store'])\n",
        "plt.xlabel('Total Sales')\n",
        "plt.ylabel('Store')\n",
        "plt.title('Total Sales of Stores')\n",
        "plt.show()  \n"
      ],
      "execution_count": 157,
      "outputs": [
        {
          "output_type": "display_data",
          "data": {
            "image/png": "[encoded data removed]",
            "text/plain": [
              "<Figure size 360x720 with 1 Axes>"
            ]
          },
          "metadata": {
            "tags": []
          }
        }
      ]
    },
    {
      "cell_type": "code",
      "metadata": {
        "id": "YwWQq4NoRyjH",
        "colab_type": "code",
        "colab": {}
      },
      "source": [
        "df_main2.dtypes\n",
        "#since the date is in the data type as object --> converting that to a pandas datetime object\n",
        "\n",
        "df_main2.Date = pd.to_datetime(df_main2.Date)\n"
      ],
      "execution_count": 0,
      "outputs": []
    },
    {
      "cell_type": "code",
      "metadata": {
        "id": "qbJTIb-ldMTb",
        "colab_type": "code",
        "colab": {}
      },
      "source": [
        "\n",
        "df_main2.Date[1]\n",
        "df_main2[\"Month\"]  = df_main2['Date'].map(lambda x : x.month)"
      ],
      "execution_count": 0,
      "outputs": []
    },
    {
      "cell_type": "code",
      "metadata": {
        "id": "np8I6Z3Ggt6j",
        "colab_type": "code",
        "colab": {}
      },
      "source": [
        "\n",
        "df_main2[\"Year\"] = df_main2['Date'].map(lambda x: x.year)"
      ],
      "execution_count": 0,
      "outputs": []
    },
    {
      "cell_type": "code",
      "metadata": {
        "id": "gM1iuyyReNCZ",
        "colab_type": "code",
        "colab": {}
      },
      "source": [
        "df_main2[\"date_of_month\"] = df_main2['Date'].map(lambda x: x.day)"
      ],
      "execution_count": 0,
      "outputs": []
    },
    {
      "cell_type": "code",
      "metadata": {
        "id": "DupitxHje1nL",
        "colab_type": "code",
        "outputId": "62aeb2f7-d356-4ee0-dbb9-5013beb03657",
        "colab": {
          "base_uri": "https://localhost:8080/",
          "height": 204
        }
      },
      "source": [
        "df_main2.head()"
      ],
      "execution_count": 162,
      "outputs": [
        {
          "output_type": "execute_result",
          "data": {
            "text/html": [
              "<div>\n",
              "<style scoped>\n",
              "    .dataframe tbody tr th:only-of-type {\n",
              "        vertical-align: middle;\n",
              "    }\n",
              "\n",
              "    .dataframe tbody tr th {\n",
              "        vertical-align: top;\n",
              "    }\n",
              "\n",
              "    .dataframe thead th {\n",
              "        text-align: right;\n",
              "    }\n",
              "</style>\n",
              "<table border=\"1\" class=\"dataframe\">\n",
              "  <thead>\n",
              "    <tr style=\"text-align: right;\">\n",
              "      <th></th>\n",
              "      <th>Store</th>\n",
              "      <th>Dept</th>\n",
              "      <th>Date</th>\n",
              "      <th>Weekly_Sales</th>\n",
              "      <th>IsHoliday</th>\n",
              "      <th>Temperature</th>\n",
              "      <th>Fuel_Price</th>\n",
              "      <th>MarkDown1</th>\n",
              "      <th>MarkDown2</th>\n",
              "      <th>MarkDown3</th>\n",
              "      <th>MarkDown4</th>\n",
              "      <th>MarkDown5</th>\n",
              "      <th>CPI</th>\n",
              "      <th>Unemployment</th>\n",
              "      <th>Type</th>\n",
              "      <th>Size</th>\n",
              "      <th>Month</th>\n",
              "      <th>Year</th>\n",
              "      <th>date_of_month</th>\n",
              "    </tr>\n",
              "  </thead>\n",
              "  <tbody>\n",
              "    <tr>\n",
              "      <th>0</th>\n",
              "      <td>1</td>\n",
              "      <td>1</td>\n",
              "      <td>2010-02-05</td>\n",
              "      <td>24924.50</td>\n",
              "      <td>False</td>\n",
              "      <td>42.31</td>\n",
              "      <td>2.572</td>\n",
              "      <td>NaN</td>\n",
              "      <td>NaN</td>\n",
              "      <td>NaN</td>\n",
              "      <td>NaN</td>\n",
              "      <td>NaN</td>\n",
              "      <td>211.096358</td>\n",
              "      <td>8.106</td>\n",
              "      <td>A</td>\n",
              "      <td>151315</td>\n",
              "      <td>2</td>\n",
              "      <td>2010</td>\n",
              "      <td>5</td>\n",
              "    </tr>\n",
              "    <tr>\n",
              "      <th>1</th>\n",
              "      <td>1</td>\n",
              "      <td>1</td>\n",
              "      <td>2010-02-12</td>\n",
              "      <td>46039.49</td>\n",
              "      <td>True</td>\n",
              "      <td>38.51</td>\n",
              "      <td>2.548</td>\n",
              "      <td>NaN</td>\n",
              "      <td>NaN</td>\n",
              "      <td>NaN</td>\n",
              "      <td>NaN</td>\n",
              "      <td>NaN</td>\n",
              "      <td>211.242170</td>\n",
              "      <td>8.106</td>\n",
              "      <td>A</td>\n",
              "      <td>151315</td>\n",
              "      <td>2</td>\n",
              "      <td>2010</td>\n",
              "      <td>12</td>\n",
              "    </tr>\n",
              "    <tr>\n",
              "      <th>2</th>\n",
              "      <td>1</td>\n",
              "      <td>1</td>\n",
              "      <td>2010-02-19</td>\n",
              "      <td>41595.55</td>\n",
              "      <td>False</td>\n",
              "      <td>39.93</td>\n",
              "      <td>2.514</td>\n",
              "      <td>NaN</td>\n",
              "      <td>NaN</td>\n",
              "      <td>NaN</td>\n",
              "      <td>NaN</td>\n",
              "      <td>NaN</td>\n",
              "      <td>211.289143</td>\n",
              "      <td>8.106</td>\n",
              "      <td>A</td>\n",
              "      <td>151315</td>\n",
              "      <td>2</td>\n",
              "      <td>2010</td>\n",
              "      <td>19</td>\n",
              "    </tr>\n",
              "    <tr>\n",
              "      <th>3</th>\n",
              "      <td>1</td>\n",
              "      <td>1</td>\n",
              "      <td>2010-02-26</td>\n",
              "      <td>19403.54</td>\n",
              "      <td>False</td>\n",
              "      <td>46.63</td>\n",
              "      <td>2.561</td>\n",
              "      <td>NaN</td>\n",
              "      <td>NaN</td>\n",
              "      <td>NaN</td>\n",
              "      <td>NaN</td>\n",
              "      <td>NaN</td>\n",
              "      <td>211.319643</td>\n",
              "      <td>8.106</td>\n",
              "      <td>A</td>\n",
              "      <td>151315</td>\n",
              "      <td>2</td>\n",
              "      <td>2010</td>\n",
              "      <td>26</td>\n",
              "    </tr>\n",
              "    <tr>\n",
              "      <th>4</th>\n",
              "      <td>1</td>\n",
              "      <td>1</td>\n",
              "      <td>2010-03-05</td>\n",
              "      <td>21827.90</td>\n",
              "      <td>False</td>\n",
              "      <td>46.50</td>\n",
              "      <td>2.625</td>\n",
              "      <td>NaN</td>\n",
              "      <td>NaN</td>\n",
              "      <td>NaN</td>\n",
              "      <td>NaN</td>\n",
              "      <td>NaN</td>\n",
              "      <td>211.350143</td>\n",
              "      <td>8.106</td>\n",
              "      <td>A</td>\n",
              "      <td>151315</td>\n",
              "      <td>3</td>\n",
              "      <td>2010</td>\n",
              "      <td>5</td>\n",
              "    </tr>\n",
              "  </tbody>\n",
              "</table>\n",
              "</div>"
            ],
            "text/plain": [
              "   Store  Dept       Date  Weekly_Sales  ...    Size  Month  Year  date_of_month\n",
              "0      1     1 2010-02-05      24924.50  ...  151315      2  2010              5\n",
              "1      1     1 2010-02-12      46039.49  ...  151315      2  2010             12\n",
              "2      1     1 2010-02-19      41595.55  ...  151315      2  2010             19\n",
              "3      1     1 2010-02-26      19403.54  ...  151315      2  2010             26\n",
              "4      1     1 2010-03-05      21827.90  ...  151315      3  2010              5\n",
              "\n",
              "[5 rows x 19 columns]"
            ]
          },
          "metadata": {
            "tags": []
          },
          "execution_count": 162
        }
      ]
    },
    {
      "cell_type": "code",
      "metadata": {
        "id": "TTmbkNhvfIk8",
        "colab_type": "code",
        "colab": {}
      },
      "source": [
        "#df_main2 = df_main2.drop('Year',axis=1)"
      ],
      "execution_count": 0,
      "outputs": []
    },
    {
      "cell_type": "code",
      "metadata": {
        "id": "BHmfsAXEg8aK",
        "colab_type": "code",
        "colab": {}
      },
      "source": [
        "df_main2 = df_main2.fillna(0)"
      ],
      "execution_count": 0,
      "outputs": []
    },
    {
      "cell_type": "markdown",
      "metadata": {
        "id": "i13iP_L2UshU",
        "colab_type": "text"
      },
      "source": [
        ""
      ]
    },
    {
      "cell_type": "code",
      "metadata": {
        "id": "4bIy8qJbR3dn",
        "colab_type": "code",
        "colab": {}
      },
      "source": [
        "#df_main2.Date"
      ],
      "execution_count": 0,
      "outputs": []
    },
    {
      "cell_type": "code",
      "metadata": {
        "id": "_uw5ehWmS6Ct",
        "colab_type": "code",
        "colab": {}
      },
      "source": [
        "le_list = ['IsHoliday','Type']\n",
        "le = LabelEncoder()\n",
        "for i in le_list :\n",
        "  df_main2[i] = le.fit_transform(df_main2[i])\n",
        "\n"
      ],
      "execution_count": 0,
      "outputs": []
    },
    {
      "cell_type": "code",
      "metadata": {
        "id": "U8YKnvBBkPTM",
        "colab_type": "code",
        "outputId": "14f4fe19-6adf-4f0f-bc47-992acdcacdb2",
        "colab": {
          "base_uri": "https://localhost:8080/",
          "height": 204
        }
      },
      "source": [
        "df_main2.head()"
      ],
      "execution_count": 167,
      "outputs": [
        {
          "output_type": "execute_result",
          "data": {
            "text/html": [
              "<div>\n",
              "<style scoped>\n",
              "    .dataframe tbody tr th:only-of-type {\n",
              "        vertical-align: middle;\n",
              "    }\n",
              "\n",
              "    .dataframe tbody tr th {\n",
              "        vertical-align: top;\n",
              "    }\n",
              "\n",
              "    .dataframe thead th {\n",
              "        text-align: right;\n",
              "    }\n",
              "</style>\n",
              "<table border=\"1\" class=\"dataframe\">\n",
              "  <thead>\n",
              "    <tr style=\"text-align: right;\">\n",
              "      <th></th>\n",
              "      <th>Store</th>\n",
              "      <th>Dept</th>\n",
              "      <th>Date</th>\n",
              "      <th>Weekly_Sales</th>\n",
              "      <th>IsHoliday</th>\n",
              "      <th>Temperature</th>\n",
              "      <th>Fuel_Price</th>\n",
              "      <th>MarkDown1</th>\n",
              "      <th>MarkDown2</th>\n",
              "      <th>MarkDown3</th>\n",
              "      <th>MarkDown4</th>\n",
              "      <th>MarkDown5</th>\n",
              "      <th>CPI</th>\n",
              "      <th>Unemployment</th>\n",
              "      <th>Type</th>\n",
              "      <th>Size</th>\n",
              "      <th>Month</th>\n",
              "      <th>Year</th>\n",
              "      <th>date_of_month</th>\n",
              "    </tr>\n",
              "  </thead>\n",
              "  <tbody>\n",
              "    <tr>\n",
              "      <th>0</th>\n",
              "      <td>1</td>\n",
              "      <td>1</td>\n",
              "      <td>2010-02-05</td>\n",
              "      <td>24924.50</td>\n",
              "      <td>0</td>\n",
              "      <td>42.31</td>\n",
              "      <td>2.572</td>\n",
              "      <td>0.0</td>\n",
              "      <td>0.0</td>\n",
              "      <td>0.0</td>\n",
              "      <td>0.0</td>\n",
              "      <td>0.0</td>\n",
              "      <td>211.096358</td>\n",
              "      <td>8.106</td>\n",
              "      <td>0</td>\n",
              "      <td>151315</td>\n",
              "      <td>2</td>\n",
              "      <td>2010</td>\n",
              "      <td>5</td>\n",
              "    </tr>\n",
              "    <tr>\n",
              "      <th>1</th>\n",
              "      <td>1</td>\n",
              "      <td>1</td>\n",
              "      <td>2010-02-12</td>\n",
              "      <td>46039.49</td>\n",
              "      <td>1</td>\n",
              "      <td>38.51</td>\n",
              "      <td>2.548</td>\n",
              "      <td>0.0</td>\n",
              "      <td>0.0</td>\n",
              "      <td>0.0</td>\n",
              "      <td>0.0</td>\n",
              "      <td>0.0</td>\n",
              "      <td>211.242170</td>\n",
              "      <td>8.106</td>\n",
              "      <td>0</td>\n",
              "      <td>151315</td>\n",
              "      <td>2</td>\n",
              "      <td>2010</td>\n",
              "      <td>12</td>\n",
              "    </tr>\n",
              "    <tr>\n",
              "      <th>2</th>\n",
              "      <td>1</td>\n",
              "      <td>1</td>\n",
              "      <td>2010-02-19</td>\n",
              "      <td>41595.55</td>\n",
              "      <td>0</td>\n",
              "      <td>39.93</td>\n",
              "      <td>2.514</td>\n",
              "      <td>0.0</td>\n",
              "      <td>0.0</td>\n",
              "      <td>0.0</td>\n",
              "      <td>0.0</td>\n",
              "      <td>0.0</td>\n",
              "      <td>211.289143</td>\n",
              "      <td>8.106</td>\n",
              "      <td>0</td>\n",
              "      <td>151315</td>\n",
              "      <td>2</td>\n",
              "      <td>2010</td>\n",
              "      <td>19</td>\n",
              "    </tr>\n",
              "    <tr>\n",
              "      <th>3</th>\n",
              "      <td>1</td>\n",
              "      <td>1</td>\n",
              "      <td>2010-02-26</td>\n",
              "      <td>19403.54</td>\n",
              "      <td>0</td>\n",
              "      <td>46.63</td>\n",
              "      <td>2.561</td>\n",
              "      <td>0.0</td>\n",
              "      <td>0.0</td>\n",
              "      <td>0.0</td>\n",
              "      <td>0.0</td>\n",
              "      <td>0.0</td>\n",
              "      <td>211.319643</td>\n",
              "      <td>8.106</td>\n",
              "      <td>0</td>\n",
              "      <td>151315</td>\n",
              "      <td>2</td>\n",
              "      <td>2010</td>\n",
              "      <td>26</td>\n",
              "    </tr>\n",
              "    <tr>\n",
              "      <th>4</th>\n",
              "      <td>1</td>\n",
              "      <td>1</td>\n",
              "      <td>2010-03-05</td>\n",
              "      <td>21827.90</td>\n",
              "      <td>0</td>\n",
              "      <td>46.50</td>\n",
              "      <td>2.625</td>\n",
              "      <td>0.0</td>\n",
              "      <td>0.0</td>\n",
              "      <td>0.0</td>\n",
              "      <td>0.0</td>\n",
              "      <td>0.0</td>\n",
              "      <td>211.350143</td>\n",
              "      <td>8.106</td>\n",
              "      <td>0</td>\n",
              "      <td>151315</td>\n",
              "      <td>3</td>\n",
              "      <td>2010</td>\n",
              "      <td>5</td>\n",
              "    </tr>\n",
              "  </tbody>\n",
              "</table>\n",
              "</div>"
            ],
            "text/plain": [
              "   Store  Dept       Date  Weekly_Sales  ...    Size  Month  Year  date_of_month\n",
              "0      1     1 2010-02-05      24924.50  ...  151315      2  2010              5\n",
              "1      1     1 2010-02-12      46039.49  ...  151315      2  2010             12\n",
              "2      1     1 2010-02-19      41595.55  ...  151315      2  2010             19\n",
              "3      1     1 2010-02-26      19403.54  ...  151315      2  2010             26\n",
              "4      1     1 2010-03-05      21827.90  ...  151315      3  2010              5\n",
              "\n",
              "[5 rows x 19 columns]"
            ]
          },
          "metadata": {
            "tags": []
          },
          "execution_count": 167
        }
      ]
    },
    {
      "cell_type": "code",
      "metadata": {
        "id": "RpH25KZLksaM",
        "colab_type": "code",
        "colab": {}
      },
      "source": [
        "df_main2 = df_main2.drop('Date',axis=1)"
      ],
      "execution_count": 0,
      "outputs": []
    },
    {
      "cell_type": "code",
      "metadata": {
        "id": "ZMmR0n3tk1jk",
        "colab_type": "code",
        "outputId": "b20f973a-49f7-4cc3-d19e-5b8e714b1792",
        "colab": {
          "base_uri": "https://localhost:8080/",
          "height": 317
        }
      },
      "source": [
        "df_main2.describe()\n"
      ],
      "execution_count": 169,
      "outputs": [
        {
          "output_type": "execute_result",
          "data": {
            "text/html": [
              "<div>\n",
              "<style scoped>\n",
              "    .dataframe tbody tr th:only-of-type {\n",
              "        vertical-align: middle;\n",
              "    }\n",
              "\n",
              "    .dataframe tbody tr th {\n",
              "        vertical-align: top;\n",
              "    }\n",
              "\n",
              "    .dataframe thead th {\n",
              "        text-align: right;\n",
              "    }\n",
              "</style>\n",
              "<table border=\"1\" class=\"dataframe\">\n",
              "  <thead>\n",
              "    <tr style=\"text-align: right;\">\n",
              "      <th></th>\n",
              "      <th>Store</th>\n",
              "      <th>Dept</th>\n",
              "      <th>Weekly_Sales</th>\n",
              "      <th>IsHoliday</th>\n",
              "      <th>Temperature</th>\n",
              "      <th>Fuel_Price</th>\n",
              "      <th>MarkDown1</th>\n",
              "      <th>MarkDown2</th>\n",
              "      <th>MarkDown3</th>\n",
              "      <th>MarkDown4</th>\n",
              "      <th>MarkDown5</th>\n",
              "      <th>CPI</th>\n",
              "      <th>Unemployment</th>\n",
              "      <th>Type</th>\n",
              "      <th>Size</th>\n",
              "      <th>Month</th>\n",
              "      <th>Year</th>\n",
              "      <th>date_of_month</th>\n",
              "    </tr>\n",
              "  </thead>\n",
              "  <tbody>\n",
              "    <tr>\n",
              "      <th>count</th>\n",
              "      <td>421570.000000</td>\n",
              "      <td>421570.000000</td>\n",
              "      <td>421570.000000</td>\n",
              "      <td>421570.000000</td>\n",
              "      <td>421570.000000</td>\n",
              "      <td>421570.000000</td>\n",
              "      <td>421570.000000</td>\n",
              "      <td>421570.000000</td>\n",
              "      <td>421570.000000</td>\n",
              "      <td>421570.000000</td>\n",
              "      <td>421570.000000</td>\n",
              "      <td>421570.000000</td>\n",
              "      <td>421570.000000</td>\n",
              "      <td>421570.000000</td>\n",
              "      <td>421570.000000</td>\n",
              "      <td>421570.000000</td>\n",
              "      <td>421570.000000</td>\n",
              "      <td>421570.000000</td>\n",
              "    </tr>\n",
              "    <tr>\n",
              "      <th>mean</th>\n",
              "      <td>22.200546</td>\n",
              "      <td>44.260317</td>\n",
              "      <td>15981.258123</td>\n",
              "      <td>0.070358</td>\n",
              "      <td>60.090059</td>\n",
              "      <td>3.361027</td>\n",
              "      <td>2590.074819</td>\n",
              "      <td>879.974298</td>\n",
              "      <td>468.087665</td>\n",
              "      <td>1083.132268</td>\n",
              "      <td>1662.772385</td>\n",
              "      <td>171.201947</td>\n",
              "      <td>7.960289</td>\n",
              "      <td>0.589912</td>\n",
              "      <td>136727.915739</td>\n",
              "      <td>6.449510</td>\n",
              "      <td>2010.968591</td>\n",
              "      <td>15.673131</td>\n",
              "    </tr>\n",
              "    <tr>\n",
              "      <th>std</th>\n",
              "      <td>12.785297</td>\n",
              "      <td>30.492054</td>\n",
              "      <td>22711.183519</td>\n",
              "      <td>0.255750</td>\n",
              "      <td>18.447931</td>\n",
              "      <td>0.458515</td>\n",
              "      <td>6052.385934</td>\n",
              "      <td>5084.538801</td>\n",
              "      <td>5528.873453</td>\n",
              "      <td>3894.529945</td>\n",
              "      <td>4207.629321</td>\n",
              "      <td>39.159276</td>\n",
              "      <td>1.863296</td>\n",
              "      <td>0.666337</td>\n",
              "      <td>60980.583328</td>\n",
              "      <td>3.243217</td>\n",
              "      <td>0.796876</td>\n",
              "      <td>8.753549</td>\n",
              "    </tr>\n",
              "    <tr>\n",
              "      <th>min</th>\n",
              "      <td>1.000000</td>\n",
              "      <td>1.000000</td>\n",
              "      <td>-4988.940000</td>\n",
              "      <td>0.000000</td>\n",
              "      <td>-2.060000</td>\n",
              "      <td>2.472000</td>\n",
              "      <td>0.000000</td>\n",
              "      <td>-265.760000</td>\n",
              "      <td>-29.100000</td>\n",
              "      <td>0.000000</td>\n",
              "      <td>0.000000</td>\n",
              "      <td>126.064000</td>\n",
              "      <td>3.879000</td>\n",
              "      <td>0.000000</td>\n",
              "      <td>34875.000000</td>\n",
              "      <td>1.000000</td>\n",
              "      <td>2010.000000</td>\n",
              "      <td>1.000000</td>\n",
              "    </tr>\n",
              "    <tr>\n",
              "      <th>25%</th>\n",
              "      <td>11.000000</td>\n",
              "      <td>18.000000</td>\n",
              "      <td>2079.650000</td>\n",
              "      <td>0.000000</td>\n",
              "      <td>46.680000</td>\n",
              "      <td>2.933000</td>\n",
              "      <td>0.000000</td>\n",
              "      <td>0.000000</td>\n",
              "      <td>0.000000</td>\n",
              "      <td>0.000000</td>\n",
              "      <td>0.000000</td>\n",
              "      <td>132.022667</td>\n",
              "      <td>6.891000</td>\n",
              "      <td>0.000000</td>\n",
              "      <td>93638.000000</td>\n",
              "      <td>4.000000</td>\n",
              "      <td>2010.000000</td>\n",
              "      <td>8.000000</td>\n",
              "    </tr>\n",
              "    <tr>\n",
              "      <th>50%</th>\n",
              "      <td>22.000000</td>\n",
              "      <td>37.000000</td>\n",
              "      <td>7612.030000</td>\n",
              "      <td>0.000000</td>\n",
              "      <td>62.090000</td>\n",
              "      <td>3.452000</td>\n",
              "      <td>0.000000</td>\n",
              "      <td>0.000000</td>\n",
              "      <td>0.000000</td>\n",
              "      <td>0.000000</td>\n",
              "      <td>0.000000</td>\n",
              "      <td>182.318780</td>\n",
              "      <td>7.866000</td>\n",
              "      <td>0.000000</td>\n",
              "      <td>140167.000000</td>\n",
              "      <td>6.000000</td>\n",
              "      <td>2011.000000</td>\n",
              "      <td>16.000000</td>\n",
              "    </tr>\n",
              "    <tr>\n",
              "      <th>75%</th>\n",
              "      <td>33.000000</td>\n",
              "      <td>74.000000</td>\n",
              "      <td>20205.852500</td>\n",
              "      <td>0.000000</td>\n",
              "      <td>74.280000</td>\n",
              "      <td>3.738000</td>\n",
              "      <td>2809.050000</td>\n",
              "      <td>2.200000</td>\n",
              "      <td>4.540000</td>\n",
              "      <td>425.290000</td>\n",
              "      <td>2168.040000</td>\n",
              "      <td>212.416993</td>\n",
              "      <td>8.572000</td>\n",
              "      <td>1.000000</td>\n",
              "      <td>202505.000000</td>\n",
              "      <td>9.000000</td>\n",
              "      <td>2012.000000</td>\n",
              "      <td>23.000000</td>\n",
              "    </tr>\n",
              "    <tr>\n",
              "      <th>max</th>\n",
              "      <td>45.000000</td>\n",
              "      <td>99.000000</td>\n",
              "      <td>693099.360000</td>\n",
              "      <td>1.000000</td>\n",
              "      <td>100.140000</td>\n",
              "      <td>4.468000</td>\n",
              "      <td>88646.760000</td>\n",
              "      <td>104519.540000</td>\n",
              "      <td>141630.610000</td>\n",
              "      <td>67474.850000</td>\n",
              "      <td>108519.280000</td>\n",
              "      <td>227.232807</td>\n",
              "      <td>14.313000</td>\n",
              "      <td>2.000000</td>\n",
              "      <td>219622.000000</td>\n",
              "      <td>12.000000</td>\n",
              "      <td>2012.000000</td>\n",
              "      <td>31.000000</td>\n",
              "    </tr>\n",
              "  </tbody>\n",
              "</table>\n",
              "</div>"
            ],
            "text/plain": [
              "               Store           Dept  ...           Year  date_of_month\n",
              "count  421570.000000  421570.000000  ...  421570.000000  421570.000000\n",
              "mean       22.200546      44.260317  ...    2010.968591      15.673131\n",
              "std        12.785297      30.492054  ...       0.796876       8.753549\n",
              "min         1.000000       1.000000  ...    2010.000000       1.000000\n",
              "25%        11.000000      18.000000  ...    2010.000000       8.000000\n",
              "50%        22.000000      37.000000  ...    2011.000000      16.000000\n",
              "75%        33.000000      74.000000  ...    2012.000000      23.000000\n",
              "max        45.000000      99.000000  ...    2012.000000      31.000000\n",
              "\n",
              "[8 rows x 18 columns]"
            ]
          },
          "metadata": {
            "tags": []
          },
          "execution_count": 169
        }
      ]
    },
    {
      "cell_type": "markdown",
      "metadata": {
        "id": "u4rt7iuB9AVe",
        "colab_type": "text"
      },
      "source": [
        ""
      ]
    },
    {
      "cell_type": "code",
      "metadata": {
        "id": "rxCD_41nmU0J",
        "colab_type": "code",
        "colab": {}
      },
      "source": [
        "#some of the entries have negative sales values , so replacing the negative values "
      ],
      "execution_count": 0,
      "outputs": []
    },
    {
      "cell_type": "code",
      "metadata": {
        "id": "JzMGBLIFle_L",
        "colab_type": "code",
        "colab": {}
      },
      "source": [
        "#neg_sales_df = df_main2[df_main2.Weekly_Sales < 0][['Store','Dept','Weekly_Sales','MarkDown1','MarkDown2','MarkDown3']]"
      ],
      "execution_count": 0,
      "outputs": []
    },
    {
      "cell_type": "code",
      "metadata": {
        "id": "ZbV34lC47zTy",
        "colab_type": "code",
        "colab": {}
      },
      "source": [
        "pos_sales_df = df_main2[df_main2.Weekly_Sales > 0][['Store','Dept','Weekly_Sales','MarkDown1','MarkDown2','MarkDown3','MarkDown4','MarkDown5']]"
      ],
      "execution_count": 0,
      "outputs": []
    },
    {
      "cell_type": "code",
      "metadata": {
        "id": "pt5V_1jKmOdt",
        "colab_type": "code",
        "outputId": "9a84fa81-afc1-46a7-b675-372da69d4291",
        "colab": {
          "base_uri": "https://localhost:8080/",
          "height": 34
        }
      },
      "source": [
        "pos_sales_df.shape"
      ],
      "execution_count": 173,
      "outputs": [
        {
          "output_type": "execute_result",
          "data": {
            "text/plain": [
              "(420212, 8)"
            ]
          },
          "metadata": {
            "tags": []
          },
          "execution_count": 173
        }
      ]
    },
    {
      "cell_type": "code",
      "metadata": {
        "id": "jjli70wvvlkM",
        "colab_type": "code",
        "colab": {}
      },
      "source": [
        "# find the average and convert to dictionaries "
      ],
      "execution_count": 0,
      "outputs": []
    },
    {
      "cell_type": "code",
      "metadata": {
        "id": "Yfb9EU6U9qrI",
        "colab_type": "code",
        "colab": {}
      },
      "source": [
        "#df_main2[df_main2['Weekly_Sales']<0]"
      ],
      "execution_count": 0,
      "outputs": []
    },
    {
      "cell_type": "code",
      "metadata": {
        "id": "RWu_7IJRxBTA",
        "colab_type": "code",
        "colab": {}
      },
      "source": [
        "#fucntion to convert the average dataframes which will be used to map the negative values of sales , markdown1..3 "
      ],
      "execution_count": 0,
      "outputs": []
    },
    {
      "cell_type": "code",
      "metadata": {
        "id": "537lXzJUvscr",
        "colab_type": "code",
        "colab": {}
      },
      "source": [
        "def avgdf (df,colname1,colname2):\n",
        "  a = df.groupby(colname1)[colname2].mean()\n",
        "  b= a.to_dict()\n",
        "  return b\n",
        "\n"
      ],
      "execution_count": 0,
      "outputs": []
    },
    {
      "cell_type": "code",
      "metadata": {
        "id": "2IZ3Tc4msUNx",
        "colab_type": "code",
        "colab": {}
      },
      "source": [
        "#EXPERIMENTAL SECTION"
      ],
      "execution_count": 0,
      "outputs": []
    },
    {
      "cell_type": "code",
      "metadata": {
        "id": "2fsJdX4LPGko",
        "colab_type": "code",
        "outputId": "e19564c6-db5a-4b9a-d1ea-e4d6bab0893d",
        "colab": {
          "base_uri": "https://localhost:8080/",
          "height": 34
        }
      },
      "source": [
        "'''for k,v in sales_avg_dict.items():\n",
        "  print (k,v)'''"
      ],
      "execution_count": 179,
      "outputs": [
        {
          "output_type": "execute_result",
          "data": {
            "text/plain": [
              "'for k,v in sales_avg_dict.items():\\n  print (k,v)'"
            ]
          },
          "metadata": {
            "tags": []
          },
          "execution_count": 179
        }
      ]
    },
    {
      "cell_type": "code",
      "metadata": {
        "id": "fO8UMEhywZtS",
        "colab_type": "code",
        "colab": {}
      },
      "source": [
        "sales_avg_dict = avgdf(pos_sales_df,'Store','Weekly_Sales')\n",
        "\n",
        "\n",
        "#neg_sales_df['Weekly_Sales'].values[0]\n",
        "\n",
        "#len(neg_sales_df)"
      ],
      "execution_count": 0,
      "outputs": []
    },
    {
      "cell_type": "code",
      "metadata": {
        "id": "RwoUBEVfw5K0",
        "colab_type": "code",
        "colab": {}
      },
      "source": [
        "md1_avg_dict = avgdf(pos_sales_df,'Store','MarkDown1')\n",
        "md2_avg_dict = avgdf(pos_sales_df,'Store','MarkDown2')\n",
        "md3_avg_dict = avgdf(pos_sales_df,'Store','MarkDown3')\n",
        "md4_avg_dict = avgdf(pos_sales_df,'Store','MarkDown4')\n",
        "md5_avg_dict = avgdf(pos_sales_df,'Store','MarkDown5')"
      ],
      "execution_count": 0,
      "outputs": []
    },
    {
      "cell_type": "code",
      "metadata": {
        "id": "cw_65A-Y82Mr",
        "colab_type": "code",
        "colab": {}
      },
      "source": [
        "#finallyyyy"
      ],
      "execution_count": 0,
      "outputs": []
    },
    {
      "cell_type": "code",
      "metadata": {
        "id": "4zlQddXW9nHu",
        "colab_type": "code",
        "colab": {}
      },
      "source": [
        "for k,v in md1_avg_dict.items():\n",
        "\n",
        "  df_main2['MarkDown1'] = np.where((df_main2['MarkDown1'] <0)  & (df_main2['Store'] == k ), v, df_main2['MarkDown1'])"
      ],
      "execution_count": 0,
      "outputs": []
    },
    {
      "cell_type": "code",
      "metadata": {
        "id": "lkxItie0BLB7",
        "colab_type": "code",
        "colab": {}
      },
      "source": [
        "for k,v in md2_avg_dict.items():\n",
        "\n",
        "  df_main2['MarkDown2'] = np.where((df_main2['MarkDown2'] <0)  & (df_main2['Store'] == k ), v, df_main2['MarkDown2'])"
      ],
      "execution_count": 0,
      "outputs": []
    },
    {
      "cell_type": "code",
      "metadata": {
        "id": "ZX-2ltyUBLPE",
        "colab_type": "code",
        "colab": {}
      },
      "source": [
        "for k,v in md3_avg_dict.items():\n",
        "\n",
        "  df_main2['MarkDown3'] = np.where((df_main2['MarkDown3'] <0)  & (df_main2['Store'] == k ), v, df_main2['MarkDown3'])"
      ],
      "execution_count": 0,
      "outputs": []
    },
    {
      "cell_type": "code",
      "metadata": {
        "id": "KCMk6gbMBLfS",
        "colab_type": "code",
        "colab": {}
      },
      "source": [
        "for k,v in md4_avg_dict.items():\n",
        "\n",
        "  df_main2['MarkDown4'] = np.where((df_main2['MarkDown4'] <0)  & (df_main2['Store'] == k ), v, df_main2['MarkDown4'])"
      ],
      "execution_count": 0,
      "outputs": []
    },
    {
      "cell_type": "code",
      "metadata": {
        "id": "1GTw7I3ZDrxP",
        "colab_type": "code",
        "colab": {}
      },
      "source": [
        "for k,v in md5_avg_dict.items():\n",
        "\n",
        "  df_main2['MarkDown5'] = np.where((df_main2['MarkDown5'] <0)  & (df_main2['Store'] == k ), v, df_main2['MarkDown5'])"
      ],
      "execution_count": 0,
      "outputs": []
    },
    {
      "cell_type": "code",
      "metadata": {
        "id": "4e7aPx1Y-OIA",
        "colab_type": "code",
        "colab": {}
      },
      "source": [
        "#the main data frame is now substituted with the average values of "
      ],
      "execution_count": 0,
      "outputs": []
    },
    {
      "cell_type": "code",
      "metadata": {
        "id": "SaHhjebBcqS7",
        "colab_type": "code",
        "outputId": "c8351f66-f12e-4ea9-aa93-456e29731abf",
        "colab": {
          "base_uri": "https://localhost:8080/",
          "height": 317
        }
      },
      "source": [
        "df_main2.describe()"
      ],
      "execution_count": 189,
      "outputs": [
        {
          "output_type": "execute_result",
          "data": {
            "text/html": [
              "<div>\n",
              "<style scoped>\n",
              "    .dataframe tbody tr th:only-of-type {\n",
              "        vertical-align: middle;\n",
              "    }\n",
              "\n",
              "    .dataframe tbody tr th {\n",
              "        vertical-align: top;\n",
              "    }\n",
              "\n",
              "    .dataframe thead th {\n",
              "        text-align: right;\n",
              "    }\n",
              "</style>\n",
              "<table border=\"1\" class=\"dataframe\">\n",
              "  <thead>\n",
              "    <tr style=\"text-align: right;\">\n",
              "      <th></th>\n",
              "      <th>Store</th>\n",
              "      <th>Dept</th>\n",
              "      <th>Weekly_Sales</th>\n",
              "      <th>IsHoliday</th>\n",
              "      <th>Temperature</th>\n",
              "      <th>Fuel_Price</th>\n",
              "      <th>MarkDown1</th>\n",
              "      <th>MarkDown2</th>\n",
              "      <th>MarkDown3</th>\n",
              "      <th>MarkDown4</th>\n",
              "      <th>MarkDown5</th>\n",
              "      <th>CPI</th>\n",
              "      <th>Unemployment</th>\n",
              "      <th>Type</th>\n",
              "      <th>Size</th>\n",
              "      <th>Month</th>\n",
              "      <th>Year</th>\n",
              "      <th>date_of_month</th>\n",
              "    </tr>\n",
              "  </thead>\n",
              "  <tbody>\n",
              "    <tr>\n",
              "      <th>count</th>\n",
              "      <td>421570.000000</td>\n",
              "      <td>421570.000000</td>\n",
              "      <td>421570.000000</td>\n",
              "      <td>421570.000000</td>\n",
              "      <td>421570.000000</td>\n",
              "      <td>421570.000000</td>\n",
              "      <td>421570.000000</td>\n",
              "      <td>421570.000000</td>\n",
              "      <td>421570.000000</td>\n",
              "      <td>421570.000000</td>\n",
              "      <td>421570.000000</td>\n",
              "      <td>421570.000000</td>\n",
              "      <td>421570.000000</td>\n",
              "      <td>421570.000000</td>\n",
              "      <td>421570.000000</td>\n",
              "      <td>421570.000000</td>\n",
              "      <td>421570.000000</td>\n",
              "      <td>421570.000000</td>\n",
              "    </tr>\n",
              "    <tr>\n",
              "      <th>mean</th>\n",
              "      <td>22.200546</td>\n",
              "      <td>44.260317</td>\n",
              "      <td>15981.258123</td>\n",
              "      <td>0.070358</td>\n",
              "      <td>60.090059</td>\n",
              "      <td>3.361027</td>\n",
              "      <td>2590.074819</td>\n",
              "      <td>883.126077</td>\n",
              "      <td>468.331576</td>\n",
              "      <td>1083.132268</td>\n",
              "      <td>1662.772385</td>\n",
              "      <td>171.201947</td>\n",
              "      <td>7.960289</td>\n",
              "      <td>0.589912</td>\n",
              "      <td>136727.915739</td>\n",
              "      <td>6.449510</td>\n",
              "      <td>2010.968591</td>\n",
              "      <td>15.673131</td>\n",
              "    </tr>\n",
              "    <tr>\n",
              "      <th>std</th>\n",
              "      <td>12.785297</td>\n",
              "      <td>30.492054</td>\n",
              "      <td>22711.183519</td>\n",
              "      <td>0.255750</td>\n",
              "      <td>18.447931</td>\n",
              "      <td>0.458515</td>\n",
              "      <td>6052.385934</td>\n",
              "      <td>5084.352959</td>\n",
              "      <td>5528.863663</td>\n",
              "      <td>3894.529945</td>\n",
              "      <td>4207.629321</td>\n",
              "      <td>39.159276</td>\n",
              "      <td>1.863296</td>\n",
              "      <td>0.666337</td>\n",
              "      <td>60980.583328</td>\n",
              "      <td>3.243217</td>\n",
              "      <td>0.796876</td>\n",
              "      <td>8.753549</td>\n",
              "    </tr>\n",
              "    <tr>\n",
              "      <th>min</th>\n",
              "      <td>1.000000</td>\n",
              "      <td>1.000000</td>\n",
              "      <td>-4988.940000</td>\n",
              "      <td>0.000000</td>\n",
              "      <td>-2.060000</td>\n",
              "      <td>2.472000</td>\n",
              "      <td>0.000000</td>\n",
              "      <td>0.000000</td>\n",
              "      <td>0.000000</td>\n",
              "      <td>0.000000</td>\n",
              "      <td>0.000000</td>\n",
              "      <td>126.064000</td>\n",
              "      <td>3.879000</td>\n",
              "      <td>0.000000</td>\n",
              "      <td>34875.000000</td>\n",
              "      <td>1.000000</td>\n",
              "      <td>2010.000000</td>\n",
              "      <td>1.000000</td>\n",
              "    </tr>\n",
              "    <tr>\n",
              "      <th>25%</th>\n",
              "      <td>11.000000</td>\n",
              "      <td>18.000000</td>\n",
              "      <td>2079.650000</td>\n",
              "      <td>0.000000</td>\n",
              "      <td>46.680000</td>\n",
              "      <td>2.933000</td>\n",
              "      <td>0.000000</td>\n",
              "      <td>0.000000</td>\n",
              "      <td>0.000000</td>\n",
              "      <td>0.000000</td>\n",
              "      <td>0.000000</td>\n",
              "      <td>132.022667</td>\n",
              "      <td>6.891000</td>\n",
              "      <td>0.000000</td>\n",
              "      <td>93638.000000</td>\n",
              "      <td>4.000000</td>\n",
              "      <td>2010.000000</td>\n",
              "      <td>8.000000</td>\n",
              "    </tr>\n",
              "    <tr>\n",
              "      <th>50%</th>\n",
              "      <td>22.000000</td>\n",
              "      <td>37.000000</td>\n",
              "      <td>7612.030000</td>\n",
              "      <td>0.000000</td>\n",
              "      <td>62.090000</td>\n",
              "      <td>3.452000</td>\n",
              "      <td>0.000000</td>\n",
              "      <td>0.000000</td>\n",
              "      <td>0.000000</td>\n",
              "      <td>0.000000</td>\n",
              "      <td>0.000000</td>\n",
              "      <td>182.318780</td>\n",
              "      <td>7.866000</td>\n",
              "      <td>0.000000</td>\n",
              "      <td>140167.000000</td>\n",
              "      <td>6.000000</td>\n",
              "      <td>2011.000000</td>\n",
              "      <td>16.000000</td>\n",
              "    </tr>\n",
              "    <tr>\n",
              "      <th>75%</th>\n",
              "      <td>33.000000</td>\n",
              "      <td>74.000000</td>\n",
              "      <td>20205.852500</td>\n",
              "      <td>0.000000</td>\n",
              "      <td>74.280000</td>\n",
              "      <td>3.738000</td>\n",
              "      <td>2809.050000</td>\n",
              "      <td>3.200000</td>\n",
              "      <td>4.560000</td>\n",
              "      <td>425.290000</td>\n",
              "      <td>2168.040000</td>\n",
              "      <td>212.416993</td>\n",
              "      <td>8.572000</td>\n",
              "      <td>1.000000</td>\n",
              "      <td>202505.000000</td>\n",
              "      <td>9.000000</td>\n",
              "      <td>2012.000000</td>\n",
              "      <td>23.000000</td>\n",
              "    </tr>\n",
              "    <tr>\n",
              "      <th>max</th>\n",
              "      <td>45.000000</td>\n",
              "      <td>99.000000</td>\n",
              "      <td>693099.360000</td>\n",
              "      <td>1.000000</td>\n",
              "      <td>100.140000</td>\n",
              "      <td>4.468000</td>\n",
              "      <td>88646.760000</td>\n",
              "      <td>104519.540000</td>\n",
              "      <td>141630.610000</td>\n",
              "      <td>67474.850000</td>\n",
              "      <td>108519.280000</td>\n",
              "      <td>227.232807</td>\n",
              "      <td>14.313000</td>\n",
              "      <td>2.000000</td>\n",
              "      <td>219622.000000</td>\n",
              "      <td>12.000000</td>\n",
              "      <td>2012.000000</td>\n",
              "      <td>31.000000</td>\n",
              "    </tr>\n",
              "  </tbody>\n",
              "</table>\n",
              "</div>"
            ],
            "text/plain": [
              "               Store           Dept  ...           Year  date_of_month\n",
              "count  421570.000000  421570.000000  ...  421570.000000  421570.000000\n",
              "mean       22.200546      44.260317  ...    2010.968591      15.673131\n",
              "std        12.785297      30.492054  ...       0.796876       8.753549\n",
              "min         1.000000       1.000000  ...    2010.000000       1.000000\n",
              "25%        11.000000      18.000000  ...    2010.000000       8.000000\n",
              "50%        22.000000      37.000000  ...    2011.000000      16.000000\n",
              "75%        33.000000      74.000000  ...    2012.000000      23.000000\n",
              "max        45.000000      99.000000  ...    2012.000000      31.000000\n",
              "\n",
              "[8 rows x 18 columns]"
            ]
          },
          "metadata": {
            "tags": []
          },
          "execution_count": 189
        }
      ]
    },
    {
      "cell_type": "code",
      "metadata": {
        "id": "jMab5Ym3vked",
        "colab_type": "code",
        "colab": {}
      },
      "source": [
        ""
      ],
      "execution_count": 0,
      "outputs": []
    },
    {
      "cell_type": "code",
      "metadata": {
        "id": "v7rHZuRVlCpL",
        "colab_type": "code",
        "colab": {}
      },
      "source": [
        "#Weekly sales and markdown can not be negative . replacing the values with the mean values ."
      ],
      "execution_count": 0,
      "outputs": []
    },
    {
      "cell_type": "code",
      "metadata": {
        "id": "08INI1xAuxk4",
        "colab_type": "code",
        "colab": {}
      },
      "source": [
        "#replacing the mean values where the value of sales was negative "
      ],
      "execution_count": 0,
      "outputs": []
    },
    {
      "cell_type": "code",
      "metadata": {
        "id": "X2p7iBXtsrTb",
        "colab_type": "code",
        "outputId": "e38218fa-b0e8-41f9-e75d-e29f2f090e69",
        "colab": {
          "base_uri": "https://localhost:8080/",
          "height": 204
        }
      },
      "source": [
        "df_main2.head()"
      ],
      "execution_count": 192,
      "outputs": [
        {
          "output_type": "execute_result",
          "data": {
            "text/html": [
              "<div>\n",
              "<style scoped>\n",
              "    .dataframe tbody tr th:only-of-type {\n",
              "        vertical-align: middle;\n",
              "    }\n",
              "\n",
              "    .dataframe tbody tr th {\n",
              "        vertical-align: top;\n",
              "    }\n",
              "\n",
              "    .dataframe thead th {\n",
              "        text-align: right;\n",
              "    }\n",
              "</style>\n",
              "<table border=\"1\" class=\"dataframe\">\n",
              "  <thead>\n",
              "    <tr style=\"text-align: right;\">\n",
              "      <th></th>\n",
              "      <th>Store</th>\n",
              "      <th>Dept</th>\n",
              "      <th>Weekly_Sales</th>\n",
              "      <th>IsHoliday</th>\n",
              "      <th>Temperature</th>\n",
              "      <th>Fuel_Price</th>\n",
              "      <th>MarkDown1</th>\n",
              "      <th>MarkDown2</th>\n",
              "      <th>MarkDown3</th>\n",
              "      <th>MarkDown4</th>\n",
              "      <th>MarkDown5</th>\n",
              "      <th>CPI</th>\n",
              "      <th>Unemployment</th>\n",
              "      <th>Type</th>\n",
              "      <th>Size</th>\n",
              "      <th>Month</th>\n",
              "      <th>Year</th>\n",
              "      <th>date_of_month</th>\n",
              "    </tr>\n",
              "  </thead>\n",
              "  <tbody>\n",
              "    <tr>\n",
              "      <th>0</th>\n",
              "      <td>1</td>\n",
              "      <td>1</td>\n",
              "      <td>24924.50</td>\n",
              "      <td>0</td>\n",
              "      <td>42.31</td>\n",
              "      <td>2.572</td>\n",
              "      <td>0.0</td>\n",
              "      <td>0.0</td>\n",
              "      <td>0.0</td>\n",
              "      <td>0.0</td>\n",
              "      <td>0.0</td>\n",
              "      <td>211.096358</td>\n",
              "      <td>8.106</td>\n",
              "      <td>0</td>\n",
              "      <td>151315</td>\n",
              "      <td>2</td>\n",
              "      <td>2010</td>\n",
              "      <td>5</td>\n",
              "    </tr>\n",
              "    <tr>\n",
              "      <th>1</th>\n",
              "      <td>1</td>\n",
              "      <td>1</td>\n",
              "      <td>46039.49</td>\n",
              "      <td>1</td>\n",
              "      <td>38.51</td>\n",
              "      <td>2.548</td>\n",
              "      <td>0.0</td>\n",
              "      <td>0.0</td>\n",
              "      <td>0.0</td>\n",
              "      <td>0.0</td>\n",
              "      <td>0.0</td>\n",
              "      <td>211.242170</td>\n",
              "      <td>8.106</td>\n",
              "      <td>0</td>\n",
              "      <td>151315</td>\n",
              "      <td>2</td>\n",
              "      <td>2010</td>\n",
              "      <td>12</td>\n",
              "    </tr>\n",
              "    <tr>\n",
              "      <th>2</th>\n",
              "      <td>1</td>\n",
              "      <td>1</td>\n",
              "      <td>41595.55</td>\n",
              "      <td>0</td>\n",
              "      <td>39.93</td>\n",
              "      <td>2.514</td>\n",
              "      <td>0.0</td>\n",
              "      <td>0.0</td>\n",
              "      <td>0.0</td>\n",
              "      <td>0.0</td>\n",
              "      <td>0.0</td>\n",
              "      <td>211.289143</td>\n",
              "      <td>8.106</td>\n",
              "      <td>0</td>\n",
              "      <td>151315</td>\n",
              "      <td>2</td>\n",
              "      <td>2010</td>\n",
              "      <td>19</td>\n",
              "    </tr>\n",
              "    <tr>\n",
              "      <th>3</th>\n",
              "      <td>1</td>\n",
              "      <td>1</td>\n",
              "      <td>19403.54</td>\n",
              "      <td>0</td>\n",
              "      <td>46.63</td>\n",
              "      <td>2.561</td>\n",
              "      <td>0.0</td>\n",
              "      <td>0.0</td>\n",
              "      <td>0.0</td>\n",
              "      <td>0.0</td>\n",
              "      <td>0.0</td>\n",
              "      <td>211.319643</td>\n",
              "      <td>8.106</td>\n",
              "      <td>0</td>\n",
              "      <td>151315</td>\n",
              "      <td>2</td>\n",
              "      <td>2010</td>\n",
              "      <td>26</td>\n",
              "    </tr>\n",
              "    <tr>\n",
              "      <th>4</th>\n",
              "      <td>1</td>\n",
              "      <td>1</td>\n",
              "      <td>21827.90</td>\n",
              "      <td>0</td>\n",
              "      <td>46.50</td>\n",
              "      <td>2.625</td>\n",
              "      <td>0.0</td>\n",
              "      <td>0.0</td>\n",
              "      <td>0.0</td>\n",
              "      <td>0.0</td>\n",
              "      <td>0.0</td>\n",
              "      <td>211.350143</td>\n",
              "      <td>8.106</td>\n",
              "      <td>0</td>\n",
              "      <td>151315</td>\n",
              "      <td>3</td>\n",
              "      <td>2010</td>\n",
              "      <td>5</td>\n",
              "    </tr>\n",
              "  </tbody>\n",
              "</table>\n",
              "</div>"
            ],
            "text/plain": [
              "   Store  Dept  Weekly_Sales  IsHoliday  ...    Size  Month  Year  date_of_month\n",
              "0      1     1      24924.50          0  ...  151315      2  2010              5\n",
              "1      1     1      46039.49          1  ...  151315      2  2010             12\n",
              "2      1     1      41595.55          0  ...  151315      2  2010             19\n",
              "3      1     1      19403.54          0  ...  151315      2  2010             26\n",
              "4      1     1      21827.90          0  ...  151315      3  2010              5\n",
              "\n",
              "[5 rows x 18 columns]"
            ]
          },
          "metadata": {
            "tags": []
          },
          "execution_count": 192
        }
      ]
    },
    {
      "cell_type": "code",
      "metadata": {
        "id": "MeoZ_CbLtHoR",
        "colab_type": "code",
        "outputId": "ff2fc335-2fc7-4d22-d337-1787bc60ae1c",
        "colab": {
          "base_uri": "https://localhost:8080/",
          "height": 102
        }
      },
      "source": [
        "df_main2.columns"
      ],
      "execution_count": 193,
      "outputs": [
        {
          "output_type": "execute_result",
          "data": {
            "text/plain": [
              "Index(['Store', 'Dept', 'Weekly_Sales', 'IsHoliday', 'Temperature',\n",
              "       'Fuel_Price', 'MarkDown1', 'MarkDown2', 'MarkDown3', 'MarkDown4',\n",
              "       'MarkDown5', 'CPI', 'Unemployment', 'Type', 'Size', 'Month', 'Year',\n",
              "       'date_of_month'],\n",
              "      dtype='object')"
            ]
          },
          "metadata": {
            "tags": []
          },
          "execution_count": 193
        }
      ]
    },
    {
      "cell_type": "code",
      "metadata": {
        "id": "ln35u7YpEcna",
        "colab_type": "code",
        "colab": {}
      },
      "source": [
        "# the target variable is Weekly_Sales"
      ],
      "execution_count": 0,
      "outputs": []
    },
    {
      "cell_type": "code",
      "metadata": {
        "id": "qdLPzj-lstaR",
        "colab_type": "code",
        "colab": {}
      },
      "source": [
        "sc = StandardScaler()\n"
      ],
      "execution_count": 0,
      "outputs": []
    },
    {
      "cell_type": "code",
      "metadata": {
        "id": "o-Ybl4vAJUwJ",
        "colab_type": "code",
        "colab": {}
      },
      "source": [
        "df_main_X = df_main2[['Store', 'Dept', 'IsHoliday', 'Temperature',\n",
        "       'Fuel_Price', 'MarkDown1', 'MarkDown2', 'MarkDown3', 'MarkDown4',\n",
        "       'MarkDown5', 'CPI', 'Unemployment', 'Type', 'Size', 'Month',\n",
        "       'date_of_month']]"
      ],
      "execution_count": 0,
      "outputs": []
    },
    {
      "cell_type": "code",
      "metadata": {
        "id": "Hu89ZFcDJsNu",
        "colab_type": "code",
        "colab": {
          "base_uri": "https://localhost:8080/",
          "height": 34
        },
        "outputId": "a04f9425-efb9-424b-df45-c39b3de2784d"
      },
      "source": [
        "#df_main_X.head()\n",
        "df_main_X.shape"
      ],
      "execution_count": 197,
      "outputs": [
        {
          "output_type": "execute_result",
          "data": {
            "text/plain": [
              "(421570, 16)"
            ]
          },
          "metadata": {
            "tags": []
          },
          "execution_count": 197
        }
      ]
    },
    {
      "cell_type": "code",
      "metadata": {
        "id": "auBESsSsJdRr",
        "colab_type": "code",
        "colab": {}
      },
      "source": [
        "df_main_Y = df_main2['Weekly_Sales']"
      ],
      "execution_count": 0,
      "outputs": []
    },
    {
      "cell_type": "code",
      "metadata": {
        "id": "2_gDqOj9OglV",
        "colab_type": "code",
        "colab": {
          "base_uri": "https://localhost:8080/",
          "height": 119
        },
        "outputId": "2c39a446-bfb9-45b5-ea4b-80372d366817"
      },
      "source": [
        "df_main_Y.head()"
      ],
      "execution_count": 199,
      "outputs": [
        {
          "output_type": "execute_result",
          "data": {
            "text/plain": [
              "0    24924.50\n",
              "1    46039.49\n",
              "2    41595.55\n",
              "3    19403.54\n",
              "4    21827.90\n",
              "Name: Weekly_Sales, dtype: float64"
            ]
          },
          "metadata": {
            "tags": []
          },
          "execution_count": 199
        }
      ]
    },
    {
      "cell_type": "code",
      "metadata": {
        "id": "yciMNPKGtDCo",
        "colab_type": "code",
        "colab": {
          "base_uri": "https://localhost:8080/",
          "height": 221
        },
        "outputId": "c9da3d77-1d43-4144-cde9-130b51539cf1"
      },
      "source": [
        "df_main_X[['Temperature','Fuel_Price', 'MarkDown1', 'MarkDown2', 'MarkDown3', 'MarkDown4',\n",
        "       'MarkDown5', 'CPI', 'Unemployment','Size', 'Month', 'date_of_month']] = sc.fit_transform(df_main_X[['Temperature','Fuel_Price', 'MarkDown1', 'MarkDown2', 'MarkDown3', 'MarkDown4',\n",
        "       'MarkDown5', 'CPI', 'Unemployment','Size', 'Month', 'date_of_month']])"
      ],
      "execution_count": 200,
      "outputs": [
        {
          "output_type": "stream",
          "text": [
            "/usr/local/lib/python3.6/dist-packages/ipykernel_launcher.py:3: SettingWithCopyWarning: \n",
            "A value is trying to be set on a copy of a slice from a DataFrame.\n",
            "Try using .loc[row_indexer,col_indexer] = value instead\n",
            "\n",
            "See the caveats in the documentation: http://pandas.pydata.org/pandas-docs/stable/user_guide/indexing.html#returning-a-view-versus-a-copy\n",
            "  This is separate from the ipykernel package so we can avoid doing imports until\n",
            "/usr/local/lib/python3.6/dist-packages/pandas/core/indexing.py:494: SettingWithCopyWarning: \n",
            "A value is trying to be set on a copy of a slice from a DataFrame.\n",
            "Try using .loc[row_indexer,col_indexer] = value instead\n",
            "\n",
            "See the caveats in the documentation: http://pandas.pydata.org/pandas-docs/stable/user_guide/indexing.html#returning-a-view-versus-a-copy\n",
            "  self.obj[item] = s\n"
          ],
          "name": "stderr"
        }
      ]
    },
    {
      "cell_type": "code",
      "metadata": {
        "id": "hqUzKs2Ztozr",
        "colab_type": "code",
        "outputId": "727ddcd0-d7d6-43aa-c46e-d6e84bf21831",
        "colab": {
          "base_uri": "https://localhost:8080/",
          "height": 34
        }
      },
      "source": [
        "X = df_main_X.iloc[:,:].values\n",
        "X.shape"
      ],
      "execution_count": 201,
      "outputs": [
        {
          "output_type": "execute_result",
          "data": {
            "text/plain": [
              "(421570, 16)"
            ]
          },
          "metadata": {
            "tags": []
          },
          "execution_count": 201
        }
      ]
    },
    {
      "cell_type": "code",
      "metadata": {
        "id": "di8cZArEMTLT",
        "colab_type": "code",
        "colab": {}
      },
      "source": [
        "#***"
      ],
      "execution_count": 0,
      "outputs": []
    },
    {
      "cell_type": "code",
      "metadata": {
        "id": "HmmreL9WKw3x",
        "colab_type": "code",
        "colab": {}
      },
      "source": [
        "y = df_main2.loc[:,'Weekly_Sales'].values"
      ],
      "execution_count": 0,
      "outputs": []
    },
    {
      "cell_type": "code",
      "metadata": {
        "id": "weOxt-j4K2in",
        "colab_type": "code",
        "colab": {
          "base_uri": "https://localhost:8080/",
          "height": 34
        },
        "outputId": "a2a19eab-52f5-47d8-fd93-1ce0ee949a92"
      },
      "source": [
        "y.shape"
      ],
      "execution_count": 204,
      "outputs": [
        {
          "output_type": "execute_result",
          "data": {
            "text/plain": [
              "(421570,)"
            ]
          },
          "metadata": {
            "tags": []
          },
          "execution_count": 204
        }
      ]
    },
    {
      "cell_type": "code",
      "metadata": {
        "id": "mrzBoTtAt5Qp",
        "colab_type": "code",
        "colab": {}
      },
      "source": [
        "X_train, X_test, y_train, y_test = train_test_split( X, y, test_size=0.25, random_state=22)\n"
      ],
      "execution_count": 0,
      "outputs": []
    },
    {
      "cell_type": "code",
      "metadata": {
        "id": "cH2bX8__LGft",
        "colab_type": "code",
        "colab": {
          "base_uri": "https://localhost:8080/",
          "height": 34
        },
        "outputId": "b24b06d4-0b24-4b4b-a4da-19aecd7d49c6"
      },
      "source": [
        "X_train.shape\n",
        "y_train.shape"
      ],
      "execution_count": 206,
      "outputs": [
        {
          "output_type": "execute_result",
          "data": {
            "text/plain": [
              "(316177,)"
            ]
          },
          "metadata": {
            "tags": []
          },
          "execution_count": 206
        }
      ]
    },
    {
      "cell_type": "code",
      "metadata": {
        "id": "XDCaq4IELJEC",
        "colab_type": "code",
        "colab": {}
      },
      "source": [
        "###########################################################################\n",
        "#\n",
        "#    MODEL BUILDING BEGINS \n",
        "#\n",
        "############################################################################"
      ],
      "execution_count": 0,
      "outputs": []
    },
    {
      "cell_type": "code",
      "metadata": {
        "id": "fPjswxJHMf6V",
        "colab_type": "code",
        "colab": {
          "base_uri": "https://localhost:8080/",
          "height": 442
        },
        "outputId": "add5fc5b-7e9c-4e8e-ba92-a42ae09e29e9"
      },
      "source": [
        "regr = RandomForestRegressor(n_estimators=15, criterion='mse', max_depth=None, \n",
        "                      min_samples_split=2, min_samples_leaf=1, \n",
        "                      min_weight_fraction_leaf=0.0, max_features='auto', \n",
        "                      max_leaf_nodes=None, min_impurity_decrease=0.0, \n",
        "                      min_impurity_split=None, bootstrap=True, \n",
        "                      oob_score=False, n_jobs=1, random_state=None, \n",
        "                      verbose=2, warm_start=False)\n",
        "\n",
        "#Train on data\n",
        "regr.fit(X_train, y_train)"
      ],
      "execution_count": 208,
      "outputs": [
        {
          "output_type": "stream",
          "text": [
            "[Parallel(n_jobs=1)]: Using backend SequentialBackend with 1 concurrent workers.\n"
          ],
          "name": "stderr"
        },
        {
          "output_type": "stream",
          "text": [
            "building tree 1 of 15\n"
          ],
          "name": "stdout"
        },
        {
          "output_type": "stream",
          "text": [
            "[Parallel(n_jobs=1)]: Done   1 out of   1 | elapsed:    3.2s remaining:    0.0s\n"
          ],
          "name": "stderr"
        },
        {
          "output_type": "stream",
          "text": [
            "building tree 2 of 15\n",
            "building tree 3 of 15\n",
            "building tree 4 of 15\n",
            "building tree 5 of 15\n",
            "building tree 6 of 15\n",
            "building tree 7 of 15\n",
            "building tree 8 of 15\n",
            "building tree 9 of 15\n",
            "building tree 10 of 15\n",
            "building tree 11 of 15\n",
            "building tree 12 of 15\n",
            "building tree 13 of 15\n",
            "building tree 14 of 15\n",
            "building tree 15 of 15\n"
          ],
          "name": "stdout"
        },
        {
          "output_type": "stream",
          "text": [
            "[Parallel(n_jobs=1)]: Done  15 out of  15 | elapsed:   48.6s finished\n"
          ],
          "name": "stderr"
        },
        {
          "output_type": "execute_result",
          "data": {
            "text/plain": [
              "RandomForestRegressor(bootstrap=True, ccp_alpha=0.0, criterion='mse',\n",
              "                      max_depth=None, max_features='auto', max_leaf_nodes=None,\n",
              "                      max_samples=None, min_impurity_decrease=0.0,\n",
              "                      min_impurity_split=None, min_samples_leaf=1,\n",
              "                      min_samples_split=2, min_weight_fraction_leaf=0.0,\n",
              "                      n_estimators=15, n_jobs=1, oob_score=False,\n",
              "                      random_state=None, verbose=2, warm_start=False)"
            ]
          },
          "metadata": {
            "tags": []
          },
          "execution_count": 208
        }
      ]
    },
    {
      "cell_type": "code",
      "metadata": {
        "id": "Mkw4cGXINtYj",
        "colab_type": "code",
        "colab": {
          "base_uri": "https://localhost:8080/",
          "height": 68
        },
        "outputId": "0d6fdbef-b2f3-418d-8a8b-3f1931262906"
      },
      "source": [
        "print(regr.feature_importances_)"
      ],
      "execution_count": 209,
      "outputs": [
        {
          "output_type": "stream",
          "text": [
            "[0.05547942 0.62477006 0.00228733 0.01040733 0.00493307 0.00098353\n",
            " 0.00098056 0.00917968 0.00112052 0.00102644 0.0274503  0.01147102\n",
            " 0.0142928  0.19267394 0.02697681 0.01596718]\n"
          ],
          "name": "stdout"
        }
      ]
    },
    {
      "cell_type": "code",
      "metadata": {
        "id": "t82V-cdzODZK",
        "colab_type": "code",
        "colab": {
          "base_uri": "https://localhost:8080/",
          "height": 68
        },
        "outputId": "25c4dd1c-f4d8-4de1-9b72-05528226985c"
      },
      "source": [
        "a = regr.predict(X_test)"
      ],
      "execution_count": 210,
      "outputs": [
        {
          "output_type": "stream",
          "text": [
            "[Parallel(n_jobs=1)]: Using backend SequentialBackend with 1 concurrent workers.\n",
            "[Parallel(n_jobs=1)]: Done   1 out of   1 | elapsed:    0.1s remaining:    0.0s\n",
            "[Parallel(n_jobs=1)]: Done  15 out of  15 | elapsed:    1.1s finished\n"
          ],
          "name": "stderr"
        }
      ]
    },
    {
      "cell_type": "code",
      "metadata": {
        "id": "Mbb1_PULOM5b",
        "colab_type": "code",
        "colab": {
          "base_uri": "https://localhost:8080/",
          "height": 51
        },
        "outputId": "00d97c36-6944-4028-ed8f-15ffd6fe6131"
      },
      "source": [
        "a"
      ],
      "execution_count": 211,
      "outputs": [
        {
          "output_type": "execute_result",
          "data": {
            "text/plain": [
              "array([13949.51533333, 34402.88133333,  8279.60066667, ...,\n",
              "        4558.744     , 16533.05333333, 28111.93866667])"
            ]
          },
          "metadata": {
            "tags": []
          },
          "execution_count": 211
        }
      ]
    },
    {
      "cell_type": "code",
      "metadata": {
        "id": "luHr9_VyOTbK",
        "colab_type": "code",
        "colab": {
          "base_uri": "https://localhost:8080/",
          "height": 34
        },
        "outputId": "8bf8e290-c4f5-4ee5-977e-90d2e721882e"
      },
      "source": [
        "y_test"
      ],
      "execution_count": 212,
      "outputs": [
        {
          "output_type": "execute_result",
          "data": {
            "text/plain": [
              "array([14098.32, 36982.23,  8986.47, ...,  4735.63, 17404.53, 29414.29])"
            ]
          },
          "metadata": {
            "tags": []
          },
          "execution_count": 212
        }
      ]
    },
    {
      "cell_type": "code",
      "metadata": {
        "id": "0JRf70sOIesK",
        "colab_type": "code",
        "colab": {}
      },
      "source": [
        "###########################################################################\n",
        "#\n",
        "#    ERROR CALCULATION - MSE as stated in the problem \n",
        "#\n",
        "############################################################################"
      ],
      "execution_count": 0,
      "outputs": []
    },
    {
      "cell_type": "code",
      "metadata": {
        "id": "UI5uEl5Bb-jk",
        "colab_type": "code",
        "colab": {
          "base_uri": "https://localhost:8080/",
          "height": 34
        },
        "outputId": "dc8b7261-1796-4cd1-9fb4-a56e04b00ae2"
      },
      "source": [
        "print(np.sqrt(mean_squared_error(y_test,a)))"
      ],
      "execution_count": 214,
      "outputs": [
        {
          "output_type": "stream",
          "text": [
            "3875.9387695078385\n"
          ],
          "name": "stdout"
        }
      ]
    },
    {
      "cell_type": "code",
      "metadata": {
        "id": "5jiPzzzacuYK",
        "colab_type": "code",
        "colab": {
          "base_uri": "https://localhost:8080/",
          "height": 85
        },
        "outputId": "a99dc628-9f10-4bb2-a97b-ed711f411279"
      },
      "source": [
        "X_test[1]"
      ],
      "execution_count": 215,
      "outputs": [
        {
          "output_type": "execute_result",
          "data": {
            "text/plain": [
              "array([45.        ,  2.        ,  0.        ,  0.350172  , -1.42858568,\n",
              "       -0.42794328, -0.17369509, -0.08470676, -0.27811663, -0.39518081,\n",
              "        0.2916442 ,  0.42006864,  1.        , -0.30348902,  0.78640827,\n",
              "        0.15158082])"
            ]
          },
          "metadata": {
            "tags": []
          },
          "execution_count": 215
        }
      ]
    },
    {
      "cell_type": "code",
      "metadata": {
        "id": "l2PT59oaOXeK",
        "colab_type": "code",
        "colab": {}
      },
      "source": [
        ""
      ],
      "execution_count": 0,
      "outputs": []
    },
    {
      "cell_type": "code",
      "metadata": {
        "id": "95Mc-D-KbkSF",
        "colab_type": "code",
        "colab": {}
      },
      "source": [
        "test_data=pd.read_csv('gdrive/My Drive/test.csv')"
      ],
      "execution_count": 0,
      "outputs": []
    },
    {
      "cell_type": "code",
      "metadata": {
        "id": "r3HoIGevhvSZ",
        "colab_type": "code",
        "colab": {
          "base_uri": "https://localhost:8080/",
          "height": 204
        },
        "outputId": "6cb5d82c-5a62-4d38-e6bb-ca3890e7560a"
      },
      "source": [
        "test_data.head()"
      ],
      "execution_count": 217,
      "outputs": [
        {
          "output_type": "execute_result",
          "data": {
            "text/html": [
              "<div>\n",
              "<style scoped>\n",
              "    .dataframe tbody tr th:only-of-type {\n",
              "        vertical-align: middle;\n",
              "    }\n",
              "\n",
              "    .dataframe tbody tr th {\n",
              "        vertical-align: top;\n",
              "    }\n",
              "\n",
              "    .dataframe thead th {\n",
              "        text-align: right;\n",
              "    }\n",
              "</style>\n",
              "<table border=\"1\" class=\"dataframe\">\n",
              "  <thead>\n",
              "    <tr style=\"text-align: right;\">\n",
              "      <th></th>\n",
              "      <th>Store</th>\n",
              "      <th>Dept</th>\n",
              "      <th>Date</th>\n",
              "      <th>IsHoliday</th>\n",
              "    </tr>\n",
              "  </thead>\n",
              "  <tbody>\n",
              "    <tr>\n",
              "      <th>0</th>\n",
              "      <td>1</td>\n",
              "      <td>1</td>\n",
              "      <td>2012-11-02</td>\n",
              "      <td>False</td>\n",
              "    </tr>\n",
              "    <tr>\n",
              "      <th>1</th>\n",
              "      <td>1</td>\n",
              "      <td>1</td>\n",
              "      <td>2012-11-09</td>\n",
              "      <td>False</td>\n",
              "    </tr>\n",
              "    <tr>\n",
              "      <th>2</th>\n",
              "      <td>1</td>\n",
              "      <td>1</td>\n",
              "      <td>2012-11-16</td>\n",
              "      <td>False</td>\n",
              "    </tr>\n",
              "    <tr>\n",
              "      <th>3</th>\n",
              "      <td>1</td>\n",
              "      <td>1</td>\n",
              "      <td>2012-11-23</td>\n",
              "      <td>True</td>\n",
              "    </tr>\n",
              "    <tr>\n",
              "      <th>4</th>\n",
              "      <td>1</td>\n",
              "      <td>1</td>\n",
              "      <td>2012-11-30</td>\n",
              "      <td>False</td>\n",
              "    </tr>\n",
              "  </tbody>\n",
              "</table>\n",
              "</div>"
            ],
            "text/plain": [
              "   Store  Dept        Date  IsHoliday\n",
              "0      1     1  2012-11-02      False\n",
              "1      1     1  2012-11-09      False\n",
              "2      1     1  2012-11-16      False\n",
              "3      1     1  2012-11-23       True\n",
              "4      1     1  2012-11-30      False"
            ]
          },
          "metadata": {
            "tags": []
          },
          "execution_count": 217
        }
      ]
    },
    {
      "cell_type": "code",
      "metadata": {
        "id": "mImjDIq-hxDa",
        "colab_type": "code",
        "colab": {}
      },
      "source": [
        "df_main_test = pd.merge(test_data, features, how='left')"
      ],
      "execution_count": 0,
      "outputs": []
    },
    {
      "cell_type": "code",
      "metadata": {
        "id": "1la2RHZNh-zn",
        "colab_type": "code",
        "colab": {}
      },
      "source": [
        "df_main2_test = pd.merge(df_main_test,stores, how='left')"
      ],
      "execution_count": 0,
      "outputs": []
    },
    {
      "cell_type": "code",
      "metadata": {
        "id": "Nq9ZqmnkijIz",
        "colab_type": "code",
        "colab": {
          "base_uri": "https://localhost:8080/",
          "height": 204
        },
        "outputId": "07d10267-b696-41f8-8253-91706f3f5576"
      },
      "source": [
        "df_main_X.head()"
      ],
      "execution_count": 220,
      "outputs": [
        {
          "output_type": "execute_result",
          "data": {
            "text/html": [
              "<div>\n",
              "<style scoped>\n",
              "    .dataframe tbody tr th:only-of-type {\n",
              "        vertical-align: middle;\n",
              "    }\n",
              "\n",
              "    .dataframe tbody tr th {\n",
              "        vertical-align: top;\n",
              "    }\n",
              "\n",
              "    .dataframe thead th {\n",
              "        text-align: right;\n",
              "    }\n",
              "</style>\n",
              "<table border=\"1\" class=\"dataframe\">\n",
              "  <thead>\n",
              "    <tr style=\"text-align: right;\">\n",
              "      <th></th>\n",
              "      <th>Store</th>\n",
              "      <th>Dept</th>\n",
              "      <th>IsHoliday</th>\n",
              "      <th>Temperature</th>\n",
              "      <th>Fuel_Price</th>\n",
              "      <th>MarkDown1</th>\n",
              "      <th>MarkDown2</th>\n",
              "      <th>MarkDown3</th>\n",
              "      <th>MarkDown4</th>\n",
              "      <th>MarkDown5</th>\n",
              "      <th>CPI</th>\n",
              "      <th>Unemployment</th>\n",
              "      <th>Type</th>\n",
              "      <th>Size</th>\n",
              "      <th>Month</th>\n",
              "      <th>date_of_month</th>\n",
              "    </tr>\n",
              "  </thead>\n",
              "  <tbody>\n",
              "    <tr>\n",
              "      <th>0</th>\n",
              "      <td>1</td>\n",
              "      <td>1</td>\n",
              "      <td>0</td>\n",
              "      <td>-0.963798</td>\n",
              "      <td>-1.720834</td>\n",
              "      <td>-0.427943</td>\n",
              "      <td>-0.173695</td>\n",
              "      <td>-0.084707</td>\n",
              "      <td>-0.278117</td>\n",
              "      <td>-0.395181</td>\n",
              "      <td>1.018774</td>\n",
              "      <td>0.078201</td>\n",
              "      <td>0</td>\n",
              "      <td>0.239209</td>\n",
              "      <td>-1.371945</td>\n",
              "      <td>-1.219293</td>\n",
              "    </tr>\n",
              "    <tr>\n",
              "      <th>1</th>\n",
              "      <td>1</td>\n",
              "      <td>1</td>\n",
              "      <td>1</td>\n",
              "      <td>-1.169783</td>\n",
              "      <td>-1.773177</td>\n",
              "      <td>-0.427943</td>\n",
              "      <td>-0.173695</td>\n",
              "      <td>-0.084707</td>\n",
              "      <td>-0.278117</td>\n",
              "      <td>-0.395181</td>\n",
              "      <td>1.022498</td>\n",
              "      <td>0.078201</td>\n",
              "      <td>0</td>\n",
              "      <td>0.239209</td>\n",
              "      <td>-1.371945</td>\n",
              "      <td>-0.419617</td>\n",
              "    </tr>\n",
              "    <tr>\n",
              "      <th>2</th>\n",
              "      <td>1</td>\n",
              "      <td>1</td>\n",
              "      <td>0</td>\n",
              "      <td>-1.092810</td>\n",
              "      <td>-1.847330</td>\n",
              "      <td>-0.427943</td>\n",
              "      <td>-0.173695</td>\n",
              "      <td>-0.084707</td>\n",
              "      <td>-0.278117</td>\n",
              "      <td>-0.395181</td>\n",
              "      <td>1.023697</td>\n",
              "      <td>0.078201</td>\n",
              "      <td>0</td>\n",
              "      <td>0.239209</td>\n",
              "      <td>-1.371945</td>\n",
              "      <td>0.380060</td>\n",
              "    </tr>\n",
              "    <tr>\n",
              "      <th>3</th>\n",
              "      <td>1</td>\n",
              "      <td>1</td>\n",
              "      <td>0</td>\n",
              "      <td>-0.729625</td>\n",
              "      <td>-1.744825</td>\n",
              "      <td>-0.427943</td>\n",
              "      <td>-0.173695</td>\n",
              "      <td>-0.084707</td>\n",
              "      <td>-0.278117</td>\n",
              "      <td>-0.395181</td>\n",
              "      <td>1.024476</td>\n",
              "      <td>0.078201</td>\n",
              "      <td>0</td>\n",
              "      <td>0.239209</td>\n",
              "      <td>-1.371945</td>\n",
              "      <td>1.179736</td>\n",
              "    </tr>\n",
              "    <tr>\n",
              "      <th>4</th>\n",
              "      <td>1</td>\n",
              "      <td>1</td>\n",
              "      <td>0</td>\n",
              "      <td>-0.736672</td>\n",
              "      <td>-1.605243</td>\n",
              "      <td>-0.427943</td>\n",
              "      <td>-0.173695</td>\n",
              "      <td>-0.084707</td>\n",
              "      <td>-0.278117</td>\n",
              "      <td>-0.395181</td>\n",
              "      <td>1.025255</td>\n",
              "      <td>0.078201</td>\n",
              "      <td>0</td>\n",
              "      <td>0.239209</td>\n",
              "      <td>-1.063609</td>\n",
              "      <td>-1.219293</td>\n",
              "    </tr>\n",
              "  </tbody>\n",
              "</table>\n",
              "</div>"
            ],
            "text/plain": [
              "   Store  Dept  IsHoliday  Temperature  ...  Type      Size     Month  date_of_month\n",
              "0      1     1          0    -0.963798  ...     0  0.239209 -1.371945      -1.219293\n",
              "1      1     1          1    -1.169783  ...     0  0.239209 -1.371945      -0.419617\n",
              "2      1     1          0    -1.092810  ...     0  0.239209 -1.371945       0.380060\n",
              "3      1     1          0    -0.729625  ...     0  0.239209 -1.371945       1.179736\n",
              "4      1     1          0    -0.736672  ...     0  0.239209 -1.063609      -1.219293\n",
              "\n",
              "[5 rows x 16 columns]"
            ]
          },
          "metadata": {
            "tags": []
          },
          "execution_count": 220
        }
      ]
    },
    {
      "cell_type": "code",
      "metadata": {
        "id": "KK4u8dIuiGXr",
        "colab_type": "code",
        "colab": {
          "base_uri": "https://localhost:8080/",
          "height": 419
        },
        "outputId": "b88187cb-4ed5-4223-865c-72d7b16578b9"
      },
      "source": [
        "df_main2_test"
      ],
      "execution_count": 221,
      "outputs": [
        {
          "output_type": "execute_result",
          "data": {
            "text/html": [
              "<div>\n",
              "<style scoped>\n",
              "    .dataframe tbody tr th:only-of-type {\n",
              "        vertical-align: middle;\n",
              "    }\n",
              "\n",
              "    .dataframe tbody tr th {\n",
              "        vertical-align: top;\n",
              "    }\n",
              "\n",
              "    .dataframe thead th {\n",
              "        text-align: right;\n",
              "    }\n",
              "</style>\n",
              "<table border=\"1\" class=\"dataframe\">\n",
              "  <thead>\n",
              "    <tr style=\"text-align: right;\">\n",
              "      <th></th>\n",
              "      <th>Store</th>\n",
              "      <th>Dept</th>\n",
              "      <th>Date</th>\n",
              "      <th>IsHoliday</th>\n",
              "      <th>Temperature</th>\n",
              "      <th>Fuel_Price</th>\n",
              "      <th>MarkDown1</th>\n",
              "      <th>MarkDown2</th>\n",
              "      <th>MarkDown3</th>\n",
              "      <th>MarkDown4</th>\n",
              "      <th>MarkDown5</th>\n",
              "      <th>CPI</th>\n",
              "      <th>Unemployment</th>\n",
              "      <th>Type</th>\n",
              "      <th>Size</th>\n",
              "    </tr>\n",
              "  </thead>\n",
              "  <tbody>\n",
              "    <tr>\n",
              "      <th>0</th>\n",
              "      <td>1</td>\n",
              "      <td>1</td>\n",
              "      <td>2012-11-02</td>\n",
              "      <td>False</td>\n",
              "      <td>55.32</td>\n",
              "      <td>3.386</td>\n",
              "      <td>6766.44</td>\n",
              "      <td>5147.70</td>\n",
              "      <td>50.82</td>\n",
              "      <td>3639.90</td>\n",
              "      <td>2737.42</td>\n",
              "      <td>223.462779</td>\n",
              "      <td>6.573</td>\n",
              "      <td>A</td>\n",
              "      <td>151315</td>\n",
              "    </tr>\n",
              "    <tr>\n",
              "      <th>1</th>\n",
              "      <td>1</td>\n",
              "      <td>1</td>\n",
              "      <td>2012-11-09</td>\n",
              "      <td>False</td>\n",
              "      <td>61.24</td>\n",
              "      <td>3.314</td>\n",
              "      <td>11421.32</td>\n",
              "      <td>3370.89</td>\n",
              "      <td>40.28</td>\n",
              "      <td>4646.79</td>\n",
              "      <td>6154.16</td>\n",
              "      <td>223.481307</td>\n",
              "      <td>6.573</td>\n",
              "      <td>A</td>\n",
              "      <td>151315</td>\n",
              "    </tr>\n",
              "    <tr>\n",
              "      <th>2</th>\n",
              "      <td>1</td>\n",
              "      <td>1</td>\n",
              "      <td>2012-11-16</td>\n",
              "      <td>False</td>\n",
              "      <td>52.92</td>\n",
              "      <td>3.252</td>\n",
              "      <td>9696.28</td>\n",
              "      <td>292.10</td>\n",
              "      <td>103.78</td>\n",
              "      <td>1133.15</td>\n",
              "      <td>6612.69</td>\n",
              "      <td>223.512911</td>\n",
              "      <td>6.573</td>\n",
              "      <td>A</td>\n",
              "      <td>151315</td>\n",
              "    </tr>\n",
              "    <tr>\n",
              "      <th>3</th>\n",
              "      <td>1</td>\n",
              "      <td>1</td>\n",
              "      <td>2012-11-23</td>\n",
              "      <td>True</td>\n",
              "      <td>56.23</td>\n",
              "      <td>3.211</td>\n",
              "      <td>883.59</td>\n",
              "      <td>4.17</td>\n",
              "      <td>74910.32</td>\n",
              "      <td>209.91</td>\n",
              "      <td>303.32</td>\n",
              "      <td>223.561947</td>\n",
              "      <td>6.573</td>\n",
              "      <td>A</td>\n",
              "      <td>151315</td>\n",
              "    </tr>\n",
              "    <tr>\n",
              "      <th>4</th>\n",
              "      <td>1</td>\n",
              "      <td>1</td>\n",
              "      <td>2012-11-30</td>\n",
              "      <td>False</td>\n",
              "      <td>52.34</td>\n",
              "      <td>3.207</td>\n",
              "      <td>2460.03</td>\n",
              "      <td>NaN</td>\n",
              "      <td>3838.35</td>\n",
              "      <td>150.57</td>\n",
              "      <td>6966.34</td>\n",
              "      <td>223.610984</td>\n",
              "      <td>6.573</td>\n",
              "      <td>A</td>\n",
              "      <td>151315</td>\n",
              "    </tr>\n",
              "    <tr>\n",
              "      <th>...</th>\n",
              "      <td>...</td>\n",
              "      <td>...</td>\n",
              "      <td>...</td>\n",
              "      <td>...</td>\n",
              "      <td>...</td>\n",
              "      <td>...</td>\n",
              "      <td>...</td>\n",
              "      <td>...</td>\n",
              "      <td>...</td>\n",
              "      <td>...</td>\n",
              "      <td>...</td>\n",
              "      <td>...</td>\n",
              "      <td>...</td>\n",
              "      <td>...</td>\n",
              "      <td>...</td>\n",
              "    </tr>\n",
              "    <tr>\n",
              "      <th>115059</th>\n",
              "      <td>45</td>\n",
              "      <td>98</td>\n",
              "      <td>2013-06-28</td>\n",
              "      <td>False</td>\n",
              "      <td>76.05</td>\n",
              "      <td>3.639</td>\n",
              "      <td>4842.29</td>\n",
              "      <td>975.03</td>\n",
              "      <td>3.00</td>\n",
              "      <td>2449.97</td>\n",
              "      <td>3169.69</td>\n",
              "      <td>NaN</td>\n",
              "      <td>NaN</td>\n",
              "      <td>B</td>\n",
              "      <td>118221</td>\n",
              "    </tr>\n",
              "    <tr>\n",
              "      <th>115060</th>\n",
              "      <td>45</td>\n",
              "      <td>98</td>\n",
              "      <td>2013-07-05</td>\n",
              "      <td>False</td>\n",
              "      <td>77.50</td>\n",
              "      <td>3.614</td>\n",
              "      <td>9090.48</td>\n",
              "      <td>2268.58</td>\n",
              "      <td>582.74</td>\n",
              "      <td>5797.47</td>\n",
              "      <td>1514.93</td>\n",
              "      <td>NaN</td>\n",
              "      <td>NaN</td>\n",
              "      <td>B</td>\n",
              "      <td>118221</td>\n",
              "    </tr>\n",
              "    <tr>\n",
              "      <th>115061</th>\n",
              "      <td>45</td>\n",
              "      <td>98</td>\n",
              "      <td>2013-07-12</td>\n",
              "      <td>False</td>\n",
              "      <td>79.37</td>\n",
              "      <td>3.614</td>\n",
              "      <td>3789.94</td>\n",
              "      <td>1827.31</td>\n",
              "      <td>85.72</td>\n",
              "      <td>744.84</td>\n",
              "      <td>2150.36</td>\n",
              "      <td>NaN</td>\n",
              "      <td>NaN</td>\n",
              "      <td>B</td>\n",
              "      <td>118221</td>\n",
              "    </tr>\n",
              "    <tr>\n",
              "      <th>115062</th>\n",
              "      <td>45</td>\n",
              "      <td>98</td>\n",
              "      <td>2013-07-19</td>\n",
              "      <td>False</td>\n",
              "      <td>82.84</td>\n",
              "      <td>3.737</td>\n",
              "      <td>2961.49</td>\n",
              "      <td>1047.07</td>\n",
              "      <td>204.19</td>\n",
              "      <td>363.00</td>\n",
              "      <td>1059.46</td>\n",
              "      <td>NaN</td>\n",
              "      <td>NaN</td>\n",
              "      <td>B</td>\n",
              "      <td>118221</td>\n",
              "    </tr>\n",
              "    <tr>\n",
              "      <th>115063</th>\n",
              "      <td>45</td>\n",
              "      <td>98</td>\n",
              "      <td>2013-07-26</td>\n",
              "      <td>False</td>\n",
              "      <td>76.06</td>\n",
              "      <td>3.804</td>\n",
              "      <td>212.02</td>\n",
              "      <td>851.73</td>\n",
              "      <td>2.06</td>\n",
              "      <td>10.88</td>\n",
              "      <td>1864.57</td>\n",
              "      <td>NaN</td>\n",
              "      <td>NaN</td>\n",
              "      <td>B</td>\n",
              "      <td>118221</td>\n",
              "    </tr>\n",
              "  </tbody>\n",
              "</table>\n",
              "<p>115064 rows × 15 columns</p>\n",
              "</div>"
            ],
            "text/plain": [
              "        Store  Dept        Date  ...  Unemployment  Type    Size\n",
              "0           1     1  2012-11-02  ...         6.573     A  151315\n",
              "1           1     1  2012-11-09  ...         6.573     A  151315\n",
              "2           1     1  2012-11-16  ...         6.573     A  151315\n",
              "3           1     1  2012-11-23  ...         6.573     A  151315\n",
              "4           1     1  2012-11-30  ...         6.573     A  151315\n",
              "...       ...   ...         ...  ...           ...   ...     ...\n",
              "115059     45    98  2013-06-28  ...           NaN     B  118221\n",
              "115060     45    98  2013-07-05  ...           NaN     B  118221\n",
              "115061     45    98  2013-07-12  ...           NaN     B  118221\n",
              "115062     45    98  2013-07-19  ...           NaN     B  118221\n",
              "115063     45    98  2013-07-26  ...           NaN     B  118221\n",
              "\n",
              "[115064 rows x 15 columns]"
            ]
          },
          "metadata": {
            "tags": []
          },
          "execution_count": 221
        }
      ]
    },
    {
      "cell_type": "code",
      "metadata": {
        "id": "FKQxTUs3iH4Z",
        "colab_type": "code",
        "colab": {}
      },
      "source": [
        "df_main2_test.Date = pd.to_datetime(df_main2_test.Date)\n",
        "df_main2_test[\"Month\"]  = df_main2_test['Date'].map(lambda x : x.month)"
      ],
      "execution_count": 0,
      "outputs": []
    },
    {
      "cell_type": "code",
      "metadata": {
        "id": "3rx7-nU6i1JS",
        "colab_type": "code",
        "colab": {}
      },
      "source": [
        "df_main2_test[\"Year\"] = df_main2_test['Date'].map(lambda x: x.year)"
      ],
      "execution_count": 0,
      "outputs": []
    },
    {
      "cell_type": "code",
      "metadata": {
        "id": "06BN8nsyjJrr",
        "colab_type": "code",
        "colab": {}
      },
      "source": [
        "df_main2_test[\"date_of_month\"] = df_main2_test['Date'].map(lambda x: x.day)"
      ],
      "execution_count": 0,
      "outputs": []
    },
    {
      "cell_type": "code",
      "metadata": {
        "id": "YEItcdIYjQ57",
        "colab_type": "code",
        "colab": {
          "base_uri": "https://localhost:8080/",
          "height": 204
        },
        "outputId": "e4e9827c-2488-4aba-90e7-7c9fbf6fae3f"
      },
      "source": [
        "df_main2_test.head()"
      ],
      "execution_count": 225,
      "outputs": [
        {
          "output_type": "execute_result",
          "data": {
            "text/html": [
              "<div>\n",
              "<style scoped>\n",
              "    .dataframe tbody tr th:only-of-type {\n",
              "        vertical-align: middle;\n",
              "    }\n",
              "\n",
              "    .dataframe tbody tr th {\n",
              "        vertical-align: top;\n",
              "    }\n",
              "\n",
              "    .dataframe thead th {\n",
              "        text-align: right;\n",
              "    }\n",
              "</style>\n",
              "<table border=\"1\" class=\"dataframe\">\n",
              "  <thead>\n",
              "    <tr style=\"text-align: right;\">\n",
              "      <th></th>\n",
              "      <th>Store</th>\n",
              "      <th>Dept</th>\n",
              "      <th>Date</th>\n",
              "      <th>IsHoliday</th>\n",
              "      <th>Temperature</th>\n",
              "      <th>Fuel_Price</th>\n",
              "      <th>MarkDown1</th>\n",
              "      <th>MarkDown2</th>\n",
              "      <th>MarkDown3</th>\n",
              "      <th>MarkDown4</th>\n",
              "      <th>MarkDown5</th>\n",
              "      <th>CPI</th>\n",
              "      <th>Unemployment</th>\n",
              "      <th>Type</th>\n",
              "      <th>Size</th>\n",
              "      <th>Month</th>\n",
              "      <th>Year</th>\n",
              "      <th>date_of_month</th>\n",
              "    </tr>\n",
              "  </thead>\n",
              "  <tbody>\n",
              "    <tr>\n",
              "      <th>0</th>\n",
              "      <td>1</td>\n",
              "      <td>1</td>\n",
              "      <td>2012-11-02</td>\n",
              "      <td>False</td>\n",
              "      <td>55.32</td>\n",
              "      <td>3.386</td>\n",
              "      <td>6766.44</td>\n",
              "      <td>5147.70</td>\n",
              "      <td>50.82</td>\n",
              "      <td>3639.90</td>\n",
              "      <td>2737.42</td>\n",
              "      <td>223.462779</td>\n",
              "      <td>6.573</td>\n",
              "      <td>A</td>\n",
              "      <td>151315</td>\n",
              "      <td>11</td>\n",
              "      <td>2012</td>\n",
              "      <td>2</td>\n",
              "    </tr>\n",
              "    <tr>\n",
              "      <th>1</th>\n",
              "      <td>1</td>\n",
              "      <td>1</td>\n",
              "      <td>2012-11-09</td>\n",
              "      <td>False</td>\n",
              "      <td>61.24</td>\n",
              "      <td>3.314</td>\n",
              "      <td>11421.32</td>\n",
              "      <td>3370.89</td>\n",
              "      <td>40.28</td>\n",
              "      <td>4646.79</td>\n",
              "      <td>6154.16</td>\n",
              "      <td>223.481307</td>\n",
              "      <td>6.573</td>\n",
              "      <td>A</td>\n",
              "      <td>151315</td>\n",
              "      <td>11</td>\n",
              "      <td>2012</td>\n",
              "      <td>9</td>\n",
              "    </tr>\n",
              "    <tr>\n",
              "      <th>2</th>\n",
              "      <td>1</td>\n",
              "      <td>1</td>\n",
              "      <td>2012-11-16</td>\n",
              "      <td>False</td>\n",
              "      <td>52.92</td>\n",
              "      <td>3.252</td>\n",
              "      <td>9696.28</td>\n",
              "      <td>292.10</td>\n",
              "      <td>103.78</td>\n",
              "      <td>1133.15</td>\n",
              "      <td>6612.69</td>\n",
              "      <td>223.512911</td>\n",
              "      <td>6.573</td>\n",
              "      <td>A</td>\n",
              "      <td>151315</td>\n",
              "      <td>11</td>\n",
              "      <td>2012</td>\n",
              "      <td>16</td>\n",
              "    </tr>\n",
              "    <tr>\n",
              "      <th>3</th>\n",
              "      <td>1</td>\n",
              "      <td>1</td>\n",
              "      <td>2012-11-23</td>\n",
              "      <td>True</td>\n",
              "      <td>56.23</td>\n",
              "      <td>3.211</td>\n",
              "      <td>883.59</td>\n",
              "      <td>4.17</td>\n",
              "      <td>74910.32</td>\n",
              "      <td>209.91</td>\n",
              "      <td>303.32</td>\n",
              "      <td>223.561947</td>\n",
              "      <td>6.573</td>\n",
              "      <td>A</td>\n",
              "      <td>151315</td>\n",
              "      <td>11</td>\n",
              "      <td>2012</td>\n",
              "      <td>23</td>\n",
              "    </tr>\n",
              "    <tr>\n",
              "      <th>4</th>\n",
              "      <td>1</td>\n",
              "      <td>1</td>\n",
              "      <td>2012-11-30</td>\n",
              "      <td>False</td>\n",
              "      <td>52.34</td>\n",
              "      <td>3.207</td>\n",
              "      <td>2460.03</td>\n",
              "      <td>NaN</td>\n",
              "      <td>3838.35</td>\n",
              "      <td>150.57</td>\n",
              "      <td>6966.34</td>\n",
              "      <td>223.610984</td>\n",
              "      <td>6.573</td>\n",
              "      <td>A</td>\n",
              "      <td>151315</td>\n",
              "      <td>11</td>\n",
              "      <td>2012</td>\n",
              "      <td>30</td>\n",
              "    </tr>\n",
              "  </tbody>\n",
              "</table>\n",
              "</div>"
            ],
            "text/plain": [
              "   Store  Dept       Date  IsHoliday  ...    Size  Month  Year  date_of_month\n",
              "0      1     1 2012-11-02      False  ...  151315     11  2012              2\n",
              "1      1     1 2012-11-09      False  ...  151315     11  2012              9\n",
              "2      1     1 2012-11-16      False  ...  151315     11  2012             16\n",
              "3      1     1 2012-11-23       True  ...  151315     11  2012             23\n",
              "4      1     1 2012-11-30      False  ...  151315     11  2012             30\n",
              "\n",
              "[5 rows x 18 columns]"
            ]
          },
          "metadata": {
            "tags": []
          },
          "execution_count": 225
        }
      ]
    },
    {
      "cell_type": "code",
      "metadata": {
        "id": "L35ZsE4zjTPp",
        "colab_type": "code",
        "colab": {}
      },
      "source": [
        "df_main2_test = df_main2_test.fillna(0)"
      ],
      "execution_count": 0,
      "outputs": []
    },
    {
      "cell_type": "code",
      "metadata": {
        "id": "YTrlSXBrm36e",
        "colab_type": "code",
        "colab": {
          "base_uri": "https://localhost:8080/",
          "height": 85
        },
        "outputId": "66ebad80-62ce-4b18-df57-a6aebf11d2b4"
      },
      "source": [
        "df_main2_test.columns"
      ],
      "execution_count": 227,
      "outputs": [
        {
          "output_type": "execute_result",
          "data": {
            "text/plain": [
              "Index(['Store', 'Dept', 'Date', 'IsHoliday', 'Temperature', 'Fuel_Price',\n",
              "       'MarkDown1', 'MarkDown2', 'MarkDown3', 'MarkDown4', 'MarkDown5', 'CPI',\n",
              "       'Unemployment', 'Type', 'Size', 'Month', 'Year', 'date_of_month'],\n",
              "      dtype='object')"
            ]
          },
          "metadata": {
            "tags": []
          },
          "execution_count": 227
        }
      ]
    },
    {
      "cell_type": "code",
      "metadata": {
        "id": "m2qZdI44jcOa",
        "colab_type": "code",
        "colab": {}
      },
      "source": [
        "le_list = ['IsHoliday','Type']\n",
        "le = LabelEncoder()\n",
        "for i in le_list :\n",
        "  df_main2_test[i] = le.fit_transform(df_main2_test[i])"
      ],
      "execution_count": 0,
      "outputs": []
    },
    {
      "cell_type": "code",
      "metadata": {
        "id": "A0YQvXW5j4R7",
        "colab_type": "code",
        "colab": {}
      },
      "source": [
        "sc = StandardScaler()"
      ],
      "execution_count": 0,
      "outputs": []
    },
    {
      "cell_type": "code",
      "metadata": {
        "id": "BZWs46E2kIx7",
        "colab_type": "code",
        "colab": {}
      },
      "source": [
        "df_main2_test_test = df_main2_test[['Store', 'Dept','IsHoliday', 'Temperature', 'Fuel_Price',\n",
        "       'MarkDown1', 'MarkDown2', 'MarkDown3', 'MarkDown4', 'MarkDown5', 'CPI',\n",
        "       'Unemployment', 'Type', 'Size', 'Month', 'Year', 'date_of_month']]"
      ],
      "execution_count": 0,
      "outputs": []
    },
    {
      "cell_type": "code",
      "metadata": {
        "id": "oBMEisrBnIgl",
        "colab_type": "code",
        "colab": {
          "base_uri": "https://localhost:8080/",
          "height": 204
        },
        "outputId": "2a4bcad0-4275-4ae4-fd27-1d2ef8c6ef94"
      },
      "source": [
        "df_main2_test_test.head()"
      ],
      "execution_count": 231,
      "outputs": [
        {
          "output_type": "execute_result",
          "data": {
            "text/html": [
              "<div>\n",
              "<style scoped>\n",
              "    .dataframe tbody tr th:only-of-type {\n",
              "        vertical-align: middle;\n",
              "    }\n",
              "\n",
              "    .dataframe tbody tr th {\n",
              "        vertical-align: top;\n",
              "    }\n",
              "\n",
              "    .dataframe thead th {\n",
              "        text-align: right;\n",
              "    }\n",
              "</style>\n",
              "<table border=\"1\" class=\"dataframe\">\n",
              "  <thead>\n",
              "    <tr style=\"text-align: right;\">\n",
              "      <th></th>\n",
              "      <th>Store</th>\n",
              "      <th>Dept</th>\n",
              "      <th>IsHoliday</th>\n",
              "      <th>Temperature</th>\n",
              "      <th>Fuel_Price</th>\n",
              "      <th>MarkDown1</th>\n",
              "      <th>MarkDown2</th>\n",
              "      <th>MarkDown3</th>\n",
              "      <th>MarkDown4</th>\n",
              "      <th>MarkDown5</th>\n",
              "      <th>CPI</th>\n",
              "      <th>Unemployment</th>\n",
              "      <th>Type</th>\n",
              "      <th>Size</th>\n",
              "      <th>Month</th>\n",
              "      <th>Year</th>\n",
              "      <th>date_of_month</th>\n",
              "    </tr>\n",
              "  </thead>\n",
              "  <tbody>\n",
              "    <tr>\n",
              "      <th>0</th>\n",
              "      <td>1</td>\n",
              "      <td>1</td>\n",
              "      <td>0</td>\n",
              "      <td>55.32</td>\n",
              "      <td>3.386</td>\n",
              "      <td>6766.44</td>\n",
              "      <td>5147.70</td>\n",
              "      <td>50.82</td>\n",
              "      <td>3639.90</td>\n",
              "      <td>2737.42</td>\n",
              "      <td>223.462779</td>\n",
              "      <td>6.573</td>\n",
              "      <td>0</td>\n",
              "      <td>151315</td>\n",
              "      <td>11</td>\n",
              "      <td>2012</td>\n",
              "      <td>2</td>\n",
              "    </tr>\n",
              "    <tr>\n",
              "      <th>1</th>\n",
              "      <td>1</td>\n",
              "      <td>1</td>\n",
              "      <td>0</td>\n",
              "      <td>61.24</td>\n",
              "      <td>3.314</td>\n",
              "      <td>11421.32</td>\n",
              "      <td>3370.89</td>\n",
              "      <td>40.28</td>\n",
              "      <td>4646.79</td>\n",
              "      <td>6154.16</td>\n",
              "      <td>223.481307</td>\n",
              "      <td>6.573</td>\n",
              "      <td>0</td>\n",
              "      <td>151315</td>\n",
              "      <td>11</td>\n",
              "      <td>2012</td>\n",
              "      <td>9</td>\n",
              "    </tr>\n",
              "    <tr>\n",
              "      <th>2</th>\n",
              "      <td>1</td>\n",
              "      <td>1</td>\n",
              "      <td>0</td>\n",
              "      <td>52.92</td>\n",
              "      <td>3.252</td>\n",
              "      <td>9696.28</td>\n",
              "      <td>292.10</td>\n",
              "      <td>103.78</td>\n",
              "      <td>1133.15</td>\n",
              "      <td>6612.69</td>\n",
              "      <td>223.512911</td>\n",
              "      <td>6.573</td>\n",
              "      <td>0</td>\n",
              "      <td>151315</td>\n",
              "      <td>11</td>\n",
              "      <td>2012</td>\n",
              "      <td>16</td>\n",
              "    </tr>\n",
              "    <tr>\n",
              "      <th>3</th>\n",
              "      <td>1</td>\n",
              "      <td>1</td>\n",
              "      <td>1</td>\n",
              "      <td>56.23</td>\n",
              "      <td>3.211</td>\n",
              "      <td>883.59</td>\n",
              "      <td>4.17</td>\n",
              "      <td>74910.32</td>\n",
              "      <td>209.91</td>\n",
              "      <td>303.32</td>\n",
              "      <td>223.561947</td>\n",
              "      <td>6.573</td>\n",
              "      <td>0</td>\n",
              "      <td>151315</td>\n",
              "      <td>11</td>\n",
              "      <td>2012</td>\n",
              "      <td>23</td>\n",
              "    </tr>\n",
              "    <tr>\n",
              "      <th>4</th>\n",
              "      <td>1</td>\n",
              "      <td>1</td>\n",
              "      <td>0</td>\n",
              "      <td>52.34</td>\n",
              "      <td>3.207</td>\n",
              "      <td>2460.03</td>\n",
              "      <td>0.00</td>\n",
              "      <td>3838.35</td>\n",
              "      <td>150.57</td>\n",
              "      <td>6966.34</td>\n",
              "      <td>223.610984</td>\n",
              "      <td>6.573</td>\n",
              "      <td>0</td>\n",
              "      <td>151315</td>\n",
              "      <td>11</td>\n",
              "      <td>2012</td>\n",
              "      <td>30</td>\n",
              "    </tr>\n",
              "  </tbody>\n",
              "</table>\n",
              "</div>"
            ],
            "text/plain": [
              "   Store  Dept  IsHoliday  Temperature  ...    Size  Month  Year  date_of_month\n",
              "0      1     1          0        55.32  ...  151315     11  2012              2\n",
              "1      1     1          0        61.24  ...  151315     11  2012              9\n",
              "2      1     1          0        52.92  ...  151315     11  2012             16\n",
              "3      1     1          1        56.23  ...  151315     11  2012             23\n",
              "4      1     1          0        52.34  ...  151315     11  2012             30\n",
              "\n",
              "[5 rows x 17 columns]"
            ]
          },
          "metadata": {
            "tags": []
          },
          "execution_count": 231
        }
      ]
    },
    {
      "cell_type": "code",
      "metadata": {
        "id": "yF9oL0JonMej",
        "colab_type": "code",
        "colab": {
          "base_uri": "https://localhost:8080/",
          "height": 221
        },
        "outputId": "d1e807fb-69e5-452c-ff5b-e935c0824b35"
      },
      "source": [
        "df_main2_test_test[['Temperature','Fuel_Price', 'MarkDown1', 'MarkDown2', 'MarkDown3', 'MarkDown4',\n",
        "       'MarkDown5', 'CPI', 'Unemployment','Size', 'Month', 'date_of_month']] = sc.fit_transform(df_main2_test_test[['Temperature','Fuel_Price', 'MarkDown1', 'MarkDown2', 'MarkDown3', 'MarkDown4',\n",
        "       'MarkDown5', 'CPI', 'Unemployment','Size', 'Month', 'date_of_month']])"
      ],
      "execution_count": 232,
      "outputs": [
        {
          "output_type": "stream",
          "text": [
            "/usr/local/lib/python3.6/dist-packages/ipykernel_launcher.py:3: SettingWithCopyWarning: \n",
            "A value is trying to be set on a copy of a slice from a DataFrame.\n",
            "Try using .loc[row_indexer,col_indexer] = value instead\n",
            "\n",
            "See the caveats in the documentation: http://pandas.pydata.org/pandas-docs/stable/user_guide/indexing.html#returning-a-view-versus-a-copy\n",
            "  This is separate from the ipykernel package so we can avoid doing imports until\n",
            "/usr/local/lib/python3.6/dist-packages/pandas/core/indexing.py:494: SettingWithCopyWarning: \n",
            "A value is trying to be set on a copy of a slice from a DataFrame.\n",
            "Try using .loc[row_indexer,col_indexer] = value instead\n",
            "\n",
            "See the caveats in the documentation: http://pandas.pydata.org/pandas-docs/stable/user_guide/indexing.html#returning-a-view-versus-a-copy\n",
            "  self.obj[item] = s\n"
          ],
          "name": "stderr"
        }
      ]
    },
    {
      "cell_type": "code",
      "metadata": {
        "id": "IvLvkP_Aoa_j",
        "colab_type": "code",
        "colab": {}
      },
      "source": [
        "#now this data frame is the data frame for testing "
      ],
      "execution_count": 0,
      "outputs": []
    },
    {
      "cell_type": "code",
      "metadata": {
        "id": "jXDTrnMNogND",
        "colab_type": "code",
        "colab": {
          "base_uri": "https://localhost:8080/",
          "height": 204
        },
        "outputId": "ad443df0-6659-4022-e0c1-7c1de9ec51ce"
      },
      "source": [
        "df_main2_test_test.head()"
      ],
      "execution_count": 234,
      "outputs": [
        {
          "output_type": "execute_result",
          "data": {
            "text/html": [
              "<div>\n",
              "<style scoped>\n",
              "    .dataframe tbody tr th:only-of-type {\n",
              "        vertical-align: middle;\n",
              "    }\n",
              "\n",
              "    .dataframe tbody tr th {\n",
              "        vertical-align: top;\n",
              "    }\n",
              "\n",
              "    .dataframe thead th {\n",
              "        text-align: right;\n",
              "    }\n",
              "</style>\n",
              "<table border=\"1\" class=\"dataframe\">\n",
              "  <thead>\n",
              "    <tr style=\"text-align: right;\">\n",
              "      <th></th>\n",
              "      <th>Store</th>\n",
              "      <th>Dept</th>\n",
              "      <th>IsHoliday</th>\n",
              "      <th>Temperature</th>\n",
              "      <th>Fuel_Price</th>\n",
              "      <th>MarkDown1</th>\n",
              "      <th>MarkDown2</th>\n",
              "      <th>MarkDown3</th>\n",
              "      <th>MarkDown4</th>\n",
              "      <th>MarkDown5</th>\n",
              "      <th>CPI</th>\n",
              "      <th>Unemployment</th>\n",
              "      <th>Type</th>\n",
              "      <th>Size</th>\n",
              "      <th>Month</th>\n",
              "      <th>Year</th>\n",
              "      <th>date_of_month</th>\n",
              "    </tr>\n",
              "  </thead>\n",
              "  <tbody>\n",
              "    <tr>\n",
              "      <th>0</th>\n",
              "      <td>1</td>\n",
              "      <td>1</td>\n",
              "      <td>0</td>\n",
              "      <td>0.073606</td>\n",
              "      <td>-0.816679</td>\n",
              "      <td>-0.085347</td>\n",
              "      <td>0.316895</td>\n",
              "      <td>-0.162850</td>\n",
              "      <td>0.091459</td>\n",
              "      <td>-0.060954</td>\n",
              "      <td>1.170390</td>\n",
              "      <td>0.569095</td>\n",
              "      <td>0</td>\n",
              "      <td>0.242483</td>\n",
              "      <td>1.467878</td>\n",
              "      <td>2012</td>\n",
              "      <td>-1.535754</td>\n",
              "    </tr>\n",
              "    <tr>\n",
              "      <th>1</th>\n",
              "      <td>1</td>\n",
              "      <td>1</td>\n",
              "      <td>0</td>\n",
              "      <td>0.389776</td>\n",
              "      <td>-1.117379</td>\n",
              "      <td>0.349877</td>\n",
              "      <td>0.076542</td>\n",
              "      <td>-0.163650</td>\n",
              "      <td>0.231072</td>\n",
              "      <td>0.114758</td>\n",
              "      <td>1.170596</td>\n",
              "      <td>0.569095</td>\n",
              "      <td>0</td>\n",
              "      <td>0.242483</td>\n",
              "      <td>1.467878</td>\n",
              "      <td>2012</td>\n",
              "      <td>-0.744335</td>\n",
              "    </tr>\n",
              "    <tr>\n",
              "      <th>2</th>\n",
              "      <td>1</td>\n",
              "      <td>1</td>\n",
              "      <td>0</td>\n",
              "      <td>-0.054572</td>\n",
              "      <td>-1.376316</td>\n",
              "      <td>0.188588</td>\n",
              "      <td>-0.339931</td>\n",
              "      <td>-0.158833</td>\n",
              "      <td>-0.256122</td>\n",
              "      <td>0.138339</td>\n",
              "      <td>1.170947</td>\n",
              "      <td>0.569095</td>\n",
              "      <td>0</td>\n",
              "      <td>0.242483</td>\n",
              "      <td>1.467878</td>\n",
              "      <td>2012</td>\n",
              "      <td>0.047085</td>\n",
              "    </tr>\n",
              "    <tr>\n",
              "      <th>3</th>\n",
              "      <td>1</td>\n",
              "      <td>1</td>\n",
              "      <td>1</td>\n",
              "      <td>0.122206</td>\n",
              "      <td>-1.547548</td>\n",
              "      <td>-0.635385</td>\n",
              "      <td>-0.378880</td>\n",
              "      <td>5.515279</td>\n",
              "      <td>-0.384136</td>\n",
              "      <td>-0.186133</td>\n",
              "      <td>1.171493</td>\n",
              "      <td>0.569095</td>\n",
              "      <td>0</td>\n",
              "      <td>0.242483</td>\n",
              "      <td>1.467878</td>\n",
              "      <td>2012</td>\n",
              "      <td>0.838505</td>\n",
              "    </tr>\n",
              "    <tr>\n",
              "      <th>4</th>\n",
              "      <td>1</td>\n",
              "      <td>1</td>\n",
              "      <td>0</td>\n",
              "      <td>-0.085548</td>\n",
              "      <td>-1.564254</td>\n",
              "      <td>-0.487990</td>\n",
              "      <td>-0.379444</td>\n",
              "      <td>0.124436</td>\n",
              "      <td>-0.392364</td>\n",
              "      <td>0.156526</td>\n",
              "      <td>1.172039</td>\n",
              "      <td>0.569095</td>\n",
              "      <td>0</td>\n",
              "      <td>0.242483</td>\n",
              "      <td>1.467878</td>\n",
              "      <td>2012</td>\n",
              "      <td>1.629925</td>\n",
              "    </tr>\n",
              "  </tbody>\n",
              "</table>\n",
              "</div>"
            ],
            "text/plain": [
              "   Store  Dept  IsHoliday  Temperature  ...      Size     Month  Year  date_of_month\n",
              "0      1     1          0     0.073606  ...  0.242483  1.467878  2012      -1.535754\n",
              "1      1     1          0     0.389776  ...  0.242483  1.467878  2012      -0.744335\n",
              "2      1     1          0    -0.054572  ...  0.242483  1.467878  2012       0.047085\n",
              "3      1     1          1     0.122206  ...  0.242483  1.467878  2012       0.838505\n",
              "4      1     1          0    -0.085548  ...  0.242483  1.467878  2012       1.629925\n",
              "\n",
              "[5 rows x 17 columns]"
            ]
          },
          "metadata": {
            "tags": []
          },
          "execution_count": 234
        }
      ]
    },
    {
      "cell_type": "code",
      "metadata": {
        "id": "MJdm_K1NolrS",
        "colab_type": "code",
        "colab": {
          "base_uri": "https://localhost:8080/",
          "height": 34
        },
        "outputId": "5423d29e-99e4-4960-f70e-6752214d0334"
      },
      "source": [
        "#df_main2_test_test.shape\n",
        "df_main2_test_test.shape"
      ],
      "execution_count": 235,
      "outputs": [
        {
          "output_type": "execute_result",
          "data": {
            "text/plain": [
              "(115064, 17)"
            ]
          },
          "metadata": {
            "tags": []
          },
          "execution_count": 235
        }
      ]
    },
    {
      "cell_type": "code",
      "metadata": {
        "id": "jCYUe2A5o0rp",
        "colab_type": "code",
        "colab": {}
      },
      "source": [
        "df_main2_test_test = df_main2_test_test.drop('Year',axis=1)"
      ],
      "execution_count": 0,
      "outputs": []
    },
    {
      "cell_type": "code",
      "metadata": {
        "id": "lMndj9UyooAr",
        "colab_type": "code",
        "colab": {
          "base_uri": "https://localhost:8080/",
          "height": 34
        },
        "outputId": "39dfc220-efe4-4206-c84a-20cfa0f6062f"
      },
      "source": [
        "df_main_X.shape"
      ],
      "execution_count": 237,
      "outputs": [
        {
          "output_type": "execute_result",
          "data": {
            "text/plain": [
              "(421570, 16)"
            ]
          },
          "metadata": {
            "tags": []
          },
          "execution_count": 237
        }
      ]
    },
    {
      "cell_type": "code",
      "metadata": {
        "id": "-Eth2LzEpOUI",
        "colab_type": "code",
        "colab": {}
      },
      "source": [
        "X_test_test = df_main2_test_test.iloc[:,:].values"
      ],
      "execution_count": 0,
      "outputs": []
    },
    {
      "cell_type": "code",
      "metadata": {
        "id": "9eezc06YorBi",
        "colab_type": "code",
        "colab": {
          "base_uri": "https://localhost:8080/",
          "height": 68
        },
        "outputId": "92c63aef-ef35-4d34-b260-3c536aaf824c"
      },
      "source": [
        "b = regr.predict(X_test_test)"
      ],
      "execution_count": 239,
      "outputs": [
        {
          "output_type": "stream",
          "text": [
            "[Parallel(n_jobs=1)]: Using backend SequentialBackend with 1 concurrent workers.\n",
            "[Parallel(n_jobs=1)]: Done   1 out of   1 | elapsed:    0.0s remaining:    0.0s\n",
            "[Parallel(n_jobs=1)]: Done  15 out of  15 | elapsed:    0.4s finished\n"
          ],
          "name": "stderr"
        }
      ]
    },
    {
      "cell_type": "code",
      "metadata": {
        "id": "E08mMBtcpT4H",
        "colab_type": "code",
        "colab": {
          "base_uri": "https://localhost:8080/",
          "height": 34
        },
        "outputId": "1a154a71-634e-4ce5-b964-2106856f94bd"
      },
      "source": [
        "b.shape"
      ],
      "execution_count": 240,
      "outputs": [
        {
          "output_type": "execute_result",
          "data": {
            "text/plain": [
              "(115064,)"
            ]
          },
          "metadata": {
            "tags": []
          },
          "execution_count": 240
        }
      ]
    },
    {
      "cell_type": "code",
      "metadata": {
        "id": "a58OpsAkpWfK",
        "colab_type": "code",
        "colab": {
          "base_uri": "https://localhost:8080/",
          "height": 51
        },
        "outputId": "299ab051-a704-43c7-cc6f-09110b81380e"
      },
      "source": [
        "b"
      ],
      "execution_count": 241,
      "outputs": [
        {
          "output_type": "execute_result",
          "data": {
            "text/plain": [
              "array([31497.88733333, 20138.04466667, 21315.45466667, ...,\n",
              "         444.23      ,   782.71866667,   707.13266667])"
            ]
          },
          "metadata": {
            "tags": []
          },
          "execution_count": 241
        }
      ]
    },
    {
      "cell_type": "code",
      "metadata": {
        "id": "HdbY8wU5psZz",
        "colab_type": "code",
        "colab": {
          "base_uri": "https://localhost:8080/",
          "height": 204
        },
        "outputId": "0b44b3dd-1fdc-429d-cd59-342885fe3d9d"
      },
      "source": [
        "df_main2_test_test.head()"
      ],
      "execution_count": 242,
      "outputs": [
        {
          "output_type": "execute_result",
          "data": {
            "text/html": [
              "<div>\n",
              "<style scoped>\n",
              "    .dataframe tbody tr th:only-of-type {\n",
              "        vertical-align: middle;\n",
              "    }\n",
              "\n",
              "    .dataframe tbody tr th {\n",
              "        vertical-align: top;\n",
              "    }\n",
              "\n",
              "    .dataframe thead th {\n",
              "        text-align: right;\n",
              "    }\n",
              "</style>\n",
              "<table border=\"1\" class=\"dataframe\">\n",
              "  <thead>\n",
              "    <tr style=\"text-align: right;\">\n",
              "      <th></th>\n",
              "      <th>Store</th>\n",
              "      <th>Dept</th>\n",
              "      <th>IsHoliday</th>\n",
              "      <th>Temperature</th>\n",
              "      <th>Fuel_Price</th>\n",
              "      <th>MarkDown1</th>\n",
              "      <th>MarkDown2</th>\n",
              "      <th>MarkDown3</th>\n",
              "      <th>MarkDown4</th>\n",
              "      <th>MarkDown5</th>\n",
              "      <th>CPI</th>\n",
              "      <th>Unemployment</th>\n",
              "      <th>Type</th>\n",
              "      <th>Size</th>\n",
              "      <th>Month</th>\n",
              "      <th>date_of_month</th>\n",
              "    </tr>\n",
              "  </thead>\n",
              "  <tbody>\n",
              "    <tr>\n",
              "      <th>0</th>\n",
              "      <td>1</td>\n",
              "      <td>1</td>\n",
              "      <td>0</td>\n",
              "      <td>0.073606</td>\n",
              "      <td>-0.816679</td>\n",
              "      <td>-0.085347</td>\n",
              "      <td>0.316895</td>\n",
              "      <td>-0.162850</td>\n",
              "      <td>0.091459</td>\n",
              "      <td>-0.060954</td>\n",
              "      <td>1.170390</td>\n",
              "      <td>0.569095</td>\n",
              "      <td>0</td>\n",
              "      <td>0.242483</td>\n",
              "      <td>1.467878</td>\n",
              "      <td>-1.535754</td>\n",
              "    </tr>\n",
              "    <tr>\n",
              "      <th>1</th>\n",
              "      <td>1</td>\n",
              "      <td>1</td>\n",
              "      <td>0</td>\n",
              "      <td>0.389776</td>\n",
              "      <td>-1.117379</td>\n",
              "      <td>0.349877</td>\n",
              "      <td>0.076542</td>\n",
              "      <td>-0.163650</td>\n",
              "      <td>0.231072</td>\n",
              "      <td>0.114758</td>\n",
              "      <td>1.170596</td>\n",
              "      <td>0.569095</td>\n",
              "      <td>0</td>\n",
              "      <td>0.242483</td>\n",
              "      <td>1.467878</td>\n",
              "      <td>-0.744335</td>\n",
              "    </tr>\n",
              "    <tr>\n",
              "      <th>2</th>\n",
              "      <td>1</td>\n",
              "      <td>1</td>\n",
              "      <td>0</td>\n",
              "      <td>-0.054572</td>\n",
              "      <td>-1.376316</td>\n",
              "      <td>0.188588</td>\n",
              "      <td>-0.339931</td>\n",
              "      <td>-0.158833</td>\n",
              "      <td>-0.256122</td>\n",
              "      <td>0.138339</td>\n",
              "      <td>1.170947</td>\n",
              "      <td>0.569095</td>\n",
              "      <td>0</td>\n",
              "      <td>0.242483</td>\n",
              "      <td>1.467878</td>\n",
              "      <td>0.047085</td>\n",
              "    </tr>\n",
              "    <tr>\n",
              "      <th>3</th>\n",
              "      <td>1</td>\n",
              "      <td>1</td>\n",
              "      <td>1</td>\n",
              "      <td>0.122206</td>\n",
              "      <td>-1.547548</td>\n",
              "      <td>-0.635385</td>\n",
              "      <td>-0.378880</td>\n",
              "      <td>5.515279</td>\n",
              "      <td>-0.384136</td>\n",
              "      <td>-0.186133</td>\n",
              "      <td>1.171493</td>\n",
              "      <td>0.569095</td>\n",
              "      <td>0</td>\n",
              "      <td>0.242483</td>\n",
              "      <td>1.467878</td>\n",
              "      <td>0.838505</td>\n",
              "    </tr>\n",
              "    <tr>\n",
              "      <th>4</th>\n",
              "      <td>1</td>\n",
              "      <td>1</td>\n",
              "      <td>0</td>\n",
              "      <td>-0.085548</td>\n",
              "      <td>-1.564254</td>\n",
              "      <td>-0.487990</td>\n",
              "      <td>-0.379444</td>\n",
              "      <td>0.124436</td>\n",
              "      <td>-0.392364</td>\n",
              "      <td>0.156526</td>\n",
              "      <td>1.172039</td>\n",
              "      <td>0.569095</td>\n",
              "      <td>0</td>\n",
              "      <td>0.242483</td>\n",
              "      <td>1.467878</td>\n",
              "      <td>1.629925</td>\n",
              "    </tr>\n",
              "  </tbody>\n",
              "</table>\n",
              "</div>"
            ],
            "text/plain": [
              "   Store  Dept  IsHoliday  Temperature  ...  Type      Size     Month  date_of_month\n",
              "0      1     1          0     0.073606  ...     0  0.242483  1.467878      -1.535754\n",
              "1      1     1          0     0.389776  ...     0  0.242483  1.467878      -0.744335\n",
              "2      1     1          0    -0.054572  ...     0  0.242483  1.467878       0.047085\n",
              "3      1     1          1     0.122206  ...     0  0.242483  1.467878       0.838505\n",
              "4      1     1          0    -0.085548  ...     0  0.242483  1.467878       1.629925\n",
              "\n",
              "[5 rows x 16 columns]"
            ]
          },
          "metadata": {
            "tags": []
          },
          "execution_count": 242
        }
      ]
    },
    {
      "cell_type": "code",
      "metadata": {
        "id": "RetlBMhIp0vr",
        "colab_type": "code",
        "colab": {
          "base_uri": "https://localhost:8080/",
          "height": 204
        },
        "outputId": "379d2106-5615-49a4-edb1-849a75a3de5c"
      },
      "source": [
        "df_main2_test.head()"
      ],
      "execution_count": 243,
      "outputs": [
        {
          "output_type": "execute_result",
          "data": {
            "text/html": [
              "<div>\n",
              "<style scoped>\n",
              "    .dataframe tbody tr th:only-of-type {\n",
              "        vertical-align: middle;\n",
              "    }\n",
              "\n",
              "    .dataframe tbody tr th {\n",
              "        vertical-align: top;\n",
              "    }\n",
              "\n",
              "    .dataframe thead th {\n",
              "        text-align: right;\n",
              "    }\n",
              "</style>\n",
              "<table border=\"1\" class=\"dataframe\">\n",
              "  <thead>\n",
              "    <tr style=\"text-align: right;\">\n",
              "      <th></th>\n",
              "      <th>Store</th>\n",
              "      <th>Dept</th>\n",
              "      <th>Date</th>\n",
              "      <th>IsHoliday</th>\n",
              "      <th>Temperature</th>\n",
              "      <th>Fuel_Price</th>\n",
              "      <th>MarkDown1</th>\n",
              "      <th>MarkDown2</th>\n",
              "      <th>MarkDown3</th>\n",
              "      <th>MarkDown4</th>\n",
              "      <th>MarkDown5</th>\n",
              "      <th>CPI</th>\n",
              "      <th>Unemployment</th>\n",
              "      <th>Type</th>\n",
              "      <th>Size</th>\n",
              "      <th>Month</th>\n",
              "      <th>Year</th>\n",
              "      <th>date_of_month</th>\n",
              "    </tr>\n",
              "  </thead>\n",
              "  <tbody>\n",
              "    <tr>\n",
              "      <th>0</th>\n",
              "      <td>1</td>\n",
              "      <td>1</td>\n",
              "      <td>2012-11-02</td>\n",
              "      <td>0</td>\n",
              "      <td>55.32</td>\n",
              "      <td>3.386</td>\n",
              "      <td>6766.44</td>\n",
              "      <td>5147.70</td>\n",
              "      <td>50.82</td>\n",
              "      <td>3639.90</td>\n",
              "      <td>2737.42</td>\n",
              "      <td>223.462779</td>\n",
              "      <td>6.573</td>\n",
              "      <td>0</td>\n",
              "      <td>151315</td>\n",
              "      <td>11</td>\n",
              "      <td>2012</td>\n",
              "      <td>2</td>\n",
              "    </tr>\n",
              "    <tr>\n",
              "      <th>1</th>\n",
              "      <td>1</td>\n",
              "      <td>1</td>\n",
              "      <td>2012-11-09</td>\n",
              "      <td>0</td>\n",
              "      <td>61.24</td>\n",
              "      <td>3.314</td>\n",
              "      <td>11421.32</td>\n",
              "      <td>3370.89</td>\n",
              "      <td>40.28</td>\n",
              "      <td>4646.79</td>\n",
              "      <td>6154.16</td>\n",
              "      <td>223.481307</td>\n",
              "      <td>6.573</td>\n",
              "      <td>0</td>\n",
              "      <td>151315</td>\n",
              "      <td>11</td>\n",
              "      <td>2012</td>\n",
              "      <td>9</td>\n",
              "    </tr>\n",
              "    <tr>\n",
              "      <th>2</th>\n",
              "      <td>1</td>\n",
              "      <td>1</td>\n",
              "      <td>2012-11-16</td>\n",
              "      <td>0</td>\n",
              "      <td>52.92</td>\n",
              "      <td>3.252</td>\n",
              "      <td>9696.28</td>\n",
              "      <td>292.10</td>\n",
              "      <td>103.78</td>\n",
              "      <td>1133.15</td>\n",
              "      <td>6612.69</td>\n",
              "      <td>223.512911</td>\n",
              "      <td>6.573</td>\n",
              "      <td>0</td>\n",
              "      <td>151315</td>\n",
              "      <td>11</td>\n",
              "      <td>2012</td>\n",
              "      <td>16</td>\n",
              "    </tr>\n",
              "    <tr>\n",
              "      <th>3</th>\n",
              "      <td>1</td>\n",
              "      <td>1</td>\n",
              "      <td>2012-11-23</td>\n",
              "      <td>1</td>\n",
              "      <td>56.23</td>\n",
              "      <td>3.211</td>\n",
              "      <td>883.59</td>\n",
              "      <td>4.17</td>\n",
              "      <td>74910.32</td>\n",
              "      <td>209.91</td>\n",
              "      <td>303.32</td>\n",
              "      <td>223.561947</td>\n",
              "      <td>6.573</td>\n",
              "      <td>0</td>\n",
              "      <td>151315</td>\n",
              "      <td>11</td>\n",
              "      <td>2012</td>\n",
              "      <td>23</td>\n",
              "    </tr>\n",
              "    <tr>\n",
              "      <th>4</th>\n",
              "      <td>1</td>\n",
              "      <td>1</td>\n",
              "      <td>2012-11-30</td>\n",
              "      <td>0</td>\n",
              "      <td>52.34</td>\n",
              "      <td>3.207</td>\n",
              "      <td>2460.03</td>\n",
              "      <td>0.00</td>\n",
              "      <td>3838.35</td>\n",
              "      <td>150.57</td>\n",
              "      <td>6966.34</td>\n",
              "      <td>223.610984</td>\n",
              "      <td>6.573</td>\n",
              "      <td>0</td>\n",
              "      <td>151315</td>\n",
              "      <td>11</td>\n",
              "      <td>2012</td>\n",
              "      <td>30</td>\n",
              "    </tr>\n",
              "  </tbody>\n",
              "</table>\n",
              "</div>"
            ],
            "text/plain": [
              "   Store  Dept       Date  IsHoliday  ...    Size  Month  Year  date_of_month\n",
              "0      1     1 2012-11-02          0  ...  151315     11  2012              2\n",
              "1      1     1 2012-11-09          0  ...  151315     11  2012              9\n",
              "2      1     1 2012-11-16          0  ...  151315     11  2012             16\n",
              "3      1     1 2012-11-23          1  ...  151315     11  2012             23\n",
              "4      1     1 2012-11-30          0  ...  151315     11  2012             30\n",
              "\n",
              "[5 rows x 18 columns]"
            ]
          },
          "metadata": {
            "tags": []
          },
          "execution_count": 243
        }
      ]
    },
    {
      "cell_type": "code",
      "metadata": {
        "id": "hLjZ4u0erL_8",
        "colab_type": "code",
        "colab": {}
      },
      "source": [
        "s1 = pd.Series(b)\n",
        "s1 = s1.to_frame()"
      ],
      "execution_count": 0,
      "outputs": []
    },
    {
      "cell_type": "code",
      "metadata": {
        "id": "7geFAciNqV7p",
        "colab_type": "code",
        "colab": {}
      },
      "source": [
        "df_main2_test = df_main2_test.join(s1)"
      ],
      "execution_count": 0,
      "outputs": []
    },
    {
      "cell_type": "code",
      "metadata": {
        "id": "OJBGHTiArQIp",
        "colab_type": "code",
        "colab": {
          "base_uri": "https://localhost:8080/",
          "height": 204
        },
        "outputId": "5a8e4dcf-6105-4390-f132-9148899886a4"
      },
      "source": [
        "df_main2_test.head()"
      ],
      "execution_count": 246,
      "outputs": [
        {
          "output_type": "execute_result",
          "data": {
            "text/html": [
              "<div>\n",
              "<style scoped>\n",
              "    .dataframe tbody tr th:only-of-type {\n",
              "        vertical-align: middle;\n",
              "    }\n",
              "\n",
              "    .dataframe tbody tr th {\n",
              "        vertical-align: top;\n",
              "    }\n",
              "\n",
              "    .dataframe thead th {\n",
              "        text-align: right;\n",
              "    }\n",
              "</style>\n",
              "<table border=\"1\" class=\"dataframe\">\n",
              "  <thead>\n",
              "    <tr style=\"text-align: right;\">\n",
              "      <th></th>\n",
              "      <th>Store</th>\n",
              "      <th>Dept</th>\n",
              "      <th>Date</th>\n",
              "      <th>IsHoliday</th>\n",
              "      <th>Temperature</th>\n",
              "      <th>Fuel_Price</th>\n",
              "      <th>MarkDown1</th>\n",
              "      <th>MarkDown2</th>\n",
              "      <th>MarkDown3</th>\n",
              "      <th>MarkDown4</th>\n",
              "      <th>MarkDown5</th>\n",
              "      <th>CPI</th>\n",
              "      <th>Unemployment</th>\n",
              "      <th>Type</th>\n",
              "      <th>Size</th>\n",
              "      <th>Month</th>\n",
              "      <th>Year</th>\n",
              "      <th>date_of_month</th>\n",
              "      <th>0</th>\n",
              "    </tr>\n",
              "  </thead>\n",
              "  <tbody>\n",
              "    <tr>\n",
              "      <th>0</th>\n",
              "      <td>1</td>\n",
              "      <td>1</td>\n",
              "      <td>2012-11-02</td>\n",
              "      <td>0</td>\n",
              "      <td>55.32</td>\n",
              "      <td>3.386</td>\n",
              "      <td>6766.44</td>\n",
              "      <td>5147.70</td>\n",
              "      <td>50.82</td>\n",
              "      <td>3639.90</td>\n",
              "      <td>2737.42</td>\n",
              "      <td>223.462779</td>\n",
              "      <td>6.573</td>\n",
              "      <td>0</td>\n",
              "      <td>151315</td>\n",
              "      <td>11</td>\n",
              "      <td>2012</td>\n",
              "      <td>2</td>\n",
              "      <td>31497.887333</td>\n",
              "    </tr>\n",
              "    <tr>\n",
              "      <th>1</th>\n",
              "      <td>1</td>\n",
              "      <td>1</td>\n",
              "      <td>2012-11-09</td>\n",
              "      <td>0</td>\n",
              "      <td>61.24</td>\n",
              "      <td>3.314</td>\n",
              "      <td>11421.32</td>\n",
              "      <td>3370.89</td>\n",
              "      <td>40.28</td>\n",
              "      <td>4646.79</td>\n",
              "      <td>6154.16</td>\n",
              "      <td>223.481307</td>\n",
              "      <td>6.573</td>\n",
              "      <td>0</td>\n",
              "      <td>151315</td>\n",
              "      <td>11</td>\n",
              "      <td>2012</td>\n",
              "      <td>9</td>\n",
              "      <td>20138.044667</td>\n",
              "    </tr>\n",
              "    <tr>\n",
              "      <th>2</th>\n",
              "      <td>1</td>\n",
              "      <td>1</td>\n",
              "      <td>2012-11-16</td>\n",
              "      <td>0</td>\n",
              "      <td>52.92</td>\n",
              "      <td>3.252</td>\n",
              "      <td>9696.28</td>\n",
              "      <td>292.10</td>\n",
              "      <td>103.78</td>\n",
              "      <td>1133.15</td>\n",
              "      <td>6612.69</td>\n",
              "      <td>223.512911</td>\n",
              "      <td>6.573</td>\n",
              "      <td>0</td>\n",
              "      <td>151315</td>\n",
              "      <td>11</td>\n",
              "      <td>2012</td>\n",
              "      <td>16</td>\n",
              "      <td>21315.454667</td>\n",
              "    </tr>\n",
              "    <tr>\n",
              "      <th>3</th>\n",
              "      <td>1</td>\n",
              "      <td>1</td>\n",
              "      <td>2012-11-23</td>\n",
              "      <td>1</td>\n",
              "      <td>56.23</td>\n",
              "      <td>3.211</td>\n",
              "      <td>883.59</td>\n",
              "      <td>4.17</td>\n",
              "      <td>74910.32</td>\n",
              "      <td>209.91</td>\n",
              "      <td>303.32</td>\n",
              "      <td>223.561947</td>\n",
              "      <td>6.573</td>\n",
              "      <td>0</td>\n",
              "      <td>151315</td>\n",
              "      <td>11</td>\n",
              "      <td>2012</td>\n",
              "      <td>23</td>\n",
              "      <td>20618.887333</td>\n",
              "    </tr>\n",
              "    <tr>\n",
              "      <th>4</th>\n",
              "      <td>1</td>\n",
              "      <td>1</td>\n",
              "      <td>2012-11-30</td>\n",
              "      <td>0</td>\n",
              "      <td>52.34</td>\n",
              "      <td>3.207</td>\n",
              "      <td>2460.03</td>\n",
              "      <td>0.00</td>\n",
              "      <td>3838.35</td>\n",
              "      <td>150.57</td>\n",
              "      <td>6966.34</td>\n",
              "      <td>223.610984</td>\n",
              "      <td>6.573</td>\n",
              "      <td>0</td>\n",
              "      <td>151315</td>\n",
              "      <td>11</td>\n",
              "      <td>2012</td>\n",
              "      <td>30</td>\n",
              "      <td>34817.332667</td>\n",
              "    </tr>\n",
              "  </tbody>\n",
              "</table>\n",
              "</div>"
            ],
            "text/plain": [
              "   Store  Dept       Date  IsHoliday  ...  Month  Year  date_of_month             0\n",
              "0      1     1 2012-11-02          0  ...     11  2012              2  31497.887333\n",
              "1      1     1 2012-11-09          0  ...     11  2012              9  20138.044667\n",
              "2      1     1 2012-11-16          0  ...     11  2012             16  21315.454667\n",
              "3      1     1 2012-11-23          1  ...     11  2012             23  20618.887333\n",
              "4      1     1 2012-11-30          0  ...     11  2012             30  34817.332667\n",
              "\n",
              "[5 rows x 19 columns]"
            ]
          },
          "metadata": {
            "tags": []
          },
          "execution_count": 246
        }
      ]
    },
    {
      "cell_type": "code",
      "metadata": {
        "id": "dPYfnnrJrViD",
        "colab_type": "code",
        "colab": {
          "base_uri": "https://localhost:8080/",
          "height": 419
        },
        "outputId": "aaf9107e-f83c-4ae4-cc7e-d66c8fe1b1cb"
      },
      "source": [
        "df_main2_test.rename(columns={0:'Weekly_Sales'})"
      ],
      "execution_count": 247,
      "outputs": [
        {
          "output_type": "execute_result",
          "data": {
            "text/html": [
              "<div>\n",
              "<style scoped>\n",
              "    .dataframe tbody tr th:only-of-type {\n",
              "        vertical-align: middle;\n",
              "    }\n",
              "\n",
              "    .dataframe tbody tr th {\n",
              "        vertical-align: top;\n",
              "    }\n",
              "\n",
              "    .dataframe thead th {\n",
              "        text-align: right;\n",
              "    }\n",
              "</style>\n",
              "<table border=\"1\" class=\"dataframe\">\n",
              "  <thead>\n",
              "    <tr style=\"text-align: right;\">\n",
              "      <th></th>\n",
              "      <th>Store</th>\n",
              "      <th>Dept</th>\n",
              "      <th>Date</th>\n",
              "      <th>IsHoliday</th>\n",
              "      <th>Temperature</th>\n",
              "      <th>Fuel_Price</th>\n",
              "      <th>MarkDown1</th>\n",
              "      <th>MarkDown2</th>\n",
              "      <th>MarkDown3</th>\n",
              "      <th>MarkDown4</th>\n",
              "      <th>MarkDown5</th>\n",
              "      <th>CPI</th>\n",
              "      <th>Unemployment</th>\n",
              "      <th>Type</th>\n",
              "      <th>Size</th>\n",
              "      <th>Month</th>\n",
              "      <th>Year</th>\n",
              "      <th>date_of_month</th>\n",
              "      <th>Weekly_Sales</th>\n",
              "    </tr>\n",
              "  </thead>\n",
              "  <tbody>\n",
              "    <tr>\n",
              "      <th>0</th>\n",
              "      <td>1</td>\n",
              "      <td>1</td>\n",
              "      <td>2012-11-02</td>\n",
              "      <td>0</td>\n",
              "      <td>55.32</td>\n",
              "      <td>3.386</td>\n",
              "      <td>6766.44</td>\n",
              "      <td>5147.70</td>\n",
              "      <td>50.82</td>\n",
              "      <td>3639.90</td>\n",
              "      <td>2737.42</td>\n",
              "      <td>223.462779</td>\n",
              "      <td>6.573</td>\n",
              "      <td>0</td>\n",
              "      <td>151315</td>\n",
              "      <td>11</td>\n",
              "      <td>2012</td>\n",
              "      <td>2</td>\n",
              "      <td>31497.887333</td>\n",
              "    </tr>\n",
              "    <tr>\n",
              "      <th>1</th>\n",
              "      <td>1</td>\n",
              "      <td>1</td>\n",
              "      <td>2012-11-09</td>\n",
              "      <td>0</td>\n",
              "      <td>61.24</td>\n",
              "      <td>3.314</td>\n",
              "      <td>11421.32</td>\n",
              "      <td>3370.89</td>\n",
              "      <td>40.28</td>\n",
              "      <td>4646.79</td>\n",
              "      <td>6154.16</td>\n",
              "      <td>223.481307</td>\n",
              "      <td>6.573</td>\n",
              "      <td>0</td>\n",
              "      <td>151315</td>\n",
              "      <td>11</td>\n",
              "      <td>2012</td>\n",
              "      <td>9</td>\n",
              "      <td>20138.044667</td>\n",
              "    </tr>\n",
              "    <tr>\n",
              "      <th>2</th>\n",
              "      <td>1</td>\n",
              "      <td>1</td>\n",
              "      <td>2012-11-16</td>\n",
              "      <td>0</td>\n",
              "      <td>52.92</td>\n",
              "      <td>3.252</td>\n",
              "      <td>9696.28</td>\n",
              "      <td>292.10</td>\n",
              "      <td>103.78</td>\n",
              "      <td>1133.15</td>\n",
              "      <td>6612.69</td>\n",
              "      <td>223.512911</td>\n",
              "      <td>6.573</td>\n",
              "      <td>0</td>\n",
              "      <td>151315</td>\n",
              "      <td>11</td>\n",
              "      <td>2012</td>\n",
              "      <td>16</td>\n",
              "      <td>21315.454667</td>\n",
              "    </tr>\n",
              "    <tr>\n",
              "      <th>3</th>\n",
              "      <td>1</td>\n",
              "      <td>1</td>\n",
              "      <td>2012-11-23</td>\n",
              "      <td>1</td>\n",
              "      <td>56.23</td>\n",
              "      <td>3.211</td>\n",
              "      <td>883.59</td>\n",
              "      <td>4.17</td>\n",
              "      <td>74910.32</td>\n",
              "      <td>209.91</td>\n",
              "      <td>303.32</td>\n",
              "      <td>223.561947</td>\n",
              "      <td>6.573</td>\n",
              "      <td>0</td>\n",
              "      <td>151315</td>\n",
              "      <td>11</td>\n",
              "      <td>2012</td>\n",
              "      <td>23</td>\n",
              "      <td>20618.887333</td>\n",
              "    </tr>\n",
              "    <tr>\n",
              "      <th>4</th>\n",
              "      <td>1</td>\n",
              "      <td>1</td>\n",
              "      <td>2012-11-30</td>\n",
              "      <td>0</td>\n",
              "      <td>52.34</td>\n",
              "      <td>3.207</td>\n",
              "      <td>2460.03</td>\n",
              "      <td>0.00</td>\n",
              "      <td>3838.35</td>\n",
              "      <td>150.57</td>\n",
              "      <td>6966.34</td>\n",
              "      <td>223.610984</td>\n",
              "      <td>6.573</td>\n",
              "      <td>0</td>\n",
              "      <td>151315</td>\n",
              "      <td>11</td>\n",
              "      <td>2012</td>\n",
              "      <td>30</td>\n",
              "      <td>34817.332667</td>\n",
              "    </tr>\n",
              "    <tr>\n",
              "      <th>...</th>\n",
              "      <td>...</td>\n",
              "      <td>...</td>\n",
              "      <td>...</td>\n",
              "      <td>...</td>\n",
              "      <td>...</td>\n",
              "      <td>...</td>\n",
              "      <td>...</td>\n",
              "      <td>...</td>\n",
              "      <td>...</td>\n",
              "      <td>...</td>\n",
              "      <td>...</td>\n",
              "      <td>...</td>\n",
              "      <td>...</td>\n",
              "      <td>...</td>\n",
              "      <td>...</td>\n",
              "      <td>...</td>\n",
              "      <td>...</td>\n",
              "      <td>...</td>\n",
              "      <td>...</td>\n",
              "    </tr>\n",
              "    <tr>\n",
              "      <th>115059</th>\n",
              "      <td>45</td>\n",
              "      <td>98</td>\n",
              "      <td>2013-06-28</td>\n",
              "      <td>0</td>\n",
              "      <td>76.05</td>\n",
              "      <td>3.639</td>\n",
              "      <td>4842.29</td>\n",
              "      <td>975.03</td>\n",
              "      <td>3.00</td>\n",
              "      <td>2449.97</td>\n",
              "      <td>3169.69</td>\n",
              "      <td>0.000000</td>\n",
              "      <td>0.000</td>\n",
              "      <td>1</td>\n",
              "      <td>118221</td>\n",
              "      <td>6</td>\n",
              "      <td>2013</td>\n",
              "      <td>28</td>\n",
              "      <td>522.139333</td>\n",
              "    </tr>\n",
              "    <tr>\n",
              "      <th>115060</th>\n",
              "      <td>45</td>\n",
              "      <td>98</td>\n",
              "      <td>2013-07-05</td>\n",
              "      <td>0</td>\n",
              "      <td>77.50</td>\n",
              "      <td>3.614</td>\n",
              "      <td>9090.48</td>\n",
              "      <td>2268.58</td>\n",
              "      <td>582.74</td>\n",
              "      <td>5797.47</td>\n",
              "      <td>1514.93</td>\n",
              "      <td>0.000000</td>\n",
              "      <td>0.000</td>\n",
              "      <td>1</td>\n",
              "      <td>118221</td>\n",
              "      <td>7</td>\n",
              "      <td>2013</td>\n",
              "      <td>5</td>\n",
              "      <td>517.150000</td>\n",
              "    </tr>\n",
              "    <tr>\n",
              "      <th>115061</th>\n",
              "      <td>45</td>\n",
              "      <td>98</td>\n",
              "      <td>2013-07-12</td>\n",
              "      <td>0</td>\n",
              "      <td>79.37</td>\n",
              "      <td>3.614</td>\n",
              "      <td>3789.94</td>\n",
              "      <td>1827.31</td>\n",
              "      <td>85.72</td>\n",
              "      <td>744.84</td>\n",
              "      <td>2150.36</td>\n",
              "      <td>0.000000</td>\n",
              "      <td>0.000</td>\n",
              "      <td>1</td>\n",
              "      <td>118221</td>\n",
              "      <td>7</td>\n",
              "      <td>2013</td>\n",
              "      <td>12</td>\n",
              "      <td>444.230000</td>\n",
              "    </tr>\n",
              "    <tr>\n",
              "      <th>115062</th>\n",
              "      <td>45</td>\n",
              "      <td>98</td>\n",
              "      <td>2013-07-19</td>\n",
              "      <td>0</td>\n",
              "      <td>82.84</td>\n",
              "      <td>3.737</td>\n",
              "      <td>2961.49</td>\n",
              "      <td>1047.07</td>\n",
              "      <td>204.19</td>\n",
              "      <td>363.00</td>\n",
              "      <td>1059.46</td>\n",
              "      <td>0.000000</td>\n",
              "      <td>0.000</td>\n",
              "      <td>1</td>\n",
              "      <td>118221</td>\n",
              "      <td>7</td>\n",
              "      <td>2013</td>\n",
              "      <td>19</td>\n",
              "      <td>782.718667</td>\n",
              "    </tr>\n",
              "    <tr>\n",
              "      <th>115063</th>\n",
              "      <td>45</td>\n",
              "      <td>98</td>\n",
              "      <td>2013-07-26</td>\n",
              "      <td>0</td>\n",
              "      <td>76.06</td>\n",
              "      <td>3.804</td>\n",
              "      <td>212.02</td>\n",
              "      <td>851.73</td>\n",
              "      <td>2.06</td>\n",
              "      <td>10.88</td>\n",
              "      <td>1864.57</td>\n",
              "      <td>0.000000</td>\n",
              "      <td>0.000</td>\n",
              "      <td>1</td>\n",
              "      <td>118221</td>\n",
              "      <td>7</td>\n",
              "      <td>2013</td>\n",
              "      <td>26</td>\n",
              "      <td>707.132667</td>\n",
              "    </tr>\n",
              "  </tbody>\n",
              "</table>\n",
              "<p>115064 rows × 19 columns</p>\n",
              "</div>"
            ],
            "text/plain": [
              "        Store  Dept       Date  ...  Year  date_of_month  Weekly_Sales\n",
              "0           1     1 2012-11-02  ...  2012              2  31497.887333\n",
              "1           1     1 2012-11-09  ...  2012              9  20138.044667\n",
              "2           1     1 2012-11-16  ...  2012             16  21315.454667\n",
              "3           1     1 2012-11-23  ...  2012             23  20618.887333\n",
              "4           1     1 2012-11-30  ...  2012             30  34817.332667\n",
              "...       ...   ...        ...  ...   ...            ...           ...\n",
              "115059     45    98 2013-06-28  ...  2013             28    522.139333\n",
              "115060     45    98 2013-07-05  ...  2013              5    517.150000\n",
              "115061     45    98 2013-07-12  ...  2013             12    444.230000\n",
              "115062     45    98 2013-07-19  ...  2013             19    782.718667\n",
              "115063     45    98 2013-07-26  ...  2013             26    707.132667\n",
              "\n",
              "[115064 rows x 19 columns]"
            ]
          },
          "metadata": {
            "tags": []
          },
          "execution_count": 247
        }
      ]
    },
    {
      "cell_type": "code",
      "metadata": {
        "id": "JH2RqvpdA_6g",
        "colab_type": "code",
        "colab": {}
      },
      "source": [
        "#creating the format for sample submission "
      ],
      "execution_count": 0,
      "outputs": []
    },
    {
      "cell_type": "code",
      "metadata": {
        "id": "ilJthtGrrZfr",
        "colab_type": "code",
        "colab": {}
      },
      "source": [
        "df_main2_test['s_combi']=df_main2_test['Store'].astype(str)+'_'+df_main2_test['Dept'].astype(str)+'_'+df_main2_test['Date'].astype(str)"
      ],
      "execution_count": 0,
      "outputs": []
    },
    {
      "cell_type": "code",
      "metadata": {
        "id": "l-YjUeTi_qV-",
        "colab_type": "code",
        "colab": {
          "base_uri": "https://localhost:8080/",
          "height": 204
        },
        "outputId": "0e1fda6d-4999-4db0-f5ec-a57af0479b75"
      },
      "source": [
        "df_main2_test.head()"
      ],
      "execution_count": 250,
      "outputs": [
        {
          "output_type": "execute_result",
          "data": {
            "text/html": [
              "<div>\n",
              "<style scoped>\n",
              "    .dataframe tbody tr th:only-of-type {\n",
              "        vertical-align: middle;\n",
              "    }\n",
              "\n",
              "    .dataframe tbody tr th {\n",
              "        vertical-align: top;\n",
              "    }\n",
              "\n",
              "    .dataframe thead th {\n",
              "        text-align: right;\n",
              "    }\n",
              "</style>\n",
              "<table border=\"1\" class=\"dataframe\">\n",
              "  <thead>\n",
              "    <tr style=\"text-align: right;\">\n",
              "      <th></th>\n",
              "      <th>Store</th>\n",
              "      <th>Dept</th>\n",
              "      <th>Date</th>\n",
              "      <th>IsHoliday</th>\n",
              "      <th>Temperature</th>\n",
              "      <th>Fuel_Price</th>\n",
              "      <th>MarkDown1</th>\n",
              "      <th>MarkDown2</th>\n",
              "      <th>MarkDown3</th>\n",
              "      <th>MarkDown4</th>\n",
              "      <th>MarkDown5</th>\n",
              "      <th>CPI</th>\n",
              "      <th>Unemployment</th>\n",
              "      <th>Type</th>\n",
              "      <th>Size</th>\n",
              "      <th>Month</th>\n",
              "      <th>Year</th>\n",
              "      <th>date_of_month</th>\n",
              "      <th>0</th>\n",
              "      <th>s_combi</th>\n",
              "    </tr>\n",
              "  </thead>\n",
              "  <tbody>\n",
              "    <tr>\n",
              "      <th>0</th>\n",
              "      <td>1</td>\n",
              "      <td>1</td>\n",
              "      <td>2012-11-02</td>\n",
              "      <td>0</td>\n",
              "      <td>55.32</td>\n",
              "      <td>3.386</td>\n",
              "      <td>6766.44</td>\n",
              "      <td>5147.70</td>\n",
              "      <td>50.82</td>\n",
              "      <td>3639.90</td>\n",
              "      <td>2737.42</td>\n",
              "      <td>223.462779</td>\n",
              "      <td>6.573</td>\n",
              "      <td>0</td>\n",
              "      <td>151315</td>\n",
              "      <td>11</td>\n",
              "      <td>2012</td>\n",
              "      <td>2</td>\n",
              "      <td>31497.887333</td>\n",
              "      <td>1_1_2012-11-02</td>\n",
              "    </tr>\n",
              "    <tr>\n",
              "      <th>1</th>\n",
              "      <td>1</td>\n",
              "      <td>1</td>\n",
              "      <td>2012-11-09</td>\n",
              "      <td>0</td>\n",
              "      <td>61.24</td>\n",
              "      <td>3.314</td>\n",
              "      <td>11421.32</td>\n",
              "      <td>3370.89</td>\n",
              "      <td>40.28</td>\n",
              "      <td>4646.79</td>\n",
              "      <td>6154.16</td>\n",
              "      <td>223.481307</td>\n",
              "      <td>6.573</td>\n",
              "      <td>0</td>\n",
              "      <td>151315</td>\n",
              "      <td>11</td>\n",
              "      <td>2012</td>\n",
              "      <td>9</td>\n",
              "      <td>20138.044667</td>\n",
              "      <td>1_1_2012-11-09</td>\n",
              "    </tr>\n",
              "    <tr>\n",
              "      <th>2</th>\n",
              "      <td>1</td>\n",
              "      <td>1</td>\n",
              "      <td>2012-11-16</td>\n",
              "      <td>0</td>\n",
              "      <td>52.92</td>\n",
              "      <td>3.252</td>\n",
              "      <td>9696.28</td>\n",
              "      <td>292.10</td>\n",
              "      <td>103.78</td>\n",
              "      <td>1133.15</td>\n",
              "      <td>6612.69</td>\n",
              "      <td>223.512911</td>\n",
              "      <td>6.573</td>\n",
              "      <td>0</td>\n",
              "      <td>151315</td>\n",
              "      <td>11</td>\n",
              "      <td>2012</td>\n",
              "      <td>16</td>\n",
              "      <td>21315.454667</td>\n",
              "      <td>1_1_2012-11-16</td>\n",
              "    </tr>\n",
              "    <tr>\n",
              "      <th>3</th>\n",
              "      <td>1</td>\n",
              "      <td>1</td>\n",
              "      <td>2012-11-23</td>\n",
              "      <td>1</td>\n",
              "      <td>56.23</td>\n",
              "      <td>3.211</td>\n",
              "      <td>883.59</td>\n",
              "      <td>4.17</td>\n",
              "      <td>74910.32</td>\n",
              "      <td>209.91</td>\n",
              "      <td>303.32</td>\n",
              "      <td>223.561947</td>\n",
              "      <td>6.573</td>\n",
              "      <td>0</td>\n",
              "      <td>151315</td>\n",
              "      <td>11</td>\n",
              "      <td>2012</td>\n",
              "      <td>23</td>\n",
              "      <td>20618.887333</td>\n",
              "      <td>1_1_2012-11-23</td>\n",
              "    </tr>\n",
              "    <tr>\n",
              "      <th>4</th>\n",
              "      <td>1</td>\n",
              "      <td>1</td>\n",
              "      <td>2012-11-30</td>\n",
              "      <td>0</td>\n",
              "      <td>52.34</td>\n",
              "      <td>3.207</td>\n",
              "      <td>2460.03</td>\n",
              "      <td>0.00</td>\n",
              "      <td>3838.35</td>\n",
              "      <td>150.57</td>\n",
              "      <td>6966.34</td>\n",
              "      <td>223.610984</td>\n",
              "      <td>6.573</td>\n",
              "      <td>0</td>\n",
              "      <td>151315</td>\n",
              "      <td>11</td>\n",
              "      <td>2012</td>\n",
              "      <td>30</td>\n",
              "      <td>34817.332667</td>\n",
              "      <td>1_1_2012-11-30</td>\n",
              "    </tr>\n",
              "  </tbody>\n",
              "</table>\n",
              "</div>"
            ],
            "text/plain": [
              "   Store  Dept       Date  ...  date_of_month             0         s_combi\n",
              "0      1     1 2012-11-02  ...              2  31497.887333  1_1_2012-11-02\n",
              "1      1     1 2012-11-09  ...              9  20138.044667  1_1_2012-11-09\n",
              "2      1     1 2012-11-16  ...             16  21315.454667  1_1_2012-11-16\n",
              "3      1     1 2012-11-23  ...             23  20618.887333  1_1_2012-11-23\n",
              "4      1     1 2012-11-30  ...             30  34817.332667  1_1_2012-11-30\n",
              "\n",
              "[5 rows x 20 columns]"
            ]
          },
          "metadata": {
            "tags": []
          },
          "execution_count": 250
        }
      ]
    },
    {
      "cell_type": "code",
      "metadata": {
        "id": "4S5xIV_PBeSk",
        "colab_type": "code",
        "colab": {}
      },
      "source": [
        "df_main2_test = df_main2_test.rename({0:'Weekly_Sales','s_combi':'combined_store_date_info'})"
      ],
      "execution_count": 0,
      "outputs": []
    },
    {
      "cell_type": "code",
      "metadata": {
        "id": "Nu_sSqf8BuoS",
        "colab_type": "code",
        "colab": {
          "base_uri": "https://localhost:8080/",
          "height": 204
        },
        "outputId": "5de7c3ba-aa8d-439e-b9f4-ce1fac898ee5"
      },
      "source": [
        "df_main2_test.head()"
      ],
      "execution_count": 252,
      "outputs": [
        {
          "output_type": "execute_result",
          "data": {
            "text/html": [
              "<div>\n",
              "<style scoped>\n",
              "    .dataframe tbody tr th:only-of-type {\n",
              "        vertical-align: middle;\n",
              "    }\n",
              "\n",
              "    .dataframe tbody tr th {\n",
              "        vertical-align: top;\n",
              "    }\n",
              "\n",
              "    .dataframe thead th {\n",
              "        text-align: right;\n",
              "    }\n",
              "</style>\n",
              "<table border=\"1\" class=\"dataframe\">\n",
              "  <thead>\n",
              "    <tr style=\"text-align: right;\">\n",
              "      <th></th>\n",
              "      <th>Store</th>\n",
              "      <th>Dept</th>\n",
              "      <th>Date</th>\n",
              "      <th>IsHoliday</th>\n",
              "      <th>Temperature</th>\n",
              "      <th>Fuel_Price</th>\n",
              "      <th>MarkDown1</th>\n",
              "      <th>MarkDown2</th>\n",
              "      <th>MarkDown3</th>\n",
              "      <th>MarkDown4</th>\n",
              "      <th>MarkDown5</th>\n",
              "      <th>CPI</th>\n",
              "      <th>Unemployment</th>\n",
              "      <th>Type</th>\n",
              "      <th>Size</th>\n",
              "      <th>Month</th>\n",
              "      <th>Year</th>\n",
              "      <th>date_of_month</th>\n",
              "      <th>0</th>\n",
              "      <th>s_combi</th>\n",
              "    </tr>\n",
              "  </thead>\n",
              "  <tbody>\n",
              "    <tr>\n",
              "      <th>Weekly_Sales</th>\n",
              "      <td>1</td>\n",
              "      <td>1</td>\n",
              "      <td>2012-11-02</td>\n",
              "      <td>0</td>\n",
              "      <td>55.32</td>\n",
              "      <td>3.386</td>\n",
              "      <td>6766.44</td>\n",
              "      <td>5147.70</td>\n",
              "      <td>50.82</td>\n",
              "      <td>3639.90</td>\n",
              "      <td>2737.42</td>\n",
              "      <td>223.462779</td>\n",
              "      <td>6.573</td>\n",
              "      <td>0</td>\n",
              "      <td>151315</td>\n",
              "      <td>11</td>\n",
              "      <td>2012</td>\n",
              "      <td>2</td>\n",
              "      <td>31497.887333</td>\n",
              "      <td>1_1_2012-11-02</td>\n",
              "    </tr>\n",
              "    <tr>\n",
              "      <th>1</th>\n",
              "      <td>1</td>\n",
              "      <td>1</td>\n",
              "      <td>2012-11-09</td>\n",
              "      <td>0</td>\n",
              "      <td>61.24</td>\n",
              "      <td>3.314</td>\n",
              "      <td>11421.32</td>\n",
              "      <td>3370.89</td>\n",
              "      <td>40.28</td>\n",
              "      <td>4646.79</td>\n",
              "      <td>6154.16</td>\n",
              "      <td>223.481307</td>\n",
              "      <td>6.573</td>\n",
              "      <td>0</td>\n",
              "      <td>151315</td>\n",
              "      <td>11</td>\n",
              "      <td>2012</td>\n",
              "      <td>9</td>\n",
              "      <td>20138.044667</td>\n",
              "      <td>1_1_2012-11-09</td>\n",
              "    </tr>\n",
              "    <tr>\n",
              "      <th>2</th>\n",
              "      <td>1</td>\n",
              "      <td>1</td>\n",
              "      <td>2012-11-16</td>\n",
              "      <td>0</td>\n",
              "      <td>52.92</td>\n",
              "      <td>3.252</td>\n",
              "      <td>9696.28</td>\n",
              "      <td>292.10</td>\n",
              "      <td>103.78</td>\n",
              "      <td>1133.15</td>\n",
              "      <td>6612.69</td>\n",
              "      <td>223.512911</td>\n",
              "      <td>6.573</td>\n",
              "      <td>0</td>\n",
              "      <td>151315</td>\n",
              "      <td>11</td>\n",
              "      <td>2012</td>\n",
              "      <td>16</td>\n",
              "      <td>21315.454667</td>\n",
              "      <td>1_1_2012-11-16</td>\n",
              "    </tr>\n",
              "    <tr>\n",
              "      <th>3</th>\n",
              "      <td>1</td>\n",
              "      <td>1</td>\n",
              "      <td>2012-11-23</td>\n",
              "      <td>1</td>\n",
              "      <td>56.23</td>\n",
              "      <td>3.211</td>\n",
              "      <td>883.59</td>\n",
              "      <td>4.17</td>\n",
              "      <td>74910.32</td>\n",
              "      <td>209.91</td>\n",
              "      <td>303.32</td>\n",
              "      <td>223.561947</td>\n",
              "      <td>6.573</td>\n",
              "      <td>0</td>\n",
              "      <td>151315</td>\n",
              "      <td>11</td>\n",
              "      <td>2012</td>\n",
              "      <td>23</td>\n",
              "      <td>20618.887333</td>\n",
              "      <td>1_1_2012-11-23</td>\n",
              "    </tr>\n",
              "    <tr>\n",
              "      <th>4</th>\n",
              "      <td>1</td>\n",
              "      <td>1</td>\n",
              "      <td>2012-11-30</td>\n",
              "      <td>0</td>\n",
              "      <td>52.34</td>\n",
              "      <td>3.207</td>\n",
              "      <td>2460.03</td>\n",
              "      <td>0.00</td>\n",
              "      <td>3838.35</td>\n",
              "      <td>150.57</td>\n",
              "      <td>6966.34</td>\n",
              "      <td>223.610984</td>\n",
              "      <td>6.573</td>\n",
              "      <td>0</td>\n",
              "      <td>151315</td>\n",
              "      <td>11</td>\n",
              "      <td>2012</td>\n",
              "      <td>30</td>\n",
              "      <td>34817.332667</td>\n",
              "      <td>1_1_2012-11-30</td>\n",
              "    </tr>\n",
              "  </tbody>\n",
              "</table>\n",
              "</div>"
            ],
            "text/plain": [
              "              Store  Dept  ...             0         s_combi\n",
              "Weekly_Sales      1     1  ...  31497.887333  1_1_2012-11-02\n",
              "1                 1     1  ...  20138.044667  1_1_2012-11-09\n",
              "2                 1     1  ...  21315.454667  1_1_2012-11-16\n",
              "3                 1     1  ...  20618.887333  1_1_2012-11-23\n",
              "4                 1     1  ...  34817.332667  1_1_2012-11-30\n",
              "\n",
              "[5 rows x 20 columns]"
            ]
          },
          "metadata": {
            "tags": []
          },
          "execution_count": 252
        }
      ]
    },
    {
      "cell_type": "code",
      "metadata": {
        "id": "x97oZ80SBzz5",
        "colab_type": "code",
        "colab": {}
      },
      "source": [
        "df_submission = df_main2_test[[0,'s_combi']]"
      ],
      "execution_count": 0,
      "outputs": []
    },
    {
      "cell_type": "code",
      "metadata": {
        "id": "kEV1vqQIFP13",
        "colab_type": "code",
        "colab": {
          "base_uri": "https://localhost:8080/",
          "height": 419
        },
        "outputId": "101730f1-ee1c-4e16-929f-beddacfb69ef"
      },
      "source": [
        "df_submission.rename(columns={0: \"Weekly_Sales\", \"s_combi\": \"Id\"})"
      ],
      "execution_count": 254,
      "outputs": [
        {
          "output_type": "execute_result",
          "data": {
            "text/html": [
              "<div>\n",
              "<style scoped>\n",
              "    .dataframe tbody tr th:only-of-type {\n",
              "        vertical-align: middle;\n",
              "    }\n",
              "\n",
              "    .dataframe tbody tr th {\n",
              "        vertical-align: top;\n",
              "    }\n",
              "\n",
              "    .dataframe thead th {\n",
              "        text-align: right;\n",
              "    }\n",
              "</style>\n",
              "<table border=\"1\" class=\"dataframe\">\n",
              "  <thead>\n",
              "    <tr style=\"text-align: right;\">\n",
              "      <th></th>\n",
              "      <th>Weekly_Sales</th>\n",
              "      <th>Id</th>\n",
              "    </tr>\n",
              "  </thead>\n",
              "  <tbody>\n",
              "    <tr>\n",
              "      <th>Weekly_Sales</th>\n",
              "      <td>31497.887333</td>\n",
              "      <td>1_1_2012-11-02</td>\n",
              "    </tr>\n",
              "    <tr>\n",
              "      <th>1</th>\n",
              "      <td>20138.044667</td>\n",
              "      <td>1_1_2012-11-09</td>\n",
              "    </tr>\n",
              "    <tr>\n",
              "      <th>2</th>\n",
              "      <td>21315.454667</td>\n",
              "      <td>1_1_2012-11-16</td>\n",
              "    </tr>\n",
              "    <tr>\n",
              "      <th>3</th>\n",
              "      <td>20618.887333</td>\n",
              "      <td>1_1_2012-11-23</td>\n",
              "    </tr>\n",
              "    <tr>\n",
              "      <th>4</th>\n",
              "      <td>34817.332667</td>\n",
              "      <td>1_1_2012-11-30</td>\n",
              "    </tr>\n",
              "    <tr>\n",
              "      <th>...</th>\n",
              "      <td>...</td>\n",
              "      <td>...</td>\n",
              "    </tr>\n",
              "    <tr>\n",
              "      <th>115059</th>\n",
              "      <td>522.139333</td>\n",
              "      <td>45_98_2013-06-28</td>\n",
              "    </tr>\n",
              "    <tr>\n",
              "      <th>115060</th>\n",
              "      <td>517.150000</td>\n",
              "      <td>45_98_2013-07-05</td>\n",
              "    </tr>\n",
              "    <tr>\n",
              "      <th>115061</th>\n",
              "      <td>444.230000</td>\n",
              "      <td>45_98_2013-07-12</td>\n",
              "    </tr>\n",
              "    <tr>\n",
              "      <th>115062</th>\n",
              "      <td>782.718667</td>\n",
              "      <td>45_98_2013-07-19</td>\n",
              "    </tr>\n",
              "    <tr>\n",
              "      <th>115063</th>\n",
              "      <td>707.132667</td>\n",
              "      <td>45_98_2013-07-26</td>\n",
              "    </tr>\n",
              "  </tbody>\n",
              "</table>\n",
              "<p>115064 rows × 2 columns</p>\n",
              "</div>"
            ],
            "text/plain": [
              "              Weekly_Sales                Id\n",
              "Weekly_Sales  31497.887333    1_1_2012-11-02\n",
              "1             20138.044667    1_1_2012-11-09\n",
              "2             21315.454667    1_1_2012-11-16\n",
              "3             20618.887333    1_1_2012-11-23\n",
              "4             34817.332667    1_1_2012-11-30\n",
              "...                    ...               ...\n",
              "115059          522.139333  45_98_2013-06-28\n",
              "115060          517.150000  45_98_2013-07-05\n",
              "115061          444.230000  45_98_2013-07-12\n",
              "115062          782.718667  45_98_2013-07-19\n",
              "115063          707.132667  45_98_2013-07-26\n",
              "\n",
              "[115064 rows x 2 columns]"
            ]
          },
          "metadata": {
            "tags": []
          },
          "execution_count": 254
        }
      ]
    },
    {
      "cell_type": "code",
      "metadata": {
        "id": "6yGtW7ALHmXJ",
        "colab_type": "code",
        "colab": {
          "base_uri": "https://localhost:8080/",
          "height": 645
        },
        "outputId": "0c2b9d28-fc51-4bf8-be25-a6b2bd6e7b7c"
      },
      "source": [
        "fig, ax = plt.subplots(figsize=(20,10))\n",
        "\n",
        "df_main2_test.groupby(['Date']).sum()[0].plot(ax=ax)"
      ],
      "execution_count": 255,
      "outputs": [
        {
          "output_type": "execute_result",
          "data": {
            "text/plain": [
              "<matplotlib.axes._subplots.AxesSubplot at 0x7f09bfd32470>"
            ]
          },
          "metadata": {
            "tags": []
          },
          "execution_count": 255
        },
        {
          "output_type": "display_data",
          "data": {
            "image/png": "[encoded data removed]",
            "text/plain": [
              "<Figure size 1440x720 with 1 Axes>"
            ]
          },
          "metadata": {
            "tags": []
          }
        }
      ]
    },
    {
      "cell_type": "code",
      "metadata": {
        "id": "GpgTSPyBH4_w",
        "colab_type": "code",
        "colab": {}
      },
      "source": [
        "#the predicted values are also following a relative trend "
      ],
      "execution_count": 0,
      "outputs": []
    },
    {
      "cell_type": "code",
      "metadata": {
        "id": "v60EY9nHEyC2",
        "colab_type": "code",
        "colab": {}
      },
      "source": [
        "df_submission.to_csv('gdrive/My Drive/riddhi_submission_finl.csv')"
      ],
      "execution_count": 0,
      "outputs": []
    },
    {
      "cell_type": "code",
      "metadata": {
        "id": "Ii8bMCLyFC0p",
        "colab_type": "code",
        "colab": {}
      },
      "source": [
        ""
      ],
      "execution_count": 0,
      "outputs": []
    }
  ]
}